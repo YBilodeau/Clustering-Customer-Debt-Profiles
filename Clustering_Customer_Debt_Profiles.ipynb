{
 "cells": [
  {
   "cell_type": "markdown",
   "metadata": {
    "id": "64KrNUfAOlDd"
   },
   "source": [
    "# **Clustering - Customer Debt Profiles**\n",
    "\n",
    "- Yvon Bilodeau\n",
    "- June 2022"
   ]
  },
  {
   "cell_type": "markdown",
   "metadata": {
    "id": "qr7OHrm9QwcH"
   },
   "source": [
    "## **Objectives**\n"
   ]
  },
  {
   "cell_type": "markdown",
   "metadata": {
    "id": "Mho8CpzdSBU3"
   },
   "source": [
    "Clustering is a common unsupervised learning task in which we try to group our data into distinct clusters or groups based on common characteristics or patterns.\n",
    "\n",
    "- Key objectives:\n",
    "   - Inspect and Clean the data if necessary\n",
    "   - Perform an Exploratory Data Analysis\n",
    "   - Utilize SKLearn's KMeans to cluster the data into individual group clusters\n",
    "   - Describe the characteristics of each individual group cluster."
   ]
  },
  {
   "cell_type": "markdown",
   "metadata": {
    "id": "QwlzFMohQp_l"
   },
   "source": [
    "### **Source of data**"
   ]
  },
  {
   "cell_type": "markdown",
   "metadata": {
    "id": "A_xi5OE7R1H1"
   },
   "source": [
    "- [Data Source](https://github.com/Nikhil-Adithyan/Customer-Segmentation-with-K-Means)\n",
    "\n"
   ]
  },
  {
   "cell_type": "markdown",
   "metadata": {
    "id": "Z9vyP80nOg9d"
   },
   "source": [
    "## **Import Libraries | Load the Dataset**"
   ]
  },
  {
   "cell_type": "markdown",
   "metadata": {
    "id": "qbj062e9Ou6-"
   },
   "source": [
    "### **Import Libraries**"
   ]
  },
  {
   "cell_type": "code",
   "execution_count": 1,
   "metadata": {
    "id": "aUYz6fIbFWBJ"
   },
   "outputs": [],
   "source": [
    "# Import Libraries\n",
    "import numpy as np\n",
    "import pandas as pd\n",
    "import matplotlib.pyplot as plt\n",
    "import seaborn as sns\n",
    "import missingno as msno\n",
    "\n",
    "from sklearn.preprocessing import StandardScaler, OneHotEncoder\n",
    "from sklearn.impute import SimpleImputer\n",
    "from sklearn.compose import make_column_transformer, make_column_selector\n",
    "from sklearn.pipeline import make_pipeline\n",
    "\n",
    "from sklearn import set_config\n",
    "set_config(display='diagram')\n",
    "\n",
    "from sklearn.cluster import KMeans\n",
    "\n",
    "from sklearn.metrics import silhouette_score"
   ]
  },
  {
   "cell_type": "markdown",
   "metadata": {
    "id": "JOUAIYIJO29y"
   },
   "source": [
    "### **Load the Dataset**\n",
    "\n",
    "- Data downloaded from [link](https://s3.amazonaws.com/General_V88/boomyeah2015/codingdojo/curriculum/content/chapter/cust_seg.csv).\n"
   ]
  },
  {
   "cell_type": "code",
   "execution_count": 2,
   "metadata": {
    "id": "TrjtMPiZPPWL"
   },
   "outputs": [],
   "source": [
    "# Load the dataset.\n",
    "filename = \"https://s3.amazonaws.com/General_V88/boomyeah2015/codingdojo/curriculum/content/chapter/cust_seg.csv\"\n",
    "df = pd.read_csv(filename)"
   ]
  },
  {
   "cell_type": "markdown",
   "metadata": {
    "id": "MytoZVznPWPd"
   },
   "source": [
    "## **Inspect the Data**"
   ]
  },
  {
   "cell_type": "markdown",
   "metadata": {
    "id": "JVXIY3Sj_QN8"
   },
   "source": [
    "### Display the Row and Column Count"
   ]
  },
  {
   "cell_type": "code",
   "execution_count": 3,
   "metadata": {
    "colab": {
     "base_uri": "https://localhost:8080/"
    },
    "id": "fkts3k-KPm5a",
    "outputId": "4cf86957-082e-4297-f5de-3cb8113d3e0e"
   },
   "outputs": [
    {
     "name": "stdout",
     "output_type": "stream",
     "text": [
      "There are 850 rows, and 10 columns.\n",
      "The rows represent 850 observations, and the columns represent 10 features.\n"
     ]
    }
   ],
   "source": [
    "# Display the number of rows and columns for the dataframe\n",
    "df.shape\n",
    "print(f'There are {df.shape[0]} rows, and {df.shape[1]} columns.')\n",
    "print(f'The rows represent {df.shape[0]} observations, and the columns represent {df.shape[1]} features.')"
   ]
  },
  {
   "cell_type": "markdown",
   "metadata": {
    "id": "Npez_DLB_cH7"
   },
   "source": [
    "### Display Data Types"
   ]
  },
  {
   "cell_type": "code",
   "execution_count": 4,
   "metadata": {
    "colab": {
     "base_uri": "https://localhost:8080/"
    },
    "id": "DaLyMnan_LyF",
    "outputId": "af1f8866-656f-45f2-978d-82d0cb854e4c"
   },
   "outputs": [
    {
     "data": {
      "text/plain": [
       "Unnamed: 0           int64\n",
       "Customer Id          int64\n",
       "Age                  int64\n",
       "Edu                  int64\n",
       "Years Employed       int64\n",
       "Income               int64\n",
       "Card Debt          float64\n",
       "Other Debt         float64\n",
       "Defaulted          float64\n",
       "DebtIncomeRatio    float64\n",
       "dtype: object"
      ]
     },
     "execution_count": 4,
     "metadata": {},
     "output_type": "execute_result"
    }
   ],
   "source": [
    "# Display the names, non-null counts, and the datatypes for each column\n",
    "# Columns with mixed datatypes are identified as an object datatype\n",
    "df.dtypes"
   ]
  },
  {
   "cell_type": "markdown",
   "metadata": {},
   "source": [
    "- All features have numeric datatypes."
   ]
  },
  {
   "cell_type": "markdown",
   "metadata": {
    "id": "-ddijDWr_uq-"
   },
   "source": [
    "### Display Column Names, Count of Non-Null Values, and Data Types"
   ]
  },
  {
   "cell_type": "code",
   "execution_count": 5,
   "metadata": {
    "colab": {
     "base_uri": "https://localhost:8080/"
    },
    "id": "Fj8u4kjlGL8Z",
    "outputId": "357cd43c-7adf-4aec-9c81-0683c13e8e59"
   },
   "outputs": [
    {
     "name": "stdout",
     "output_type": "stream",
     "text": [
      "<class 'pandas.core.frame.DataFrame'>\n",
      "RangeIndex: 850 entries, 0 to 849\n",
      "Data columns (total 10 columns):\n",
      " #   Column           Non-Null Count  Dtype  \n",
      "---  ------           --------------  -----  \n",
      " 0   Unnamed: 0       850 non-null    int64  \n",
      " 1   Customer Id      850 non-null    int64  \n",
      " 2   Age              850 non-null    int64  \n",
      " 3   Edu              850 non-null    int64  \n",
      " 4   Years Employed   850 non-null    int64  \n",
      " 5   Income           850 non-null    int64  \n",
      " 6   Card Debt        850 non-null    float64\n",
      " 7   Other Debt       850 non-null    float64\n",
      " 8   Defaulted        700 non-null    float64\n",
      " 9   DebtIncomeRatio  850 non-null    float64\n",
      "dtypes: float64(4), int64(6)\n",
      "memory usage: 66.5 KB\n"
     ]
    }
   ],
   "source": [
    "# Display the column names, count of non-null values, and their datatypes.\n",
    "df.info()"
   ]
  },
  {
   "cell_type": "markdown",
   "metadata": {
    "id": "s3T6QYAOzGHl"
   },
   "source": [
    "### Display First (10) Rows"
   ]
  },
  {
   "cell_type": "code",
   "execution_count": 6,
   "metadata": {
    "colab": {
     "base_uri": "https://localhost:8080/",
     "height": 206
    },
    "id": "o2OINffGGKRh",
    "outputId": "31ca7de0-ea32-4f67-fb69-4c603dae5992"
   },
   "outputs": [
    {
     "data": {
      "text/html": [
       "<div>\n",
       "<style scoped>\n",
       "    .dataframe tbody tr th:only-of-type {\n",
       "        vertical-align: middle;\n",
       "    }\n",
       "\n",
       "    .dataframe tbody tr th {\n",
       "        vertical-align: top;\n",
       "    }\n",
       "\n",
       "    .dataframe thead th {\n",
       "        text-align: right;\n",
       "    }\n",
       "</style>\n",
       "<table border=\"1\" class=\"dataframe\">\n",
       "  <thead>\n",
       "    <tr style=\"text-align: right;\">\n",
       "      <th></th>\n",
       "      <th>Unnamed: 0</th>\n",
       "      <th>Customer Id</th>\n",
       "      <th>Age</th>\n",
       "      <th>Edu</th>\n",
       "      <th>Years Employed</th>\n",
       "      <th>Income</th>\n",
       "      <th>Card Debt</th>\n",
       "      <th>Other Debt</th>\n",
       "      <th>Defaulted</th>\n",
       "      <th>DebtIncomeRatio</th>\n",
       "    </tr>\n",
       "  </thead>\n",
       "  <tbody>\n",
       "    <tr>\n",
       "      <th>0</th>\n",
       "      <td>0</td>\n",
       "      <td>1</td>\n",
       "      <td>41</td>\n",
       "      <td>2</td>\n",
       "      <td>6</td>\n",
       "      <td>19</td>\n",
       "      <td>0.124</td>\n",
       "      <td>1.073</td>\n",
       "      <td>0.0</td>\n",
       "      <td>6.3</td>\n",
       "    </tr>\n",
       "    <tr>\n",
       "      <th>1</th>\n",
       "      <td>1</td>\n",
       "      <td>2</td>\n",
       "      <td>47</td>\n",
       "      <td>1</td>\n",
       "      <td>26</td>\n",
       "      <td>100</td>\n",
       "      <td>4.582</td>\n",
       "      <td>8.218</td>\n",
       "      <td>0.0</td>\n",
       "      <td>12.8</td>\n",
       "    </tr>\n",
       "    <tr>\n",
       "      <th>2</th>\n",
       "      <td>2</td>\n",
       "      <td>3</td>\n",
       "      <td>33</td>\n",
       "      <td>2</td>\n",
       "      <td>10</td>\n",
       "      <td>57</td>\n",
       "      <td>6.111</td>\n",
       "      <td>5.802</td>\n",
       "      <td>1.0</td>\n",
       "      <td>20.9</td>\n",
       "    </tr>\n",
       "    <tr>\n",
       "      <th>3</th>\n",
       "      <td>3</td>\n",
       "      <td>4</td>\n",
       "      <td>29</td>\n",
       "      <td>2</td>\n",
       "      <td>4</td>\n",
       "      <td>19</td>\n",
       "      <td>0.681</td>\n",
       "      <td>0.516</td>\n",
       "      <td>0.0</td>\n",
       "      <td>6.3</td>\n",
       "    </tr>\n",
       "    <tr>\n",
       "      <th>4</th>\n",
       "      <td>4</td>\n",
       "      <td>5</td>\n",
       "      <td>47</td>\n",
       "      <td>1</td>\n",
       "      <td>31</td>\n",
       "      <td>253</td>\n",
       "      <td>9.308</td>\n",
       "      <td>8.908</td>\n",
       "      <td>0.0</td>\n",
       "      <td>7.2</td>\n",
       "    </tr>\n",
       "    <tr>\n",
       "      <th>5</th>\n",
       "      <td>5</td>\n",
       "      <td>6</td>\n",
       "      <td>40</td>\n",
       "      <td>1</td>\n",
       "      <td>23</td>\n",
       "      <td>81</td>\n",
       "      <td>0.998</td>\n",
       "      <td>7.831</td>\n",
       "      <td>NaN</td>\n",
       "      <td>10.9</td>\n",
       "    </tr>\n",
       "    <tr>\n",
       "      <th>6</th>\n",
       "      <td>6</td>\n",
       "      <td>7</td>\n",
       "      <td>38</td>\n",
       "      <td>2</td>\n",
       "      <td>4</td>\n",
       "      <td>56</td>\n",
       "      <td>0.442</td>\n",
       "      <td>0.454</td>\n",
       "      <td>0.0</td>\n",
       "      <td>1.6</td>\n",
       "    </tr>\n",
       "    <tr>\n",
       "      <th>7</th>\n",
       "      <td>7</td>\n",
       "      <td>8</td>\n",
       "      <td>42</td>\n",
       "      <td>3</td>\n",
       "      <td>0</td>\n",
       "      <td>64</td>\n",
       "      <td>0.279</td>\n",
       "      <td>3.945</td>\n",
       "      <td>0.0</td>\n",
       "      <td>6.6</td>\n",
       "    </tr>\n",
       "    <tr>\n",
       "      <th>8</th>\n",
       "      <td>8</td>\n",
       "      <td>9</td>\n",
       "      <td>26</td>\n",
       "      <td>1</td>\n",
       "      <td>5</td>\n",
       "      <td>18</td>\n",
       "      <td>0.575</td>\n",
       "      <td>2.215</td>\n",
       "      <td>NaN</td>\n",
       "      <td>15.5</td>\n",
       "    </tr>\n",
       "    <tr>\n",
       "      <th>9</th>\n",
       "      <td>9</td>\n",
       "      <td>10</td>\n",
       "      <td>47</td>\n",
       "      <td>3</td>\n",
       "      <td>23</td>\n",
       "      <td>115</td>\n",
       "      <td>0.653</td>\n",
       "      <td>3.947</td>\n",
       "      <td>0.0</td>\n",
       "      <td>4.0</td>\n",
       "    </tr>\n",
       "  </tbody>\n",
       "</table>\n",
       "</div>"
      ],
      "text/plain": [
       "   Unnamed: 0  Customer Id  Age  Edu  Years Employed  Income  Card Debt  \\\n",
       "0           0            1   41    2               6      19      0.124   \n",
       "1           1            2   47    1              26     100      4.582   \n",
       "2           2            3   33    2              10      57      6.111   \n",
       "3           3            4   29    2               4      19      0.681   \n",
       "4           4            5   47    1              31     253      9.308   \n",
       "5           5            6   40    1              23      81      0.998   \n",
       "6           6            7   38    2               4      56      0.442   \n",
       "7           7            8   42    3               0      64      0.279   \n",
       "8           8            9   26    1               5      18      0.575   \n",
       "9           9           10   47    3              23     115      0.653   \n",
       "\n",
       "   Other Debt  Defaulted  DebtIncomeRatio  \n",
       "0       1.073        0.0              6.3  \n",
       "1       8.218        0.0             12.8  \n",
       "2       5.802        1.0             20.9  \n",
       "3       0.516        0.0              6.3  \n",
       "4       8.908        0.0              7.2  \n",
       "5       7.831        NaN             10.9  \n",
       "6       0.454        0.0              1.6  \n",
       "7       3.945        0.0              6.6  \n",
       "8       2.215        NaN             15.5  \n",
       "9       3.947        0.0              4.0  "
      ]
     },
     "execution_count": 6,
     "metadata": {},
     "output_type": "execute_result"
    }
   ],
   "source": [
    "# Display the first (10) rows of the dataframe \n",
    "df.head(10)"
   ]
  },
  {
   "cell_type": "markdown",
   "metadata": {
    "id": "PR7F91WVziI0"
   },
   "source": [
    "- Data appears to have loaded correctly."
   ]
  },
  {
   "cell_type": "markdown",
   "metadata": {
    "id": "YHb4d4c9nPyz"
   },
   "source": [
    "## **Clean the Data**"
   ]
  },
  {
   "cell_type": "code",
   "execution_count": 7,
   "metadata": {
    "colab": {
     "base_uri": "https://localhost:8080/",
     "height": 300
    },
    "id": "U13vsVNZbFok",
    "outputId": "2f4b05d9-98f6-424b-afda-0a8f93811b62"
   },
   "outputs": [
    {
     "data": {
      "text/html": [
       "<div>\n",
       "<style scoped>\n",
       "    .dataframe tbody tr th:only-of-type {\n",
       "        vertical-align: middle;\n",
       "    }\n",
       "\n",
       "    .dataframe tbody tr th {\n",
       "        vertical-align: top;\n",
       "    }\n",
       "\n",
       "    .dataframe thead th {\n",
       "        text-align: right;\n",
       "    }\n",
       "</style>\n",
       "<table border=\"1\" class=\"dataframe\">\n",
       "  <thead>\n",
       "    <tr style=\"text-align: right;\">\n",
       "      <th></th>\n",
       "      <th>Unnamed: 0</th>\n",
       "      <th>Customer Id</th>\n",
       "      <th>Age</th>\n",
       "      <th>Edu</th>\n",
       "      <th>Years Employed</th>\n",
       "      <th>Income</th>\n",
       "      <th>Card Debt</th>\n",
       "      <th>Other Debt</th>\n",
       "      <th>Defaulted</th>\n",
       "      <th>DebtIncomeRatio</th>\n",
       "    </tr>\n",
       "  </thead>\n",
       "  <tbody>\n",
       "    <tr>\n",
       "      <th>count</th>\n",
       "      <td>850.00000</td>\n",
       "      <td>850.00000</td>\n",
       "      <td>850.000000</td>\n",
       "      <td>850.000000</td>\n",
       "      <td>850.000000</td>\n",
       "      <td>850.000000</td>\n",
       "      <td>850.000000</td>\n",
       "      <td>850.000000</td>\n",
       "      <td>700.000000</td>\n",
       "      <td>850.000000</td>\n",
       "    </tr>\n",
       "    <tr>\n",
       "      <th>mean</th>\n",
       "      <td>424.50000</td>\n",
       "      <td>425.50000</td>\n",
       "      <td>35.029412</td>\n",
       "      <td>1.710588</td>\n",
       "      <td>8.565882</td>\n",
       "      <td>46.675294</td>\n",
       "      <td>1.576820</td>\n",
       "      <td>3.078773</td>\n",
       "      <td>0.261429</td>\n",
       "      <td>10.171647</td>\n",
       "    </tr>\n",
       "    <tr>\n",
       "      <th>std</th>\n",
       "      <td>245.51816</td>\n",
       "      <td>245.51816</td>\n",
       "      <td>8.041432</td>\n",
       "      <td>0.927784</td>\n",
       "      <td>6.777884</td>\n",
       "      <td>38.543054</td>\n",
       "      <td>2.125843</td>\n",
       "      <td>3.398799</td>\n",
       "      <td>0.439727</td>\n",
       "      <td>6.719441</td>\n",
       "    </tr>\n",
       "    <tr>\n",
       "      <th>min</th>\n",
       "      <td>0.00000</td>\n",
       "      <td>1.00000</td>\n",
       "      <td>20.000000</td>\n",
       "      <td>1.000000</td>\n",
       "      <td>0.000000</td>\n",
       "      <td>13.000000</td>\n",
       "      <td>0.012000</td>\n",
       "      <td>0.046000</td>\n",
       "      <td>0.000000</td>\n",
       "      <td>0.100000</td>\n",
       "    </tr>\n",
       "    <tr>\n",
       "      <th>25%</th>\n",
       "      <td>212.25000</td>\n",
       "      <td>213.25000</td>\n",
       "      <td>29.000000</td>\n",
       "      <td>1.000000</td>\n",
       "      <td>3.000000</td>\n",
       "      <td>24.000000</td>\n",
       "      <td>0.382500</td>\n",
       "      <td>1.045750</td>\n",
       "      <td>0.000000</td>\n",
       "      <td>5.100000</td>\n",
       "    </tr>\n",
       "    <tr>\n",
       "      <th>50%</th>\n",
       "      <td>424.50000</td>\n",
       "      <td>425.50000</td>\n",
       "      <td>34.000000</td>\n",
       "      <td>1.000000</td>\n",
       "      <td>7.000000</td>\n",
       "      <td>35.000000</td>\n",
       "      <td>0.885000</td>\n",
       "      <td>2.003000</td>\n",
       "      <td>0.000000</td>\n",
       "      <td>8.700000</td>\n",
       "    </tr>\n",
       "    <tr>\n",
       "      <th>75%</th>\n",
       "      <td>636.75000</td>\n",
       "      <td>637.75000</td>\n",
       "      <td>41.000000</td>\n",
       "      <td>2.000000</td>\n",
       "      <td>13.000000</td>\n",
       "      <td>55.750000</td>\n",
       "      <td>1.898500</td>\n",
       "      <td>3.903250</td>\n",
       "      <td>1.000000</td>\n",
       "      <td>13.800000</td>\n",
       "    </tr>\n",
       "    <tr>\n",
       "      <th>max</th>\n",
       "      <td>849.00000</td>\n",
       "      <td>850.00000</td>\n",
       "      <td>56.000000</td>\n",
       "      <td>5.000000</td>\n",
       "      <td>33.000000</td>\n",
       "      <td>446.000000</td>\n",
       "      <td>20.561000</td>\n",
       "      <td>35.197000</td>\n",
       "      <td>1.000000</td>\n",
       "      <td>41.300000</td>\n",
       "    </tr>\n",
       "  </tbody>\n",
       "</table>\n",
       "</div>"
      ],
      "text/plain": [
       "       Unnamed: 0  Customer Id         Age         Edu  Years Employed  \\\n",
       "count   850.00000    850.00000  850.000000  850.000000      850.000000   \n",
       "mean    424.50000    425.50000   35.029412    1.710588        8.565882   \n",
       "std     245.51816    245.51816    8.041432    0.927784        6.777884   \n",
       "min       0.00000      1.00000   20.000000    1.000000        0.000000   \n",
       "25%     212.25000    213.25000   29.000000    1.000000        3.000000   \n",
       "50%     424.50000    425.50000   34.000000    1.000000        7.000000   \n",
       "75%     636.75000    637.75000   41.000000    2.000000       13.000000   \n",
       "max     849.00000    850.00000   56.000000    5.000000       33.000000   \n",
       "\n",
       "           Income   Card Debt  Other Debt   Defaulted  DebtIncomeRatio  \n",
       "count  850.000000  850.000000  850.000000  700.000000       850.000000  \n",
       "mean    46.675294    1.576820    3.078773    0.261429        10.171647  \n",
       "std     38.543054    2.125843    3.398799    0.439727         6.719441  \n",
       "min     13.000000    0.012000    0.046000    0.000000         0.100000  \n",
       "25%     24.000000    0.382500    1.045750    0.000000         5.100000  \n",
       "50%     35.000000    0.885000    2.003000    0.000000         8.700000  \n",
       "75%     55.750000    1.898500    3.903250    1.000000        13.800000  \n",
       "max    446.000000   20.561000   35.197000    1.000000        41.300000  "
      ]
     },
     "execution_count": 7,
     "metadata": {},
     "output_type": "execute_result"
    }
   ],
   "source": [
    "# Display the descriptive statistics for the numeric columns \n",
    "df.describe()"
   ]
  },
  {
   "cell_type": "markdown",
   "metadata": {
    "id": "JB_TojXL5hhm"
   },
   "source": [
    "### **Remove Unnecessary Columns**"
   ]
  },
  {
   "cell_type": "code",
   "execution_count": 8,
   "metadata": {
    "id": "AnIeIgBq9lSe"
   },
   "outputs": [],
   "source": [
    "# Drop columns\n",
    "df.drop(columns = ['Unnamed: 0', 'Customer Id', 'Other Debt'], inplace=True)"
   ]
  },
  {
   "cell_type": "markdown",
   "metadata": {
    "id": "VieowvYSeLMl"
   },
   "source": [
    "- Confirm column has been dropped."
   ]
  },
  {
   "cell_type": "code",
   "execution_count": 9,
   "metadata": {
    "colab": {
     "base_uri": "https://localhost:8080/",
     "height": 206
    },
    "id": "G5fcWw0Odytt",
    "outputId": "b04334c1-74a2-498f-f7c1-85164bced04f"
   },
   "outputs": [
    {
     "data": {
      "text/html": [
       "<div>\n",
       "<style scoped>\n",
       "    .dataframe tbody tr th:only-of-type {\n",
       "        vertical-align: middle;\n",
       "    }\n",
       "\n",
       "    .dataframe tbody tr th {\n",
       "        vertical-align: top;\n",
       "    }\n",
       "\n",
       "    .dataframe thead th {\n",
       "        text-align: right;\n",
       "    }\n",
       "</style>\n",
       "<table border=\"1\" class=\"dataframe\">\n",
       "  <thead>\n",
       "    <tr style=\"text-align: right;\">\n",
       "      <th></th>\n",
       "      <th>Age</th>\n",
       "      <th>Edu</th>\n",
       "      <th>Years Employed</th>\n",
       "      <th>Income</th>\n",
       "      <th>Card Debt</th>\n",
       "      <th>Defaulted</th>\n",
       "      <th>DebtIncomeRatio</th>\n",
       "    </tr>\n",
       "  </thead>\n",
       "  <tbody>\n",
       "    <tr>\n",
       "      <th>0</th>\n",
       "      <td>41</td>\n",
       "      <td>2</td>\n",
       "      <td>6</td>\n",
       "      <td>19</td>\n",
       "      <td>0.124</td>\n",
       "      <td>0.0</td>\n",
       "      <td>6.3</td>\n",
       "    </tr>\n",
       "    <tr>\n",
       "      <th>1</th>\n",
       "      <td>47</td>\n",
       "      <td>1</td>\n",
       "      <td>26</td>\n",
       "      <td>100</td>\n",
       "      <td>4.582</td>\n",
       "      <td>0.0</td>\n",
       "      <td>12.8</td>\n",
       "    </tr>\n",
       "    <tr>\n",
       "      <th>2</th>\n",
       "      <td>33</td>\n",
       "      <td>2</td>\n",
       "      <td>10</td>\n",
       "      <td>57</td>\n",
       "      <td>6.111</td>\n",
       "      <td>1.0</td>\n",
       "      <td>20.9</td>\n",
       "    </tr>\n",
       "    <tr>\n",
       "      <th>3</th>\n",
       "      <td>29</td>\n",
       "      <td>2</td>\n",
       "      <td>4</td>\n",
       "      <td>19</td>\n",
       "      <td>0.681</td>\n",
       "      <td>0.0</td>\n",
       "      <td>6.3</td>\n",
       "    </tr>\n",
       "    <tr>\n",
       "      <th>4</th>\n",
       "      <td>47</td>\n",
       "      <td>1</td>\n",
       "      <td>31</td>\n",
       "      <td>253</td>\n",
       "      <td>9.308</td>\n",
       "      <td>0.0</td>\n",
       "      <td>7.2</td>\n",
       "    </tr>\n",
       "  </tbody>\n",
       "</table>\n",
       "</div>"
      ],
      "text/plain": [
       "   Age  Edu  Years Employed  Income  Card Debt  Defaulted  DebtIncomeRatio\n",
       "0   41    2               6      19      0.124        0.0              6.3\n",
       "1   47    1              26     100      4.582        0.0             12.8\n",
       "2   33    2              10      57      6.111        1.0             20.9\n",
       "3   29    2               4      19      0.681        0.0              6.3\n",
       "4   47    1              31     253      9.308        0.0              7.2"
      ]
     },
     "execution_count": 9,
     "metadata": {},
     "output_type": "execute_result"
    }
   ],
   "source": [
    "# Display the first (5) rows of the dataframe\n",
    "# to confirm columns have been dropped\n",
    "df.head()"
   ]
  },
  {
   "cell_type": "markdown",
   "metadata": {
    "id": "vv_rktD5nYuP"
   },
   "source": [
    "### **Remove Unecessary Rows**"
   ]
  },
  {
   "cell_type": "code",
   "execution_count": 10,
   "metadata": {
    "colab": {
     "base_uri": "https://localhost:8080/"
    },
    "id": "1LE-ina0VEsw",
    "outputId": "7eb80846-3f41-46c8-f595-f315b6dfcf76"
   },
   "outputs": [
    {
     "name": "stdout",
     "output_type": "stream",
     "text": [
      "There are 0 duplicate rows.\n"
     ]
    }
   ],
   "source": [
    "# Count the number of duplicate rows\n",
    "print(f'There are {df.duplicated().sum()} duplicate rows.')"
   ]
  },
  {
   "cell_type": "markdown",
   "metadata": {
    "id": "3Obw09ip0C_q"
   },
   "source": [
    "- No duplicates were found or dropped."
   ]
  },
  {
   "cell_type": "markdown",
   "metadata": {
    "id": "d-728pLSPPRf"
   },
   "source": [
    "### **Missing Values**"
   ]
  },
  {
   "cell_type": "code",
   "execution_count": 11,
   "metadata": {
    "colab": {
     "base_uri": "https://localhost:8080/",
     "height": 303
    },
    "id": "PDDJB1iTGSi5",
    "outputId": "87cbf992-561f-4be2-80d1-811c18a71107"
   },
   "outputs": [
    {
     "data": {
      "image/png": "[encoded data removed]",
      "text/plain": [
       "<Figure size 1152x216 with 2 Axes>"
      ]
     },
     "metadata": {
      "needs_background": "light"
     },
     "output_type": "display_data"
    }
   ],
   "source": [
    "# Visualize missing values by column\n",
    "msno.matrix(df, figsize=(16,3), labels=True, fontsize=12, sort=\"descending\", color=(0,0,0));"
   ]
  },
  {
   "cell_type": "code",
   "execution_count": 12,
   "metadata": {
    "colab": {
     "base_uri": "https://localhost:8080/"
    },
    "id": "KaEA3qPZVdMw",
    "outputId": "fa3d1ec2-c257-4155-972a-5f88cd5efb17"
   },
   "outputs": [
    {
     "name": "stdout",
     "output_type": "stream",
     "text": [
      "Age                  0\n",
      "Edu                  0\n",
      "Years Employed       0\n",
      "Income               0\n",
      "Card Debt            0\n",
      "Defaulted          150\n",
      "DebtIncomeRatio      0\n",
      "dtype: int64\n"
     ]
    }
   ],
   "source": [
    "# Display the count of missing values by column\n",
    "print(df.isna().sum())"
   ]
  },
  {
   "cell_type": "markdown",
   "metadata": {
    "id": "9WqZt5ZVPcn7"
   },
   "source": [
    "- 'Defaulted' column has 150 missing values."
   ]
  },
  {
   "cell_type": "markdown",
   "metadata": {
    "id": "WaD_LRBJ51sT"
   },
   "source": [
    "#### **Statistics Function**"
   ]
  },
  {
   "cell_type": "code",
   "execution_count": 13,
   "metadata": {
    "id": "5vg7rxeHLiXa"
   },
   "outputs": [],
   "source": [
    "# Creates a function to display supplemental statistics\n",
    "def column_statistics(column_name, max_unique_values_to_disply=20):\n",
    "    # Display the count of missing values for this column.\n",
    "    print(f'Missing Values: {df[column_name].isna().sum()} ({round((df[column_name].isna().sum())/(df.shape[0])*100,1)})%')\n",
    "\n",
    "    # Determine Outliers - Only if this is a numeric column\n",
    "    if (df[column_name].dtype == 'int64') | (df[column_name].dtype == 'float64'):\n",
    "        # Create outlier filters\n",
    "        q1 = df[column_name].quantile(0.25) # 25th percentile\n",
    "        q3 = df[column_name].quantile(0.75) # 75th percentile\n",
    "        iqr = q3 - q1 # Interquartile range\n",
    "        low_limit = q1 - (1.5 * iqr) # low limit\n",
    "        high_limit = q3 + (1.5 * iqr) # high limit\n",
    "        # Create outlier dataframes\n",
    "        low_df = df[(df[column_name] < low_limit)]\n",
    "        high_df = df[(df[column_name] > high_limit)]\n",
    "        # Calculate the outlier counts and percentages\n",
    "        low_oulier_count = low_df.shape[0]\n",
    "        low_outlier_percentge = round(((low_oulier_count)/(df.shape[0])*100),1)\n",
    "        high_oulier_count = high_df.shape[0]\n",
    "        high_outlier_percentge = round(((high_oulier_count)/(df.shape[0])*100),1)\n",
    "        # Display the outlier counts\n",
    "        print(f'Outliers: {low_oulier_count} ({low_outlier_percentge})% low, {high_oulier_count} ({high_outlier_percentge})% high')\n",
    "        \n",
    "    # Display the count of unique values for this column\n",
    "    print(f'Unique values: {df[column_name].nunique()}')\n",
    "\n",
    "    # Display the unique values including Nan and their counts for this column,\n",
    "    # if the number of unique values is below the function parameter\n",
    "    if df[column_name].nunique() < max_unique_values_to_disply:\n",
    "        print(df[column_name].value_counts(dropna=False))"
   ]
  },
  {
   "cell_type": "markdown",
   "metadata": {
    "id": "Kj8BJB0VKel0"
   },
   "source": [
    "#### **Numeric Columns**"
   ]
  },
  {
   "cell_type": "markdown",
   "metadata": {
    "id": "fDMFy6yQNv83"
   },
   "source": [
    "##### **Defaulted column**"
   ]
  },
  {
   "cell_type": "code",
   "execution_count": 14,
   "metadata": {
    "colab": {
     "base_uri": "https://localhost:8080/"
    },
    "id": "Cc5wfQjmOggr",
    "outputId": "b2824e25-c6ad-4b99-ed6f-139e4094715f"
   },
   "outputs": [
    {
     "name": "stdout",
     "output_type": "stream",
     "text": [
      "Missing Values: 150 (17.6)%\n",
      "Outliers: 0 (0.0)% low, 0 (0.0)% high\n",
      "Unique values: 2\n",
      "0.0    517\n",
      "1.0    183\n",
      "NaN    150\n",
      "Name: Defaulted, dtype: int64\n"
     ]
    }
   ],
   "source": [
    "# Display function's supplemental statistics\n",
    "column_statistics('Defaulted', 1000)"
   ]
  },
  {
   "cell_type": "markdown",
   "metadata": {
    "id": "XhwdovjN6EeN"
   },
   "source": [
    "- Defaulted column is boolean 0 (Negative) and 1 (Positive).\n",
    "- If we replace the 'NaN' values with 'Unkown', '0' with 'Negative', and '1' with 'Positive', we will not introduce bias."
   ]
  },
  {
   "cell_type": "code",
   "execution_count": 15,
   "metadata": {
    "id": "uNPTZHZMAbeM"
   },
   "outputs": [],
   "source": [
    "# Replace NaN values with 'Unknown' value\n",
    "df.Defaulted.fillna('Unknown',inplace=True)"
   ]
  },
  {
   "cell_type": "code",
   "execution_count": 16,
   "metadata": {
    "id": "cvikEjBpEKv3"
   },
   "outputs": [],
   "source": [
    "# Update the column datatype to a string datatype\n",
    "df['Defaulted'] = df['Defaulted'].astype(str)"
   ]
  },
  {
   "cell_type": "code",
   "execution_count": 17,
   "metadata": {
    "colab": {
     "base_uri": "https://localhost:8080/"
    },
    "id": "9n-uBsUOAm5Q",
    "outputId": "ccd0a217-a1fa-480e-d04f-92239299d029"
   },
   "outputs": [
    {
     "name": "stdout",
     "output_type": "stream",
     "text": [
      "Missing Values: 0 (0.0)%\n",
      "Unique values: 3\n",
      "0.0        517\n",
      "1.0        183\n",
      "Unknown    150\n",
      "Name: Defaulted, dtype: int64\n"
     ]
    }
   ],
   "source": [
    "# Display function's supplemental statistics\n",
    "column_statistics('Defaulted', 5)"
   ]
  },
  {
   "cell_type": "code",
   "execution_count": 18,
   "metadata": {
    "id": "rk9vhH_x8lnO"
   },
   "outputs": [],
   "source": [
    "# Define a dictionary with key/value pairs and use it to replace values\n",
    "dict = {\"0.0\": 'Negative', \"1.0\": 'Positive'}\n",
    "df.replace({'Defaulted': dict}, inplace = True)"
   ]
  },
  {
   "cell_type": "code",
   "execution_count": 19,
   "metadata": {
    "colab": {
     "base_uri": "https://localhost:8080/"
    },
    "id": "1kSqqhe-8rfX",
    "outputId": "55519f28-a001-4167-f3fb-bbeb1921ab87",
    "scrolled": true
   },
   "outputs": [
    {
     "name": "stdout",
     "output_type": "stream",
     "text": [
      "Missing Values: 0 (0.0)%\n",
      "Unique values: 3\n",
      "Negative    517\n",
      "Positive    183\n",
      "Unknown     150\n",
      "Name: Defaulted, dtype: int64\n"
     ]
    }
   ],
   "source": [
    "# Display function's supplemental column statistics\n",
    "column_statistics('Defaulted', 5)"
   ]
  },
  {
   "cell_type": "markdown",
   "metadata": {
    "id": "beYr7ZdUsr62"
   },
   "source": [
    "### **Inspect Column Datatypes for Errors**"
   ]
  },
  {
   "cell_type": "code",
   "execution_count": 20,
   "metadata": {
    "colab": {
     "base_uri": "https://localhost:8080/"
    },
    "id": "_S_WS97RtGV1",
    "outputId": "ddacb181-8eaa-46d6-dcb5-661d733233b4"
   },
   "outputs": [
    {
     "data": {
      "text/plain": [
       "Age                  int64\n",
       "Edu                  int64\n",
       "Years Employed       int64\n",
       "Income               int64\n",
       "Card Debt          float64\n",
       "Defaulted           object\n",
       "DebtIncomeRatio    float64\n",
       "dtype: object"
      ]
     },
     "execution_count": 20,
     "metadata": {},
     "output_type": "execute_result"
    }
   ],
   "source": [
    " # Ensure all columns match the data types listed in the data dictionary.\n",
    "df.dtypes"
   ]
  },
  {
   "cell_type": "code",
   "execution_count": 21,
   "metadata": {
    "colab": {
     "base_uri": "https://localhost:8080/",
     "height": 206
    },
    "id": "a0y8MgMXtXaU",
    "outputId": "05801911-a092-45a4-b087-0171b954884b"
   },
   "outputs": [
    {
     "data": {
      "text/html": [
       "<div>\n",
       "<style scoped>\n",
       "    .dataframe tbody tr th:only-of-type {\n",
       "        vertical-align: middle;\n",
       "    }\n",
       "\n",
       "    .dataframe tbody tr th {\n",
       "        vertical-align: top;\n",
       "    }\n",
       "\n",
       "    .dataframe thead th {\n",
       "        text-align: right;\n",
       "    }\n",
       "</style>\n",
       "<table border=\"1\" class=\"dataframe\">\n",
       "  <thead>\n",
       "    <tr style=\"text-align: right;\">\n",
       "      <th></th>\n",
       "      <th>Age</th>\n",
       "      <th>Edu</th>\n",
       "      <th>Years Employed</th>\n",
       "      <th>Income</th>\n",
       "      <th>Card Debt</th>\n",
       "      <th>Defaulted</th>\n",
       "      <th>DebtIncomeRatio</th>\n",
       "    </tr>\n",
       "  </thead>\n",
       "  <tbody>\n",
       "    <tr>\n",
       "      <th>0</th>\n",
       "      <td>41</td>\n",
       "      <td>2</td>\n",
       "      <td>6</td>\n",
       "      <td>19</td>\n",
       "      <td>0.124</td>\n",
       "      <td>Negative</td>\n",
       "      <td>6.3</td>\n",
       "    </tr>\n",
       "    <tr>\n",
       "      <th>1</th>\n",
       "      <td>47</td>\n",
       "      <td>1</td>\n",
       "      <td>26</td>\n",
       "      <td>100</td>\n",
       "      <td>4.582</td>\n",
       "      <td>Negative</td>\n",
       "      <td>12.8</td>\n",
       "    </tr>\n",
       "    <tr>\n",
       "      <th>2</th>\n",
       "      <td>33</td>\n",
       "      <td>2</td>\n",
       "      <td>10</td>\n",
       "      <td>57</td>\n",
       "      <td>6.111</td>\n",
       "      <td>Positive</td>\n",
       "      <td>20.9</td>\n",
       "    </tr>\n",
       "    <tr>\n",
       "      <th>3</th>\n",
       "      <td>29</td>\n",
       "      <td>2</td>\n",
       "      <td>4</td>\n",
       "      <td>19</td>\n",
       "      <td>0.681</td>\n",
       "      <td>Negative</td>\n",
       "      <td>6.3</td>\n",
       "    </tr>\n",
       "    <tr>\n",
       "      <th>4</th>\n",
       "      <td>47</td>\n",
       "      <td>1</td>\n",
       "      <td>31</td>\n",
       "      <td>253</td>\n",
       "      <td>9.308</td>\n",
       "      <td>Negative</td>\n",
       "      <td>7.2</td>\n",
       "    </tr>\n",
       "  </tbody>\n",
       "</table>\n",
       "</div>"
      ],
      "text/plain": [
       "   Age  Edu  Years Employed  Income  Card Debt Defaulted  DebtIncomeRatio\n",
       "0   41    2               6      19      0.124  Negative              6.3\n",
       "1   47    1              26     100      4.582  Negative             12.8\n",
       "2   33    2              10      57      6.111  Positive             20.9\n",
       "3   29    2               4      19      0.681  Negative              6.3\n",
       "4   47    1              31     253      9.308  Negative              7.2"
      ]
     },
     "execution_count": 21,
     "metadata": {},
     "output_type": "execute_result"
    }
   ],
   "source": [
    "# Display the forst (5) rows\n",
    "df.head()"
   ]
  },
  {
   "cell_type": "markdown",
   "metadata": {
    "id": "WVPSQQU49EBm"
   },
   "source": [
    "- All columns are confirmed to match their datatypes."
   ]
  },
  {
   "cell_type": "markdown",
   "metadata": {
    "id": "vrX847SqU8en"
   },
   "source": [
    "### **Inspect Column Names for Errors**"
   ]
  },
  {
   "cell_type": "markdown",
   "metadata": {
    "id": "e6WqbzSg_odt"
   },
   "source": [
    "- Check for common syntax errors which may include extra white spaces at the beginning or end of strings or column names.\n",
    "- Check for typos or inconsistencies in strings that need to be fixed.(example: cat, Cat, cats)"
   ]
  },
  {
   "cell_type": "markdown",
   "metadata": {
    "id": "lui8xXvM9CIs"
   },
   "source": [
    "#### **Object Datatypes**"
   ]
  },
  {
   "cell_type": "code",
   "execution_count": 22,
   "metadata": {
    "colab": {
     "base_uri": "https://localhost:8080/"
    },
    "id": "_tLJC_-7xPnX",
    "outputId": "a70d69c3-9c5a-4d45-c011-0ec4b46207d0"
   },
   "outputs": [
    {
     "data": {
      "text/plain": [
       "Index(['Defaulted'], dtype='object')"
      ]
     },
     "execution_count": 22,
     "metadata": {},
     "output_type": "execute_result"
    }
   ],
   "source": [
    "# Display column names for object datatypes\n",
    "dtypes = df.dtypes\n",
    "str_cols = dtypes[dtypes=='object'].index\n",
    "str_cols"
   ]
  },
  {
   "cell_type": "markdown",
   "metadata": {
    "id": "7CrvifkfauXz"
   },
   "source": [
    "- No issues noted."
   ]
  },
  {
   "cell_type": "markdown",
   "metadata": {
    "id": "nHncv5lKVoiJ"
   },
   "source": [
    "#### **Numerical Datatypes**"
   ]
  },
  {
   "cell_type": "code",
   "execution_count": 23,
   "metadata": {
    "colab": {
     "base_uri": "https://localhost:8080/"
    },
    "id": "UEcuRwcB_cJb",
    "outputId": "dc2a3041-a340-46d6-c9cd-81675cad090b"
   },
   "outputs": [
    {
     "data": {
      "text/plain": [
       "Index(['Age', 'Edu', 'Years Employed', 'Income', 'Card Debt',\n",
       "       'DebtIncomeRatio'],\n",
       "      dtype='object')"
      ]
     },
     "execution_count": 23,
     "metadata": {},
     "output_type": "execute_result"
    }
   ],
   "source": [
    "# Display the column names for the numeric columns\n",
    "dtypes = df.dtypes\n",
    "str_cols = dtypes[(dtypes == \"float64\") | (dtypes == \"int64\")].index\n",
    "str_cols"
   ]
  },
  {
   "cell_type": "markdown",
   "metadata": {
    "id": "QNjXbNFzaxo2"
   },
   "source": [
    "- No issues noted."
   ]
  },
  {
   "cell_type": "markdown",
   "metadata": {
    "id": "hE1XF-SoFZ-N"
   },
   "source": [
    "### **Inspect Column Values for Errors**"
   ]
  },
  {
   "cell_type": "markdown",
   "metadata": {
    "id": "IlXi6yavTB57"
   },
   "source": [
    "#### **Object Datatypes**"
   ]
  },
  {
   "cell_type": "markdown",
   "metadata": {
    "id": "D0IwaQTV0Y20"
   },
   "source": [
    "- Check for common syntax errors which may include extra white spaces at the beginning or end of strings or column names.\n",
    "- Check for typos or inconsistencies in strings that need to be fixed."
   ]
  },
  {
   "cell_type": "code",
   "execution_count": 24,
   "metadata": {
    "colab": {
     "base_uri": "https://localhost:8080/",
     "height": 175
    },
    "id": "ul-UP4cG76oP",
    "outputId": "084cd3dd-6538-4f42-ed1b-6cb02c658a24"
   },
   "outputs": [
    {
     "data": {
      "text/html": [
       "<div>\n",
       "<style scoped>\n",
       "    .dataframe tbody tr th:only-of-type {\n",
       "        vertical-align: middle;\n",
       "    }\n",
       "\n",
       "    .dataframe tbody tr th {\n",
       "        vertical-align: top;\n",
       "    }\n",
       "\n",
       "    .dataframe thead th {\n",
       "        text-align: right;\n",
       "    }\n",
       "</style>\n",
       "<table border=\"1\" class=\"dataframe\">\n",
       "  <thead>\n",
       "    <tr style=\"text-align: right;\">\n",
       "      <th></th>\n",
       "      <th>Defaulted</th>\n",
       "    </tr>\n",
       "  </thead>\n",
       "  <tbody>\n",
       "    <tr>\n",
       "      <th>count</th>\n",
       "      <td>850</td>\n",
       "    </tr>\n",
       "    <tr>\n",
       "      <th>unique</th>\n",
       "      <td>3</td>\n",
       "    </tr>\n",
       "    <tr>\n",
       "      <th>top</th>\n",
       "      <td>Negative</td>\n",
       "    </tr>\n",
       "    <tr>\n",
       "      <th>freq</th>\n",
       "      <td>517</td>\n",
       "    </tr>\n",
       "  </tbody>\n",
       "</table>\n",
       "</div>"
      ],
      "text/plain": [
       "       Defaulted\n",
       "count        850\n",
       "unique         3\n",
       "top     Negative\n",
       "freq         517"
      ]
     },
     "execution_count": 24,
     "metadata": {},
     "output_type": "execute_result"
    }
   ],
   "source": [
    "# Display the descriptive statistics for the non-numeric columns.\n",
    "df.describe(exclude=\"number\")"
   ]
  },
  {
   "cell_type": "markdown",
   "metadata": {
    "id": "w7boIXcfFoUc"
   },
   "source": [
    "- No issues noted."
   ]
  },
  {
   "cell_type": "markdown",
   "metadata": {
    "id": "V9Sw2CpSTm1H"
   },
   "source": [
    "##### **Defaulted column**"
   ]
  },
  {
   "cell_type": "code",
   "execution_count": 25,
   "metadata": {
    "colab": {
     "base_uri": "https://localhost:8080/"
    },
    "id": "fZMWhETqbuUc",
    "outputId": "c64262b4-df33-4375-d7a9-1ce8c858be43"
   },
   "outputs": [
    {
     "name": "stdout",
     "output_type": "stream",
     "text": [
      "['Negative' 'Positive' 'Unknown']\n"
     ]
    }
   ],
   "source": [
    "# Display the unique values for this column.\n",
    "print(df['Defaulted'].unique())"
   ]
  },
  {
   "cell_type": "code",
   "execution_count": 26,
   "metadata": {
    "colab": {
     "base_uri": "https://localhost:8080/"
    },
    "id": "umZyv4bF9BW3",
    "outputId": "5ae512de-3c91-4269-d92c-48690abef2a3"
   },
   "outputs": [
    {
     "data": {
      "text/plain": [
       "Negative    517\n",
       "Positive    183\n",
       "Unknown     150\n",
       "Name: Defaulted, dtype: int64"
      ]
     },
     "execution_count": 26,
     "metadata": {},
     "output_type": "execute_result"
    }
   ],
   "source": [
    "# Display the unique values and their counts for this column.\n",
    "df['Defaulted'].value_counts()"
   ]
  },
  {
   "cell_type": "markdown",
   "metadata": {
    "id": "2luJLfMqAnSU"
   },
   "source": [
    "- No issues noted."
   ]
  },
  {
   "cell_type": "markdown",
   "metadata": {
    "id": "MJShs6IT7Yo3"
   },
   "source": [
    "#### **Numerical Datatypes**"
   ]
  },
  {
   "cell_type": "markdown",
   "metadata": {},
   "source": [
    "- Check for unusual values."
   ]
  },
  {
   "cell_type": "code",
   "execution_count": 27,
   "metadata": {
    "colab": {
     "base_uri": "https://localhost:8080/",
     "height": 300
    },
    "id": "MQS3aHqW7wzE",
    "outputId": "2400f896-f8ce-44dd-f9af-74368bcdd381"
   },
   "outputs": [
    {
     "data": {
      "text/html": [
       "<div>\n",
       "<style scoped>\n",
       "    .dataframe tbody tr th:only-of-type {\n",
       "        vertical-align: middle;\n",
       "    }\n",
       "\n",
       "    .dataframe tbody tr th {\n",
       "        vertical-align: top;\n",
       "    }\n",
       "\n",
       "    .dataframe thead th {\n",
       "        text-align: right;\n",
       "    }\n",
       "</style>\n",
       "<table border=\"1\" class=\"dataframe\">\n",
       "  <thead>\n",
       "    <tr style=\"text-align: right;\">\n",
       "      <th></th>\n",
       "      <th>Age</th>\n",
       "      <th>Edu</th>\n",
       "      <th>Years Employed</th>\n",
       "      <th>Income</th>\n",
       "      <th>Card Debt</th>\n",
       "      <th>DebtIncomeRatio</th>\n",
       "    </tr>\n",
       "  </thead>\n",
       "  <tbody>\n",
       "    <tr>\n",
       "      <th>count</th>\n",
       "      <td>850.00</td>\n",
       "      <td>850.00</td>\n",
       "      <td>850.00</td>\n",
       "      <td>850.00</td>\n",
       "      <td>850.00</td>\n",
       "      <td>850.00</td>\n",
       "    </tr>\n",
       "    <tr>\n",
       "      <th>mean</th>\n",
       "      <td>35.03</td>\n",
       "      <td>1.71</td>\n",
       "      <td>8.57</td>\n",
       "      <td>46.68</td>\n",
       "      <td>1.58</td>\n",
       "      <td>10.17</td>\n",
       "    </tr>\n",
       "    <tr>\n",
       "      <th>std</th>\n",
       "      <td>8.04</td>\n",
       "      <td>0.93</td>\n",
       "      <td>6.78</td>\n",
       "      <td>38.54</td>\n",
       "      <td>2.13</td>\n",
       "      <td>6.72</td>\n",
       "    </tr>\n",
       "    <tr>\n",
       "      <th>min</th>\n",
       "      <td>20.00</td>\n",
       "      <td>1.00</td>\n",
       "      <td>0.00</td>\n",
       "      <td>13.00</td>\n",
       "      <td>0.01</td>\n",
       "      <td>0.10</td>\n",
       "    </tr>\n",
       "    <tr>\n",
       "      <th>25%</th>\n",
       "      <td>29.00</td>\n",
       "      <td>1.00</td>\n",
       "      <td>3.00</td>\n",
       "      <td>24.00</td>\n",
       "      <td>0.38</td>\n",
       "      <td>5.10</td>\n",
       "    </tr>\n",
       "    <tr>\n",
       "      <th>50%</th>\n",
       "      <td>34.00</td>\n",
       "      <td>1.00</td>\n",
       "      <td>7.00</td>\n",
       "      <td>35.00</td>\n",
       "      <td>0.88</td>\n",
       "      <td>8.70</td>\n",
       "    </tr>\n",
       "    <tr>\n",
       "      <th>75%</th>\n",
       "      <td>41.00</td>\n",
       "      <td>2.00</td>\n",
       "      <td>13.00</td>\n",
       "      <td>55.75</td>\n",
       "      <td>1.90</td>\n",
       "      <td>13.80</td>\n",
       "    </tr>\n",
       "    <tr>\n",
       "      <th>max</th>\n",
       "      <td>56.00</td>\n",
       "      <td>5.00</td>\n",
       "      <td>33.00</td>\n",
       "      <td>446.00</td>\n",
       "      <td>20.56</td>\n",
       "      <td>41.30</td>\n",
       "    </tr>\n",
       "  </tbody>\n",
       "</table>\n",
       "</div>"
      ],
      "text/plain": [
       "          Age     Edu  Years Employed  Income  Card Debt  DebtIncomeRatio\n",
       "count  850.00  850.00          850.00  850.00     850.00           850.00\n",
       "mean    35.03    1.71            8.57   46.68       1.58            10.17\n",
       "std      8.04    0.93            6.78   38.54       2.13             6.72\n",
       "min     20.00    1.00            0.00   13.00       0.01             0.10\n",
       "25%     29.00    1.00            3.00   24.00       0.38             5.10\n",
       "50%     34.00    1.00            7.00   35.00       0.88             8.70\n",
       "75%     41.00    2.00           13.00   55.75       1.90            13.80\n",
       "max     56.00    5.00           33.00  446.00      20.56            41.30"
      ]
     },
     "execution_count": 27,
     "metadata": {},
     "output_type": "execute_result"
    }
   ],
   "source": [
    "# Display the descriptive statistics for the numeric columns.\n",
    "df.describe().round(2)"
   ]
  },
  {
   "cell_type": "markdown",
   "metadata": {
    "id": "7oZ2MVk0Gt8F"
   },
   "source": [
    "- No issues noted."
   ]
  },
  {
   "cell_type": "markdown",
   "metadata": {
    "id": "NqfnRAP-jWdZ"
   },
   "source": [
    "## **Exploratory Data Analysis**"
   ]
  },
  {
   "cell_type": "markdown",
   "metadata": {},
   "source": [
    "### Functions"
   ]
  },
  {
   "cell_type": "markdown",
   "metadata": {},
   "source": [
    "#### **Function to Display Histogram**"
   ]
  },
  {
   "cell_type": "code",
   "execution_count": 28,
   "metadata": {},
   "outputs": [],
   "source": [
    "# Create a function to create a Histogram\n",
    "def hist_plot(column_name, unit_of_measure, bin_count):\n",
    "    fig, ax = plt.subplots(nrows=1, figsize=(8,4), facecolor='w')\n",
    "    plt.title(column_name, fontsize = 22, weight='bold')\n",
    "    sns.histplot(data=df, x=column_name, color='#069AF3', \n",
    "                 linewidth=2, bins=bin_count); \n",
    "    plt.xlabel(unit_of_measure, fontsize = 16, weight='bold')\n",
    "    plt.xticks(weight='bold')\n",
    "    ax.set_ylabel('Instances',fontweight='bold',fontsize=14)\n",
    "    ax.set_facecolor('lightblue')\n",
    "    ax.tick_params(labelcolor='k', labelsize=10)\n",
    "    ax.set_yticklabels(ax.get_yticks(), weight='bold')\n",
    "    for axis in ['top','bottom','left','right']:\n",
    "        ax.spines[axis].set_linewidth(3)"
   ]
  },
  {
   "cell_type": "markdown",
   "metadata": {},
   "source": [
    "#### **Function to Display Histogram and Boxplot**"
   ]
  },
  {
   "cell_type": "code",
   "execution_count": 29,
   "metadata": {},
   "outputs": [],
   "source": [
    "# Create a function to create a Histogram and Boxplot in the same figure\n",
    "def hist_box_plot(column_name, unit_of_measure, bin_count):\n",
    "    fig, (ax1,ax2) = plt.subplots(nrows =2, sharex=True, figsize=(8, 6), \n",
    "                                  facecolor='w', \n",
    "                                  gridspec_kw={'height_ratios':[0.75, 0.25]})\n",
    "    plt.suptitle(f'{column_name}', y=1.02, va='center', \n",
    "                 fontsize = 22, weight='bold')\n",
    "    sns.histplot(data=df, x=column_name, color='#069AF3', linewidth=2, \n",
    "                 ax=ax1, bins=bin_count);\n",
    "    plt.xlabel(unit_of_measure, fontsize = 16, weight='bold')\n",
    "    plt.xticks(weight='bold')\n",
    "    ax1.set_ylabel('Instances',fontweight='bold',fontsize=18)\n",
    "    ax1.set_facecolor('lightblue')\n",
    "    ax1.tick_params(labelcolor='k', labelsize=10)\n",
    "    ax1.set_yticklabels(ax1.get_yticks(), weight='bold')\n",
    "    for axis in ['top','bottom','left','right']:\n",
    "        ax1.spines[axis].set_linewidth(3)\n",
    "    sns.boxplot(data=df, x=column_name, width=.5, color='#069AF3', ax=ax2,\n",
    "                medianprops={'color':'k', 'linewidth':2},\n",
    "                whiskerprops={'color':'k', 'linewidth':2},\n",
    "                boxprops={'facecolor':'#069AF3', \n",
    "                          'edgecolor':'k', 'linewidth':2},\n",
    "                capprops={'color':'k', 'linewidth':3}); \n",
    "    ax2.tick_params(labelcolor='k', labelsize=10)\n",
    "    ax2.set(xlabel=unit_of_measure);\n",
    "    ax2.set_xticklabels(ax2.get_xticks(), fontweight='bold')\n",
    "    ax2.spines['bottom'].set_linewidth(2)\n",
    "    ax2.spines['top'].set_color(None)\n",
    "    ax2.spines['left'].set_color(None)\n",
    "    ax2.spines['right'].set_color(None)\n",
    "    plt.tight_layout();\n",
    "    plt.show;"
   ]
  },
  {
   "cell_type": "markdown",
   "metadata": {},
   "source": [
    "#### **Function to Display Countplot**"
   ]
  },
  {
   "cell_type": "code",
   "execution_count": 30,
   "metadata": {},
   "outputs": [],
   "source": [
    "# Create a function to create a Count Plot\n",
    "def count_plot(column_name, label_order):\n",
    "    fig, ax = plt.subplots(nrows=1, figsize=(8,4), facecolor='w')\n",
    "    plt.title(column_name, fontsize = 22, weight='bold')\n",
    "    sns.countplot(data=df, x=column_name, lw=3, ec='k', \n",
    "                  color='#069AF3', order=label_order)\n",
    "    plt.xlabel('')\n",
    "    plt.xticks(weight='bold')\n",
    "    ax.set_ylabel('Instances', fontweight='bold', fontsize=18)\n",
    "    ax.set_facecolor('lightblue')\n",
    "    ax.tick_params(labelcolor='k', labelsize=12)\n",
    "    ax.set_yticklabels(ax.get_yticks(), weight='bold')\n",
    "    for axis in ['top','bottom','left','right']:\n",
    "        ax.spines[axis].set_linewidth(3)\n",
    "    plt.tight_layout()\n",
    "    plt.show;"
   ]
  },
  {
   "cell_type": "markdown",
   "metadata": {
    "id": "DR5bJFxo4HDt"
   },
   "source": [
    "### **Numeric Columns**"
   ]
  },
  {
   "cell_type": "markdown",
   "metadata": {
    "id": "FuAo4Uo3FxL7"
   },
   "source": [
    "#### **Summary Statistics**"
   ]
  },
  {
   "cell_type": "code",
   "execution_count": 31,
   "metadata": {
    "colab": {
     "base_uri": "https://localhost:8080/",
     "height": 300
    },
    "id": "kraQODkRpF-F",
    "outputId": "09024778-1111-40fc-a7c9-79c67bf2ff6c"
   },
   "outputs": [
    {
     "data": {
      "text/html": [
       "<div>\n",
       "<style scoped>\n",
       "    .dataframe tbody tr th:only-of-type {\n",
       "        vertical-align: middle;\n",
       "    }\n",
       "\n",
       "    .dataframe tbody tr th {\n",
       "        vertical-align: top;\n",
       "    }\n",
       "\n",
       "    .dataframe thead th {\n",
       "        text-align: right;\n",
       "    }\n",
       "</style>\n",
       "<table border=\"1\" class=\"dataframe\">\n",
       "  <thead>\n",
       "    <tr style=\"text-align: right;\">\n",
       "      <th></th>\n",
       "      <th>Age</th>\n",
       "      <th>Edu</th>\n",
       "      <th>Years Employed</th>\n",
       "      <th>Income</th>\n",
       "      <th>Card Debt</th>\n",
       "      <th>DebtIncomeRatio</th>\n",
       "    </tr>\n",
       "  </thead>\n",
       "  <tbody>\n",
       "    <tr>\n",
       "      <th>count</th>\n",
       "      <td>850.000000</td>\n",
       "      <td>850.000000</td>\n",
       "      <td>850.000000</td>\n",
       "      <td>850.000000</td>\n",
       "      <td>850.000000</td>\n",
       "      <td>850.000000</td>\n",
       "    </tr>\n",
       "    <tr>\n",
       "      <th>mean</th>\n",
       "      <td>35.029412</td>\n",
       "      <td>1.710588</td>\n",
       "      <td>8.565882</td>\n",
       "      <td>46.675294</td>\n",
       "      <td>1.576820</td>\n",
       "      <td>10.171647</td>\n",
       "    </tr>\n",
       "    <tr>\n",
       "      <th>std</th>\n",
       "      <td>8.041432</td>\n",
       "      <td>0.927784</td>\n",
       "      <td>6.777884</td>\n",
       "      <td>38.543054</td>\n",
       "      <td>2.125843</td>\n",
       "      <td>6.719441</td>\n",
       "    </tr>\n",
       "    <tr>\n",
       "      <th>min</th>\n",
       "      <td>20.000000</td>\n",
       "      <td>1.000000</td>\n",
       "      <td>0.000000</td>\n",
       "      <td>13.000000</td>\n",
       "      <td>0.012000</td>\n",
       "      <td>0.100000</td>\n",
       "    </tr>\n",
       "    <tr>\n",
       "      <th>25%</th>\n",
       "      <td>29.000000</td>\n",
       "      <td>1.000000</td>\n",
       "      <td>3.000000</td>\n",
       "      <td>24.000000</td>\n",
       "      <td>0.382500</td>\n",
       "      <td>5.100000</td>\n",
       "    </tr>\n",
       "    <tr>\n",
       "      <th>50%</th>\n",
       "      <td>34.000000</td>\n",
       "      <td>1.000000</td>\n",
       "      <td>7.000000</td>\n",
       "      <td>35.000000</td>\n",
       "      <td>0.885000</td>\n",
       "      <td>8.700000</td>\n",
       "    </tr>\n",
       "    <tr>\n",
       "      <th>75%</th>\n",
       "      <td>41.000000</td>\n",
       "      <td>2.000000</td>\n",
       "      <td>13.000000</td>\n",
       "      <td>55.750000</td>\n",
       "      <td>1.898500</td>\n",
       "      <td>13.800000</td>\n",
       "    </tr>\n",
       "    <tr>\n",
       "      <th>max</th>\n",
       "      <td>56.000000</td>\n",
       "      <td>5.000000</td>\n",
       "      <td>33.000000</td>\n",
       "      <td>446.000000</td>\n",
       "      <td>20.561000</td>\n",
       "      <td>41.300000</td>\n",
       "    </tr>\n",
       "  </tbody>\n",
       "</table>\n",
       "</div>"
      ],
      "text/plain": [
       "              Age         Edu  Years Employed      Income   Card Debt  \\\n",
       "count  850.000000  850.000000      850.000000  850.000000  850.000000   \n",
       "mean    35.029412    1.710588        8.565882   46.675294    1.576820   \n",
       "std      8.041432    0.927784        6.777884   38.543054    2.125843   \n",
       "min     20.000000    1.000000        0.000000   13.000000    0.012000   \n",
       "25%     29.000000    1.000000        3.000000   24.000000    0.382500   \n",
       "50%     34.000000    1.000000        7.000000   35.000000    0.885000   \n",
       "75%     41.000000    2.000000       13.000000   55.750000    1.898500   \n",
       "max     56.000000    5.000000       33.000000  446.000000   20.561000   \n",
       "\n",
       "       DebtIncomeRatio  \n",
       "count       850.000000  \n",
       "mean         10.171647  \n",
       "std           6.719441  \n",
       "min           0.100000  \n",
       "25%           5.100000  \n",
       "50%           8.700000  \n",
       "75%          13.800000  \n",
       "max          41.300000  "
      ]
     },
     "execution_count": 31,
     "metadata": {},
     "output_type": "execute_result"
    }
   ],
   "source": [
    "# Display the descriptive statistics for the numeric columns\n",
    "df.describe()"
   ]
  },
  {
   "cell_type": "code",
   "execution_count": 32,
   "metadata": {
    "colab": {
     "base_uri": "https://localhost:8080/",
     "height": 836
    },
    "id": "vGurkLnSHkXt",
    "outputId": "432daaa0-d072-44b4-f7b8-3acc2e6cc6db"
   },
   "outputs": [
    {
     "data": {
      "image/png": "[encoded data removed]",
      "text/plain": [
       "<Figure size 864x432 with 6 Axes>"
      ]
     },
     "metadata": {
      "needs_background": "light"
     },
     "output_type": "display_data"
    }
   ],
   "source": [
    "# Display histogram charts for the numeric columns in the dataframe\n",
    "df.hist(figsize=(12,6), bins=30)\n",
    "plt.tight_layout()\n",
    "plt.show;"
   ]
  },
  {
   "cell_type": "markdown",
   "metadata": {
    "id": "uEH1IXdDVdDF"
   },
   "source": [
    "#### **Age**"
   ]
  },
  {
   "cell_type": "code",
   "execution_count": 33,
   "metadata": {
    "colab": {
     "base_uri": "https://localhost:8080/"
    },
    "id": "q_3FfjGT8yCV",
    "outputId": "158fbad4-393b-425c-8f00-387033c08203",
    "scrolled": true
   },
   "outputs": [
    {
     "data": {
      "text/plain": [
       "count    850.000000\n",
       "mean      35.029412\n",
       "std        8.041432\n",
       "min       20.000000\n",
       "25%       29.000000\n",
       "50%       34.000000\n",
       "75%       41.000000\n",
       "max       56.000000\n",
       "Name: Age, dtype: float64"
      ]
     },
     "execution_count": 33,
     "metadata": {},
     "output_type": "execute_result"
    }
   ],
   "source": [
    "# Display column statistics\n",
    "df.Age.describe()"
   ]
  },
  {
   "cell_type": "code",
   "execution_count": 34,
   "metadata": {
    "colab": {
     "base_uri": "https://localhost:8080/"
    },
    "id": "3xgQKafkDDHG",
    "outputId": "5bf5c969-c483-44c9-ae60-91a448fc768c",
    "scrolled": true
   },
   "outputs": [
    {
     "name": "stdout",
     "output_type": "stream",
     "text": [
      "Missing Values: 0 (0.0)%\n",
      "Outliers: 0 (0.0)% low, 0 (0.0)% high\n",
      "Unique values: 37\n"
     ]
    }
   ],
   "source": [
    "# Display supplemental column statistics\n",
    "column_statistics('Age')"
   ]
  },
  {
   "cell_type": "code",
   "execution_count": 35,
   "metadata": {
    "colab": {
     "base_uri": "https://localhost:8080/",
     "height": 297
    },
    "id": "gMT3utkvVdDG",
    "outputId": "fc7bff20-c84f-4194-87b8-bbd04143e512"
   },
   "outputs": [
    {
     "data": {
      "image/png": "[encoded data removed]",
      "text/plain": [
       "<Figure size 576x288 with 1 Axes>"
      ]
     },
     "metadata": {},
     "output_type": "display_data"
    }
   ],
   "source": [
    "# Utilize function to display histogram plot\n",
    "hist_plot('Age', '(Years)', 30)"
   ]
  },
  {
   "cell_type": "code",
   "execution_count": 36,
   "metadata": {
    "colab": {
     "base_uri": "https://localhost:8080/",
     "height": 153
    },
    "id": "ieXUUGGsVdDG",
    "outputId": "d7698df6-3fcd-49dd-e802-6d614c41f789"
   },
   "outputs": [
    {
     "data": {
      "image/png": "[encoded data removed]",
      "text/plain": [
       "<Figure size 576x432 with 2 Axes>"
      ]
     },
     "metadata": {},
     "output_type": "display_data"
    }
   ],
   "source": [
    "# Utilize function to display histogram and boxplot\n",
    "hist_box_plot('Age', '(Years)', 30)"
   ]
  },
  {
   "cell_type": "markdown",
   "metadata": {
    "id": "vlRJFsx1VdDH"
   },
   "source": [
    "- **Dispersion** - Age is not evenly dispersed.\n",
    "- **Skew** - Age is only slightly positively skewed.\n",
    "- **Outliers** - Age does not have any ouliers"
   ]
  },
  {
   "cell_type": "markdown",
   "metadata": {
    "id": "XZpSLNhkVdN1"
   },
   "source": [
    "#### **Edu**"
   ]
  },
  {
   "cell_type": "code",
   "execution_count": 37,
   "metadata": {
    "colab": {
     "base_uri": "https://localhost:8080/"
    },
    "id": "RGaAl-dp862T",
    "outputId": "65ed2120-e442-4a3c-aa2f-5365656b3689"
   },
   "outputs": [
    {
     "data": {
      "text/plain": [
       "count    850.000000\n",
       "mean       1.710588\n",
       "std        0.927784\n",
       "min        1.000000\n",
       "25%        1.000000\n",
       "50%        1.000000\n",
       "75%        2.000000\n",
       "max        5.000000\n",
       "Name: Edu, dtype: float64"
      ]
     },
     "execution_count": 37,
     "metadata": {},
     "output_type": "execute_result"
    }
   ],
   "source": [
    "# Display column statistics\n",
    "df.Edu.describe()"
   ]
  },
  {
   "cell_type": "code",
   "execution_count": 38,
   "metadata": {
    "colab": {
     "base_uri": "https://localhost:8080/"
    },
    "id": "dDb9SQFRDGvz",
    "outputId": "2bd9ab10-7c7f-4b1f-c5f8-caad5e3f90ec",
    "scrolled": true
   },
   "outputs": [
    {
     "name": "stdout",
     "output_type": "stream",
     "text": [
      "Missing Values: 0 (0.0)%\n",
      "Outliers: 0 (0.0)% low, 54 (6.4)% high\n",
      "Unique values: 5\n",
      "1    460\n",
      "2    235\n",
      "3    101\n",
      "4     49\n",
      "5      5\n",
      "Name: Edu, dtype: int64\n"
     ]
    }
   ],
   "source": [
    "# Display supplemental column statistics\n",
    "column_statistics('Edu')"
   ]
  },
  {
   "cell_type": "code",
   "execution_count": 39,
   "metadata": {
    "colab": {
     "base_uri": "https://localhost:8080/",
     "height": 297
    },
    "id": "qkEDpQuaVdN1",
    "outputId": "fa8e3728-66bf-45d8-f00f-652fc21bf69c"
   },
   "outputs": [
    {
     "data": {
      "image/png": "[encoded data removed]",
      "text/plain": [
       "<Figure size 576x288 with 1 Axes>"
      ]
     },
     "metadata": {},
     "output_type": "display_data"
    }
   ],
   "source": [
    "# Utilize function to display histogram plot\n",
    "hist_plot('Edu', '(Years)', 'auto')"
   ]
  },
  {
   "cell_type": "code",
   "execution_count": 40,
   "metadata": {
    "colab": {
     "base_uri": "https://localhost:8080/",
     "height": 153
    },
    "id": "7hdSXKmhVdN2",
    "outputId": "f326b88f-88d1-44b1-9619-2d9ca41a1a80"
   },
   "outputs": [
    {
     "data": {
      "image/png": "[encoded data removed]",
      "text/plain": [
       "<Figure size 576x432 with 2 Axes>"
      ]
     },
     "metadata": {},
     "output_type": "display_data"
    }
   ],
   "source": [
    "# Utilize function to display histogram and boxplot\n",
    "hist_box_plot('Edu', '(Years)', 'auto')"
   ]
  },
  {
   "cell_type": "markdown",
   "metadata": {
    "id": "Ud0IMvcFHtZr"
   },
   "source": [
    "- **Dispersion** - Edu is not evenly dispersed.\n",
    "- **Skew** - Edu is positivley skewed.\n",
    "- **Outliers** - Edu has 54 (6.4)% outliers on the high side."
   ]
  },
  {
   "cell_type": "markdown",
   "metadata": {
    "id": "vSf7bqf6VdYC"
   },
   "source": [
    "#### **Years Employed**"
   ]
  },
  {
   "cell_type": "code",
   "execution_count": 41,
   "metadata": {
    "colab": {
     "base_uri": "https://localhost:8080/"
    },
    "id": "at9M1PVY8925",
    "outputId": "dfc7191c-dee8-4e41-a306-c6d1ccc63ce7"
   },
   "outputs": [
    {
     "data": {
      "text/plain": [
       "count    850.000000\n",
       "mean       8.565882\n",
       "std        6.777884\n",
       "min        0.000000\n",
       "25%        3.000000\n",
       "50%        7.000000\n",
       "75%       13.000000\n",
       "max       33.000000\n",
       "Name: Years Employed, dtype: float64"
      ]
     },
     "execution_count": 41,
     "metadata": {},
     "output_type": "execute_result"
    }
   ],
   "source": [
    "# Display column statistics\n",
    "df['Years Employed'].describe()"
   ]
  },
  {
   "cell_type": "code",
   "execution_count": 42,
   "metadata": {
    "colab": {
     "base_uri": "https://localhost:8080/"
    },
    "id": "p25mlRmsDNAk",
    "outputId": "ed6b5ad2-2a84-43f9-8772-e784a27d756f"
   },
   "outputs": [
    {
     "name": "stdout",
     "output_type": "stream",
     "text": [
      "Missing Values: 0 (0.0)%\n",
      "Outliers: 0 (0.0)% low, 10 (1.2)% high\n",
      "Unique values: 33\n"
     ]
    }
   ],
   "source": [
    "# Display supplemental column statistics\n",
    "column_statistics('Years Employed')"
   ]
  },
  {
   "cell_type": "code",
   "execution_count": 43,
   "metadata": {
    "colab": {
     "base_uri": "https://localhost:8080/",
     "height": 297
    },
    "id": "FOkKJC9eVdYD",
    "outputId": "38ed5876-8947-44de-8669-125d2bce8322"
   },
   "outputs": [
    {
     "data": {
      "image/png": "[encoded data removed]",
      "text/plain": [
       "<Figure size 576x288 with 1 Axes>"
      ]
     },
     "metadata": {},
     "output_type": "display_data"
    }
   ],
   "source": [
    "# Utilize function to display histogram plot\n",
    "hist_plot('Years Employed', '(years)', 33)"
   ]
  },
  {
   "cell_type": "code",
   "execution_count": 44,
   "metadata": {
    "colab": {
     "base_uri": "https://localhost:8080/",
     "height": 153
    },
    "id": "EX6UFZPfVdYD",
    "outputId": "3a6e79a4-7c5e-4c59-b085-7c56523e7a53"
   },
   "outputs": [
    {
     "data": {
      "image/png": "[encoded data removed]",
      "text/plain": [
       "<Figure size 576x432 with 2 Axes>"
      ]
     },
     "metadata": {},
     "output_type": "display_data"
    }
   ],
   "source": [
    "# Utilize function to display histogram and boxplot\n",
    "hist_box_plot('Years Employed', '(Years)', 33)"
   ]
  },
  {
   "cell_type": "markdown",
   "metadata": {
    "id": "y__Mi0wIVdYE"
   },
   "source": [
    "- **Dispersion** - Years Employed is not evenly disersed.\n",
    "- **Skew** - Years Employed is positively skewed.\n",
    "- **Outliers** - Years Employed has 10 (1.2)% outliers on the high side."
   ]
  },
  {
   "cell_type": "markdown",
   "metadata": {
    "id": "owGwGFpSVdhH"
   },
   "source": [
    "#### **Income**"
   ]
  },
  {
   "cell_type": "code",
   "execution_count": 45,
   "metadata": {
    "colab": {
     "base_uri": "https://localhost:8080/"
    },
    "id": "iE-TSv-59Ndj",
    "outputId": "7ce95444-5660-4a26-ff71-f66da4e35434"
   },
   "outputs": [
    {
     "data": {
      "text/plain": [
       "count    850.000000\n",
       "mean      46.675294\n",
       "std       38.543054\n",
       "min       13.000000\n",
       "25%       24.000000\n",
       "50%       35.000000\n",
       "75%       55.750000\n",
       "max      446.000000\n",
       "Name: Income, dtype: float64"
      ]
     },
     "execution_count": 45,
     "metadata": {},
     "output_type": "execute_result"
    }
   ],
   "source": [
    "# Display column statistics\n",
    "df.Income.describe()"
   ]
  },
  {
   "cell_type": "code",
   "execution_count": 46,
   "metadata": {
    "colab": {
     "base_uri": "https://localhost:8080/"
    },
    "id": "NnQZKyZqDS07",
    "outputId": "b06b013a-6f46-47f7-b021-85988e6e9a30",
    "scrolled": true
   },
   "outputs": [
    {
     "name": "stdout",
     "output_type": "stream",
     "text": [
      "Missing Values: 0 (0.0)%\n",
      "Outliers: 0 (0.0)% low, 53 (6.2)% high\n",
      "Unique values: 129\n"
     ]
    }
   ],
   "source": [
    "# Display supplemental column statistics\n",
    "column_statistics('Income')"
   ]
  },
  {
   "cell_type": "code",
   "execution_count": 47,
   "metadata": {
    "colab": {
     "base_uri": "https://localhost:8080/",
     "height": 297
    },
    "id": "PqL2V06CVdhH",
    "outputId": "fdf5bf00-4a19-4515-d185-fa4929676db8"
   },
   "outputs": [
    {
     "data": {
      "image/png": "[encoded data removed]",
      "text/plain": [
       "<Figure size 576x288 with 1 Axes>"
      ]
     },
     "metadata": {},
     "output_type": "display_data"
    }
   ],
   "source": [
    "# Utilize function to display histogram plot\n",
    "hist_plot('Income', '(Dollars)', 'auto')"
   ]
  },
  {
   "cell_type": "code",
   "execution_count": 48,
   "metadata": {
    "colab": {
     "base_uri": "https://localhost:8080/",
     "height": 153
    },
    "id": "fIrhpftpVdhI",
    "outputId": "34c1125d-2998-4735-fd22-400d5e5fbe41",
    "scrolled": true
   },
   "outputs": [
    {
     "data": {
      "image/png": "[encoded data removed]",
      "text/plain": [
       "<Figure size 576x432 with 2 Axes>"
      ]
     },
     "metadata": {},
     "output_type": "display_data"
    }
   ],
   "source": [
    "# Utilize function to display histogram and boxplot\n",
    "hist_box_plot('Income', '(Dollars)', 'auto')"
   ]
  },
  {
   "cell_type": "markdown",
   "metadata": {
    "id": "8GVLf4w2VdhI"
   },
   "source": [
    "- **Dispersion** - Income is not evenly dispersed.\n",
    "- **Skew** - Income is positively skewed.\n",
    "- **Outliers** - Income has 53 (6.2)% outliers on the high side."
   ]
  },
  {
   "cell_type": "markdown",
   "metadata": {
    "id": "Hn5YWROrVdqb"
   },
   "source": [
    "#### **Card Debt**"
   ]
  },
  {
   "cell_type": "code",
   "execution_count": 49,
   "metadata": {
    "colab": {
     "base_uri": "https://localhost:8080/"
    },
    "id": "s6-J98Br9Uo_",
    "outputId": "70f38597-431e-4421-a910-48d3f28259d6"
   },
   "outputs": [
    {
     "data": {
      "text/plain": [
       "count    850.000000\n",
       "mean       1.576820\n",
       "std        2.125843\n",
       "min        0.012000\n",
       "25%        0.382500\n",
       "50%        0.885000\n",
       "75%        1.898500\n",
       "max       20.561000\n",
       "Name: Card Debt, dtype: float64"
      ]
     },
     "execution_count": 49,
     "metadata": {},
     "output_type": "execute_result"
    }
   ],
   "source": [
    "# Display column statistics\n",
    "df['Card Debt'].describe()"
   ]
  },
  {
   "cell_type": "code",
   "execution_count": 50,
   "metadata": {
    "colab": {
     "base_uri": "https://localhost:8080/"
    },
    "id": "V7WBKrhbDZ8M",
    "outputId": "94197a6e-0e59-4a45-fcb0-6c665a3b2023"
   },
   "outputs": [
    {
     "name": "stdout",
     "output_type": "stream",
     "text": [
      "Missing Values: 0 (0.0)%\n",
      "Outliers: 0 (0.0)% low, 69 (8.1)% high\n",
      "Unique values: 727\n"
     ]
    }
   ],
   "source": [
    "# Display supplemental column statistics\n",
    "column_statistics('Card Debt')"
   ]
  },
  {
   "cell_type": "code",
   "execution_count": 51,
   "metadata": {
    "colab": {
     "base_uri": "https://localhost:8080/",
     "height": 297
    },
    "id": "ekVoG_QbVdqb",
    "outputId": "6f2a238e-beee-45ba-b21a-0000769ccd44",
    "scrolled": true
   },
   "outputs": [
    {
     "data": {
      "image/png": "[encoded data removed]",
      "text/plain": [
       "<Figure size 576x288 with 1 Axes>"
      ]
     },
     "metadata": {},
     "output_type": "display_data"
    }
   ],
   "source": [
    "# Utilize function to display histogram plot\n",
    "hist_plot('Card Debt', '(Thouands of Dollars)', 25)"
   ]
  },
  {
   "cell_type": "code",
   "execution_count": 52,
   "metadata": {
    "colab": {
     "base_uri": "https://localhost:8080/",
     "height": 153
    },
    "id": "_rdP9DUfVdqc",
    "outputId": "d719d16c-57b7-4608-e716-d15345ad9eff"
   },
   "outputs": [
    {
     "data": {
      "image/png": "[encoded data removed]",
      "text/plain": [
       "<Figure size 576x432 with 2 Axes>"
      ]
     },
     "metadata": {},
     "output_type": "display_data"
    }
   ],
   "source": [
    "# Utilize function to display histogram and boxplot\n",
    "hist_box_plot('Card Debt', '(Thousands of Dollars)', 25)"
   ]
  },
  {
   "cell_type": "markdown",
   "metadata": {
    "id": "5svr_871Vdqc"
   },
   "source": [
    "- **Dispersion** - Card Debt is not evenly dispersed.\n",
    "- **Skew** - Card Debt is positively skewed.\n",
    "- **Outliers** - Card Debt has 69 (8.1)% outliers on the high side."
   ]
  },
  {
   "cell_type": "markdown",
   "metadata": {
    "id": "s5AC_IeNVeGF"
   },
   "source": [
    "#### **DebtIncomeRatio**"
   ]
  },
  {
   "cell_type": "code",
   "execution_count": 53,
   "metadata": {
    "colab": {
     "base_uri": "https://localhost:8080/"
    },
    "id": "oJzCLU6B9lWa",
    "outputId": "94656993-18f6-4c4e-c946-64a7f6ef2571"
   },
   "outputs": [
    {
     "data": {
      "text/plain": [
       "count    850.000000\n",
       "mean      10.171647\n",
       "std        6.719441\n",
       "min        0.100000\n",
       "25%        5.100000\n",
       "50%        8.700000\n",
       "75%       13.800000\n",
       "max       41.300000\n",
       "Name: DebtIncomeRatio, dtype: float64"
      ]
     },
     "execution_count": 53,
     "metadata": {},
     "output_type": "execute_result"
    }
   ],
   "source": [
    "# Display column statistics\n",
    "df.DebtIncomeRatio.describe()"
   ]
  },
  {
   "cell_type": "code",
   "execution_count": 54,
   "metadata": {
    "colab": {
     "base_uri": "https://localhost:8080/"
    },
    "id": "gD7ah_gSDmpI",
    "outputId": "406fe72b-968b-4910-db9e-1ba0ed92ed19"
   },
   "outputs": [
    {
     "name": "stdout",
     "output_type": "stream",
     "text": [
      "Missing Values: 0 (0.0)%\n",
      "Outliers: 0 (0.0)% low, 21 (2.5)% high\n",
      "Unique values: 245\n"
     ]
    }
   ],
   "source": [
    "# Display supplemental column statistics\n",
    "column_statistics('DebtIncomeRatio')"
   ]
  },
  {
   "cell_type": "code",
   "execution_count": 55,
   "metadata": {
    "colab": {
     "base_uri": "https://localhost:8080/",
     "height": 297
    },
    "id": "TY5Jj1FsVeGG",
    "outputId": "cca31e55-b253-4e11-959e-bb451b0de19e",
    "scrolled": true
   },
   "outputs": [
    {
     "data": {
      "image/png": "[encoded data removed]",
      "text/plain": [
       "<Figure size 576x288 with 1 Axes>"
      ]
     },
     "metadata": {},
     "output_type": "display_data"
    }
   ],
   "source": [
    "# Utilize function to display histogram plot\n",
    "hist_plot('DebtIncomeRatio', '(Ratio)', 'auto')"
   ]
  },
  {
   "cell_type": "code",
   "execution_count": 56,
   "metadata": {
    "colab": {
     "base_uri": "https://localhost:8080/",
     "height": 153
    },
    "id": "2raOkOUzVeGG",
    "outputId": "4858cda9-2884-45c8-bc25-d213fb9f833f"
   },
   "outputs": [
    {
     "data": {
      "image/png": "[encoded data removed]",
      "text/plain": [
       "<Figure size 576x432 with 2 Axes>"
      ]
     },
     "metadata": {},
     "output_type": "display_data"
    }
   ],
   "source": [
    "# Utilize function to display histogram and boxplot\n",
    "hist_box_plot('DebtIncomeRatio', '(Ratio)', 'auto')"
   ]
  },
  {
   "cell_type": "markdown",
   "metadata": {
    "id": "6-KAhrDOVeGG"
   },
   "source": [
    "- **Dispersion** - DebtIncomeRatio is not evenly dispersed.\n",
    "- **Skew** - DebtIncomeRatio is positively skewed.\n",
    "- **Outliers** - DebtIncomeRatio has 21 (2.5)% outliers on the high side."
   ]
  },
  {
   "cell_type": "markdown",
   "metadata": {
    "id": "v7f3iwOtoss5"
   },
   "source": [
    "### **Categorical Columns**"
   ]
  },
  {
   "cell_type": "markdown",
   "metadata": {
    "id": "gghNiJeuF9sF"
   },
   "source": [
    "#### **Summary Statistics**"
   ]
  },
  {
   "cell_type": "code",
   "execution_count": 57,
   "metadata": {
    "colab": {
     "base_uri": "https://localhost:8080/",
     "height": 175
    },
    "id": "vYEzy06soxBb",
    "outputId": "0641a580-3cd1-4ba1-987a-c0ca89837e2c"
   },
   "outputs": [
    {
     "data": {
      "text/html": [
       "<div>\n",
       "<style scoped>\n",
       "    .dataframe tbody tr th:only-of-type {\n",
       "        vertical-align: middle;\n",
       "    }\n",
       "\n",
       "    .dataframe tbody tr th {\n",
       "        vertical-align: top;\n",
       "    }\n",
       "\n",
       "    .dataframe thead th {\n",
       "        text-align: right;\n",
       "    }\n",
       "</style>\n",
       "<table border=\"1\" class=\"dataframe\">\n",
       "  <thead>\n",
       "    <tr style=\"text-align: right;\">\n",
       "      <th></th>\n",
       "      <th>Defaulted</th>\n",
       "    </tr>\n",
       "  </thead>\n",
       "  <tbody>\n",
       "    <tr>\n",
       "      <th>count</th>\n",
       "      <td>850</td>\n",
       "    </tr>\n",
       "    <tr>\n",
       "      <th>unique</th>\n",
       "      <td>3</td>\n",
       "    </tr>\n",
       "    <tr>\n",
       "      <th>top</th>\n",
       "      <td>Negative</td>\n",
       "    </tr>\n",
       "    <tr>\n",
       "      <th>freq</th>\n",
       "      <td>517</td>\n",
       "    </tr>\n",
       "  </tbody>\n",
       "</table>\n",
       "</div>"
      ],
      "text/plain": [
       "       Defaulted\n",
       "count        850\n",
       "unique         3\n",
       "top     Negative\n",
       "freq         517"
      ]
     },
     "execution_count": 57,
     "metadata": {},
     "output_type": "execute_result"
    }
   ],
   "source": [
    "# Display the descriptive statistics for the non-numeric columns.\n",
    "df.describe(exclude=('number'))"
   ]
  },
  {
   "cell_type": "markdown",
   "metadata": {
    "id": "AvpJythc_3T-"
   },
   "source": [
    "- No issues noted."
   ]
  },
  {
   "cell_type": "markdown",
   "metadata": {
    "id": "xj5aKKkKlCY7"
   },
   "source": [
    "#### **Defaulted**"
   ]
  },
  {
   "cell_type": "code",
   "execution_count": 58,
   "metadata": {
    "colab": {
     "base_uri": "https://localhost:8080/"
    },
    "id": "KJH41DfE97TC",
    "outputId": "dcd906d1-a96f-4964-8d87-2ec73a1543aa"
   },
   "outputs": [
    {
     "data": {
      "text/plain": [
       "count          850\n",
       "unique           3\n",
       "top       Negative\n",
       "freq           517\n",
       "Name: Defaulted, dtype: object"
      ]
     },
     "execution_count": 58,
     "metadata": {},
     "output_type": "execute_result"
    }
   ],
   "source": [
    "# Display column statistics\n",
    "df.Defaulted.describe()"
   ]
  },
  {
   "cell_type": "code",
   "execution_count": 59,
   "metadata": {
    "colab": {
     "base_uri": "https://localhost:8080/"
    },
    "id": "dKpp8zGvELOi",
    "outputId": "2f6fdf45-b7e4-427f-c6bb-4d9ce69fb2c5"
   },
   "outputs": [
    {
     "name": "stdout",
     "output_type": "stream",
     "text": [
      "Missing Values: 0 (0.0)%\n",
      "Unique values: 3\n",
      "Negative    517\n",
      "Positive    183\n",
      "Unknown     150\n",
      "Name: Defaulted, dtype: int64\n"
     ]
    }
   ],
   "source": [
    "# Display supplemental column statistics\n",
    "column_statistics('Defaulted')"
   ]
  },
  {
   "cell_type": "code",
   "execution_count": 60,
   "metadata": {},
   "outputs": [
    {
     "data": {
      "text/plain": [
       "Negative    0.608235\n",
       "Positive    0.215294\n",
       "Unknown     0.176471\n",
       "Name: Defaulted, dtype: float64"
      ]
     },
     "execution_count": 60,
     "metadata": {},
     "output_type": "execute_result"
    }
   ],
   "source": [
    "# Display normailzed value counts\n",
    "df['Defaulted'].value_counts(normalize=True)"
   ]
  },
  {
   "cell_type": "code",
   "execution_count": 61,
   "metadata": {
    "colab": {
     "base_uri": "https://localhost:8080/",
     "height": 297
    },
    "id": "ffR33urklVFQ",
    "outputId": "6f3ba1dc-ced4-43b6-edd7-52e31e11cf1f"
   },
   "outputs": [
    {
     "data": {
      "image/png": "[encoded data removed]",
      "text/plain": [
       "<Figure size 576x288 with 1 Axes>"
      ]
     },
     "metadata": {},
     "output_type": "display_data"
    }
   ],
   "source": [
    "# Utilize function to display count plot\n",
    "count_plot('Defaulted', ['Negative', 'Positive', 'Unknown'])"
   ]
  },
  {
   "cell_type": "markdown",
   "metadata": {
    "id": "zc-VJHvcLq_0"
   },
   "source": [
    "- Issues noted - There is a significantly higher count of Negative, than either Positive or Unknown values."
   ]
  },
  {
   "cell_type": "markdown",
   "metadata": {
    "id": "wupOHLcD_9SO"
   },
   "source": [
    "### **Correlation Heatmap**"
   ]
  },
  {
   "cell_type": "code",
   "execution_count": 62,
   "metadata": {
    "colab": {
     "base_uri": "https://localhost:8080/",
     "height": 585
    },
    "id": "rd5sQYFwNJ_a",
    "outputId": "e30883d9-d292-4ccd-937a-ccecc7675352"
   },
   "outputs": [
    {
     "data": {
      "image/png": "[encoded data removed]",
      "text/plain": [
       "<Figure size 576x576 with 2 Axes>"
      ]
     },
     "metadata": {},
     "output_type": "display_data"
    }
   ],
   "source": [
    "plt.figure(figsize = (8, 8),facecolor='w' )\n",
    "corr = df.corr()\n",
    "sns.heatmap(corr, cmap='viridis', annot=True);\n",
    "plt.title('Correlation Heatmap', fontsize = 24, weight='bold')\n",
    "plt.xticks(fontsize = 14, weight='bold', rotation=90)\n",
    "plt.yticks(fontsize = 14, weight='bold', rotation=0);\n",
    "plt.tight_layout()\n",
    "plt.show;"
   ]
  },
  {
   "cell_type": "markdown",
   "metadata": {
    "id": "CQSGKZ-zNnXU"
   },
   "source": [
    "- There are no highly correlated features."
   ]
  },
  {
   "cell_type": "markdown",
   "metadata": {
    "id": "OkkQJQV4aXe3"
   },
   "source": [
    "\n",
    "\n",
    "---\n",
    "\n"
   ]
  },
  {
   "cell_type": "markdown",
   "metadata": {
    "id": "dAuHnCUr_-EG"
   },
   "source": [
    "## **Preprocessing**"
   ]
  },
  {
   "cell_type": "markdown",
   "metadata": {
    "id": "xI63NsyjBHtT"
   },
   "source": [
    "### **Identify each feature as ordinal, numerical, nominal, or pass through**"
   ]
  },
  {
   "cell_type": "markdown",
   "metadata": {
    "id": "yRKc66PWBJrc"
   },
   "source": [
    "- ordinal features = none\n",
    "- numeric features = ['Age', 'Edu', 'Years Employed', 'Income', 'Card Debt', 'DebtIncomeRatio']\n",
    "- nominal features = ['Defaulted]\n",
    "- date/time features = none\n",
    "- pass through = none"
   ]
  },
  {
   "cell_type": "markdown",
   "metadata": {
    "id": "7sBLzSPLBpZs"
   },
   "source": [
    "### **Instantiate Column Selectors**"
   ]
  },
  {
   "cell_type": "code",
   "execution_count": 63,
   "metadata": {
    "id": "1dMBx7j-CVKL"
   },
   "outputs": [],
   "source": [
    "# Create column selectors\n",
    "cat_selector = make_column_selector(dtype_include='object')\n",
    "num_selector = make_column_selector(dtype_include='number')"
   ]
  },
  {
   "cell_type": "code",
   "execution_count": 64,
   "metadata": {
    "colab": {
     "base_uri": "https://localhost:8080/"
    },
    "id": "9_Khz9WZEU5D",
    "outputId": "f5a18f40-fb38-4547-c5ab-872c0c20d8b3"
   },
   "outputs": [
    {
     "data": {
      "text/plain": [
       "['Defaulted']"
      ]
     },
     "execution_count": 64,
     "metadata": {},
     "output_type": "execute_result"
    }
   ],
   "source": [
    "# Display the list of categorical column names\n",
    "cat_selector(df)"
   ]
  },
  {
   "cell_type": "code",
   "execution_count": 65,
   "metadata": {
    "colab": {
     "base_uri": "https://localhost:8080/"
    },
    "id": "BdO7NlhaErnc",
    "outputId": "67dce580-95db-494d-d700-d3d2e33b3ead"
   },
   "outputs": [
    {
     "data": {
      "text/plain": [
       "['Age', 'Edu', 'Years Employed', 'Income', 'Card Debt', 'DebtIncomeRatio']"
      ]
     },
     "execution_count": 65,
     "metadata": {},
     "output_type": "execute_result"
    }
   ],
   "source": [
    "# Display the list of numeric column names.\n",
    "num_selector(df)"
   ]
  },
  {
   "cell_type": "markdown",
   "metadata": {
    "id": "3_MJ12EfBP1M"
   },
   "source": [
    "### **Instantiate Transformers**"
   ]
  },
  {
   "cell_type": "code",
   "execution_count": 66,
   "metadata": {
    "id": "mJPh9ESZBlqt"
   },
   "outputs": [],
   "source": [
    "# Imputers\n",
    "freq_imputer = SimpleImputer(strategy='most_frequent')\n",
    "median_imputer = SimpleImputer(strategy='median')\n",
    "# Scaler\n",
    "scaler = StandardScaler()\n",
    "# One Hot Encoder\n",
    "ohe = OneHotEncoder(handle_unknown='ignore', sparse=False)"
   ]
  },
  {
   "cell_type": "markdown",
   "metadata": {
    "id": "I9QYhz6GBbrY"
   },
   "source": [
    "### **Instantiate Pipelines**"
   ]
  },
  {
   "cell_type": "code",
   "execution_count": 67,
   "metadata": {
    "colab": {
     "base_uri": "https://localhost:8080/",
     "height": 127
    },
    "id": "ljedGo0UB4Xi",
    "outputId": "3c8a4727-ddff-4ddd-e2a5-ccd6d3402be3"
   },
   "outputs": [
    {
     "data": {
      "text/html": [
       "<style>#sk-a8596242-b7a4-436e-9a87-9a9a69b24afc {color: black;background-color: white;}#sk-a8596242-b7a4-436e-9a87-9a9a69b24afc pre{padding: 0;}#sk-a8596242-b7a4-436e-9a87-9a9a69b24afc div.sk-toggleable {background-color: white;}#sk-a8596242-b7a4-436e-9a87-9a9a69b24afc label.sk-toggleable__label {cursor: pointer;display: block;width: 100%;margin-bottom: 0;padding: 0.3em;box-sizing: border-box;text-align: center;}#sk-a8596242-b7a4-436e-9a87-9a9a69b24afc label.sk-toggleable__label-arrow:before {content: \"▸\";float: left;margin-right: 0.25em;color: #696969;}#sk-a8596242-b7a4-436e-9a87-9a9a69b24afc label.sk-toggleable__label-arrow:hover:before {color: black;}#sk-a8596242-b7a4-436e-9a87-9a9a69b24afc div.sk-estimator:hover label.sk-toggleable__label-arrow:before {color: black;}#sk-a8596242-b7a4-436e-9a87-9a9a69b24afc div.sk-toggleable__content {max-height: 0;max-width: 0;overflow: hidden;text-align: left;background-color: #f0f8ff;}#sk-a8596242-b7a4-436e-9a87-9a9a69b24afc div.sk-toggleable__content pre {margin: 0.2em;color: black;border-radius: 0.25em;background-color: #f0f8ff;}#sk-a8596242-b7a4-436e-9a87-9a9a69b24afc input.sk-toggleable__control:checked~div.sk-toggleable__content {max-height: 200px;max-width: 100%;overflow: auto;}#sk-a8596242-b7a4-436e-9a87-9a9a69b24afc input.sk-toggleable__control:checked~label.sk-toggleable__label-arrow:before {content: \"▾\";}#sk-a8596242-b7a4-436e-9a87-9a9a69b24afc div.sk-estimator input.sk-toggleable__control:checked~label.sk-toggleable__label {background-color: #d4ebff;}#sk-a8596242-b7a4-436e-9a87-9a9a69b24afc div.sk-label input.sk-toggleable__control:checked~label.sk-toggleable__label {background-color: #d4ebff;}#sk-a8596242-b7a4-436e-9a87-9a9a69b24afc input.sk-hidden--visually {border: 0;clip: rect(1px 1px 1px 1px);clip: rect(1px, 1px, 1px, 1px);height: 1px;margin: -1px;overflow: hidden;padding: 0;position: absolute;width: 1px;}#sk-a8596242-b7a4-436e-9a87-9a9a69b24afc div.sk-estimator {font-family: monospace;background-color: #f0f8ff;border: 1px dotted black;border-radius: 0.25em;box-sizing: border-box;margin-bottom: 0.5em;}#sk-a8596242-b7a4-436e-9a87-9a9a69b24afc div.sk-estimator:hover {background-color: #d4ebff;}#sk-a8596242-b7a4-436e-9a87-9a9a69b24afc div.sk-parallel-item::after {content: \"\";width: 100%;border-bottom: 1px solid gray;flex-grow: 1;}#sk-a8596242-b7a4-436e-9a87-9a9a69b24afc div.sk-label:hover label.sk-toggleable__label {background-color: #d4ebff;}#sk-a8596242-b7a4-436e-9a87-9a9a69b24afc div.sk-serial::before {content: \"\";position: absolute;border-left: 1px solid gray;box-sizing: border-box;top: 2em;bottom: 0;left: 50%;}#sk-a8596242-b7a4-436e-9a87-9a9a69b24afc div.sk-serial {display: flex;flex-direction: column;align-items: center;background-color: white;padding-right: 0.2em;padding-left: 0.2em;}#sk-a8596242-b7a4-436e-9a87-9a9a69b24afc div.sk-item {z-index: 1;}#sk-a8596242-b7a4-436e-9a87-9a9a69b24afc div.sk-parallel {display: flex;align-items: stretch;justify-content: center;background-color: white;}#sk-a8596242-b7a4-436e-9a87-9a9a69b24afc div.sk-parallel::before {content: \"\";position: absolute;border-left: 1px solid gray;box-sizing: border-box;top: 2em;bottom: 0;left: 50%;}#sk-a8596242-b7a4-436e-9a87-9a9a69b24afc div.sk-parallel-item {display: flex;flex-direction: column;position: relative;background-color: white;}#sk-a8596242-b7a4-436e-9a87-9a9a69b24afc div.sk-parallel-item:first-child::after {align-self: flex-end;width: 50%;}#sk-a8596242-b7a4-436e-9a87-9a9a69b24afc div.sk-parallel-item:last-child::after {align-self: flex-start;width: 50%;}#sk-a8596242-b7a4-436e-9a87-9a9a69b24afc div.sk-parallel-item:only-child::after {width: 0;}#sk-a8596242-b7a4-436e-9a87-9a9a69b24afc div.sk-dashed-wrapped {border: 1px dashed gray;margin: 0 0.4em 0.5em 0.4em;box-sizing: border-box;padding-bottom: 0.4em;background-color: white;position: relative;}#sk-a8596242-b7a4-436e-9a87-9a9a69b24afc div.sk-label label {font-family: monospace;font-weight: bold;background-color: white;display: inline-block;line-height: 1.2em;}#sk-a8596242-b7a4-436e-9a87-9a9a69b24afc div.sk-label-container {position: relative;z-index: 2;text-align: center;}#sk-a8596242-b7a4-436e-9a87-9a9a69b24afc div.sk-container {/* jupyter's `normalize.less` sets `[hidden] { display: none; }` but bootstrap.min.css set `[hidden] { display: none !important; }` so we also need the `!important` here to be able to override the default hidden behavior on the sphinx rendered scikit-learn.org. See: https://github.com/scikit-learn/scikit-learn/issues/21755 */display: inline-block !important;position: relative;}#sk-a8596242-b7a4-436e-9a87-9a9a69b24afc div.sk-text-repr-fallback {display: none;}</style><div id=\"sk-a8596242-b7a4-436e-9a87-9a9a69b24afc\" class=\"sk-top-container\"><div class=\"sk-text-repr-fallback\"><pre>Pipeline(steps=[(&#x27;simpleimputer&#x27;, SimpleImputer(strategy=&#x27;median&#x27;)),\n",
       "                (&#x27;standardscaler&#x27;, StandardScaler())])</pre><b>Please rerun this cell to show the HTML repr or trust the notebook.</b></div><div class=\"sk-container\" hidden><div class=\"sk-item sk-dashed-wrapped\"><div class=\"sk-label-container\"><div class=\"sk-label sk-toggleable\"><input class=\"sk-toggleable__control sk-hidden--visually\" id=\"fcf5deb6-2c7a-4d96-ab1f-e70604dfe9a5\" type=\"checkbox\" ><label for=\"fcf5deb6-2c7a-4d96-ab1f-e70604dfe9a5\" class=\"sk-toggleable__label sk-toggleable__label-arrow\">Pipeline</label><div class=\"sk-toggleable__content\"><pre>Pipeline(steps=[(&#x27;simpleimputer&#x27;, SimpleImputer(strategy=&#x27;median&#x27;)),\n",
       "                (&#x27;standardscaler&#x27;, StandardScaler())])</pre></div></div></div><div class=\"sk-serial\"><div class=\"sk-item\"><div class=\"sk-estimator sk-toggleable\"><input class=\"sk-toggleable__control sk-hidden--visually\" id=\"9c70ca51-542c-4e54-9639-a6bf03154729\" type=\"checkbox\" ><label for=\"9c70ca51-542c-4e54-9639-a6bf03154729\" class=\"sk-toggleable__label sk-toggleable__label-arrow\">SimpleImputer</label><div class=\"sk-toggleable__content\"><pre>SimpleImputer(strategy=&#x27;median&#x27;)</pre></div></div></div><div class=\"sk-item\"><div class=\"sk-estimator sk-toggleable\"><input class=\"sk-toggleable__control sk-hidden--visually\" id=\"10d5cb05-2938-4cba-9046-6258c6abfd04\" type=\"checkbox\" ><label for=\"10d5cb05-2938-4cba-9046-6258c6abfd04\" class=\"sk-toggleable__label sk-toggleable__label-arrow\">StandardScaler</label><div class=\"sk-toggleable__content\"><pre>StandardScaler()</pre></div></div></div></div></div></div></div>"
      ],
      "text/plain": [
       "Pipeline(steps=[('simpleimputer', SimpleImputer(strategy='median')),\n",
       "                ('standardscaler', StandardScaler())])"
      ]
     },
     "execution_count": 67,
     "metadata": {},
     "output_type": "execute_result"
    }
   ],
   "source": [
    "# Create the numeric pipeline\n",
    "numeric_pipe = make_pipeline(median_imputer, scaler)\n",
    "# Display the numeric pipeline\n",
    "numeric_pipe"
   ]
  },
  {
   "cell_type": "code",
   "execution_count": 68,
   "metadata": {
    "colab": {
     "base_uri": "https://localhost:8080/",
     "height": 127
    },
    "id": "VUB4INtqB8Qg",
    "outputId": "44b2e834-f5a8-4774-aa61-539f8379d4b1"
   },
   "outputs": [
    {
     "data": {
      "text/html": [
       "<style>#sk-850b84c4-b8de-4c68-9ce8-d3b843a52c87 {color: black;background-color: white;}#sk-850b84c4-b8de-4c68-9ce8-d3b843a52c87 pre{padding: 0;}#sk-850b84c4-b8de-4c68-9ce8-d3b843a52c87 div.sk-toggleable {background-color: white;}#sk-850b84c4-b8de-4c68-9ce8-d3b843a52c87 label.sk-toggleable__label {cursor: pointer;display: block;width: 100%;margin-bottom: 0;padding: 0.3em;box-sizing: border-box;text-align: center;}#sk-850b84c4-b8de-4c68-9ce8-d3b843a52c87 label.sk-toggleable__label-arrow:before {content: \"▸\";float: left;margin-right: 0.25em;color: #696969;}#sk-850b84c4-b8de-4c68-9ce8-d3b843a52c87 label.sk-toggleable__label-arrow:hover:before {color: black;}#sk-850b84c4-b8de-4c68-9ce8-d3b843a52c87 div.sk-estimator:hover label.sk-toggleable__label-arrow:before {color: black;}#sk-850b84c4-b8de-4c68-9ce8-d3b843a52c87 div.sk-toggleable__content {max-height: 0;max-width: 0;overflow: hidden;text-align: left;background-color: #f0f8ff;}#sk-850b84c4-b8de-4c68-9ce8-d3b843a52c87 div.sk-toggleable__content pre {margin: 0.2em;color: black;border-radius: 0.25em;background-color: #f0f8ff;}#sk-850b84c4-b8de-4c68-9ce8-d3b843a52c87 input.sk-toggleable__control:checked~div.sk-toggleable__content {max-height: 200px;max-width: 100%;overflow: auto;}#sk-850b84c4-b8de-4c68-9ce8-d3b843a52c87 input.sk-toggleable__control:checked~label.sk-toggleable__label-arrow:before {content: \"▾\";}#sk-850b84c4-b8de-4c68-9ce8-d3b843a52c87 div.sk-estimator input.sk-toggleable__control:checked~label.sk-toggleable__label {background-color: #d4ebff;}#sk-850b84c4-b8de-4c68-9ce8-d3b843a52c87 div.sk-label input.sk-toggleable__control:checked~label.sk-toggleable__label {background-color: #d4ebff;}#sk-850b84c4-b8de-4c68-9ce8-d3b843a52c87 input.sk-hidden--visually {border: 0;clip: rect(1px 1px 1px 1px);clip: rect(1px, 1px, 1px, 1px);height: 1px;margin: -1px;overflow: hidden;padding: 0;position: absolute;width: 1px;}#sk-850b84c4-b8de-4c68-9ce8-d3b843a52c87 div.sk-estimator {font-family: monospace;background-color: #f0f8ff;border: 1px dotted black;border-radius: 0.25em;box-sizing: border-box;margin-bottom: 0.5em;}#sk-850b84c4-b8de-4c68-9ce8-d3b843a52c87 div.sk-estimator:hover {background-color: #d4ebff;}#sk-850b84c4-b8de-4c68-9ce8-d3b843a52c87 div.sk-parallel-item::after {content: \"\";width: 100%;border-bottom: 1px solid gray;flex-grow: 1;}#sk-850b84c4-b8de-4c68-9ce8-d3b843a52c87 div.sk-label:hover label.sk-toggleable__label {background-color: #d4ebff;}#sk-850b84c4-b8de-4c68-9ce8-d3b843a52c87 div.sk-serial::before {content: \"\";position: absolute;border-left: 1px solid gray;box-sizing: border-box;top: 2em;bottom: 0;left: 50%;}#sk-850b84c4-b8de-4c68-9ce8-d3b843a52c87 div.sk-serial {display: flex;flex-direction: column;align-items: center;background-color: white;padding-right: 0.2em;padding-left: 0.2em;}#sk-850b84c4-b8de-4c68-9ce8-d3b843a52c87 div.sk-item {z-index: 1;}#sk-850b84c4-b8de-4c68-9ce8-d3b843a52c87 div.sk-parallel {display: flex;align-items: stretch;justify-content: center;background-color: white;}#sk-850b84c4-b8de-4c68-9ce8-d3b843a52c87 div.sk-parallel::before {content: \"\";position: absolute;border-left: 1px solid gray;box-sizing: border-box;top: 2em;bottom: 0;left: 50%;}#sk-850b84c4-b8de-4c68-9ce8-d3b843a52c87 div.sk-parallel-item {display: flex;flex-direction: column;position: relative;background-color: white;}#sk-850b84c4-b8de-4c68-9ce8-d3b843a52c87 div.sk-parallel-item:first-child::after {align-self: flex-end;width: 50%;}#sk-850b84c4-b8de-4c68-9ce8-d3b843a52c87 div.sk-parallel-item:last-child::after {align-self: flex-start;width: 50%;}#sk-850b84c4-b8de-4c68-9ce8-d3b843a52c87 div.sk-parallel-item:only-child::after {width: 0;}#sk-850b84c4-b8de-4c68-9ce8-d3b843a52c87 div.sk-dashed-wrapped {border: 1px dashed gray;margin: 0 0.4em 0.5em 0.4em;box-sizing: border-box;padding-bottom: 0.4em;background-color: white;position: relative;}#sk-850b84c4-b8de-4c68-9ce8-d3b843a52c87 div.sk-label label {font-family: monospace;font-weight: bold;background-color: white;display: inline-block;line-height: 1.2em;}#sk-850b84c4-b8de-4c68-9ce8-d3b843a52c87 div.sk-label-container {position: relative;z-index: 2;text-align: center;}#sk-850b84c4-b8de-4c68-9ce8-d3b843a52c87 div.sk-container {/* jupyter's `normalize.less` sets `[hidden] { display: none; }` but bootstrap.min.css set `[hidden] { display: none !important; }` so we also need the `!important` here to be able to override the default hidden behavior on the sphinx rendered scikit-learn.org. See: https://github.com/scikit-learn/scikit-learn/issues/21755 */display: inline-block !important;position: relative;}#sk-850b84c4-b8de-4c68-9ce8-d3b843a52c87 div.sk-text-repr-fallback {display: none;}</style><div id=\"sk-850b84c4-b8de-4c68-9ce8-d3b843a52c87\" class=\"sk-top-container\"><div class=\"sk-text-repr-fallback\"><pre>Pipeline(steps=[(&#x27;simpleimputer&#x27;, SimpleImputer(strategy=&#x27;most_frequent&#x27;)),\n",
       "                (&#x27;onehotencoder&#x27;,\n",
       "                 OneHotEncoder(handle_unknown=&#x27;ignore&#x27;, sparse=False))])</pre><b>Please rerun this cell to show the HTML repr or trust the notebook.</b></div><div class=\"sk-container\" hidden><div class=\"sk-item sk-dashed-wrapped\"><div class=\"sk-label-container\"><div class=\"sk-label sk-toggleable\"><input class=\"sk-toggleable__control sk-hidden--visually\" id=\"c57b4e68-728d-4914-8976-5c72d43f842d\" type=\"checkbox\" ><label for=\"c57b4e68-728d-4914-8976-5c72d43f842d\" class=\"sk-toggleable__label sk-toggleable__label-arrow\">Pipeline</label><div class=\"sk-toggleable__content\"><pre>Pipeline(steps=[(&#x27;simpleimputer&#x27;, SimpleImputer(strategy=&#x27;most_frequent&#x27;)),\n",
       "                (&#x27;onehotencoder&#x27;,\n",
       "                 OneHotEncoder(handle_unknown=&#x27;ignore&#x27;, sparse=False))])</pre></div></div></div><div class=\"sk-serial\"><div class=\"sk-item\"><div class=\"sk-estimator sk-toggleable\"><input class=\"sk-toggleable__control sk-hidden--visually\" id=\"b00c84a2-8ba1-4f1b-9b63-94ad5bf0b452\" type=\"checkbox\" ><label for=\"b00c84a2-8ba1-4f1b-9b63-94ad5bf0b452\" class=\"sk-toggleable__label sk-toggleable__label-arrow\">SimpleImputer</label><div class=\"sk-toggleable__content\"><pre>SimpleImputer(strategy=&#x27;most_frequent&#x27;)</pre></div></div></div><div class=\"sk-item\"><div class=\"sk-estimator sk-toggleable\"><input class=\"sk-toggleable__control sk-hidden--visually\" id=\"b4328e6d-7dc1-497f-993b-28e1397ee590\" type=\"checkbox\" ><label for=\"b4328e6d-7dc1-497f-993b-28e1397ee590\" class=\"sk-toggleable__label sk-toggleable__label-arrow\">OneHotEncoder</label><div class=\"sk-toggleable__content\"><pre>OneHotEncoder(handle_unknown=&#x27;ignore&#x27;, sparse=False)</pre></div></div></div></div></div></div></div>"
      ],
      "text/plain": [
       "Pipeline(steps=[('simpleimputer', SimpleImputer(strategy='most_frequent')),\n",
       "                ('onehotencoder',\n",
       "                 OneHotEncoder(handle_unknown='ignore', sparse=False))])"
      ]
     },
     "execution_count": 68,
     "metadata": {},
     "output_type": "execute_result"
    }
   ],
   "source": [
    "# Create the categorical pipeline\n",
    "categorical_pipe = make_pipeline(freq_imputer, ohe)\n",
    "# Display the categorical pipeline\n",
    "categorical_pipe"
   ]
  },
  {
   "cell_type": "markdown",
   "metadata": {
    "id": "IyyJcylbBinz"
   },
   "source": [
    "### **Instantiate ColumnTransformer**"
   ]
  },
  {
   "cell_type": "code",
   "execution_count": 69,
   "metadata": {
    "colab": {
     "base_uri": "https://localhost:8080/",
     "height": 153
    },
    "id": "GUMU9szJCBDl",
    "outputId": "b377c3a9-bd87-4c1e-e723-5bf09883b43c"
   },
   "outputs": [
    {
     "data": {
      "text/html": [
       "<style>#sk-d343afe3-dcf3-4514-ad71-2c2e1bcfcf50 {color: black;background-color: white;}#sk-d343afe3-dcf3-4514-ad71-2c2e1bcfcf50 pre{padding: 0;}#sk-d343afe3-dcf3-4514-ad71-2c2e1bcfcf50 div.sk-toggleable {background-color: white;}#sk-d343afe3-dcf3-4514-ad71-2c2e1bcfcf50 label.sk-toggleable__label {cursor: pointer;display: block;width: 100%;margin-bottom: 0;padding: 0.3em;box-sizing: border-box;text-align: center;}#sk-d343afe3-dcf3-4514-ad71-2c2e1bcfcf50 label.sk-toggleable__label-arrow:before {content: \"▸\";float: left;margin-right: 0.25em;color: #696969;}#sk-d343afe3-dcf3-4514-ad71-2c2e1bcfcf50 label.sk-toggleable__label-arrow:hover:before {color: black;}#sk-d343afe3-dcf3-4514-ad71-2c2e1bcfcf50 div.sk-estimator:hover label.sk-toggleable__label-arrow:before {color: black;}#sk-d343afe3-dcf3-4514-ad71-2c2e1bcfcf50 div.sk-toggleable__content {max-height: 0;max-width: 0;overflow: hidden;text-align: left;background-color: #f0f8ff;}#sk-d343afe3-dcf3-4514-ad71-2c2e1bcfcf50 div.sk-toggleable__content pre {margin: 0.2em;color: black;border-radius: 0.25em;background-color: #f0f8ff;}#sk-d343afe3-dcf3-4514-ad71-2c2e1bcfcf50 input.sk-toggleable__control:checked~div.sk-toggleable__content {max-height: 200px;max-width: 100%;overflow: auto;}#sk-d343afe3-dcf3-4514-ad71-2c2e1bcfcf50 input.sk-toggleable__control:checked~label.sk-toggleable__label-arrow:before {content: \"▾\";}#sk-d343afe3-dcf3-4514-ad71-2c2e1bcfcf50 div.sk-estimator input.sk-toggleable__control:checked~label.sk-toggleable__label {background-color: #d4ebff;}#sk-d343afe3-dcf3-4514-ad71-2c2e1bcfcf50 div.sk-label input.sk-toggleable__control:checked~label.sk-toggleable__label {background-color: #d4ebff;}#sk-d343afe3-dcf3-4514-ad71-2c2e1bcfcf50 input.sk-hidden--visually {border: 0;clip: rect(1px 1px 1px 1px);clip: rect(1px, 1px, 1px, 1px);height: 1px;margin: -1px;overflow: hidden;padding: 0;position: absolute;width: 1px;}#sk-d343afe3-dcf3-4514-ad71-2c2e1bcfcf50 div.sk-estimator {font-family: monospace;background-color: #f0f8ff;border: 1px dotted black;border-radius: 0.25em;box-sizing: border-box;margin-bottom: 0.5em;}#sk-d343afe3-dcf3-4514-ad71-2c2e1bcfcf50 div.sk-estimator:hover {background-color: #d4ebff;}#sk-d343afe3-dcf3-4514-ad71-2c2e1bcfcf50 div.sk-parallel-item::after {content: \"\";width: 100%;border-bottom: 1px solid gray;flex-grow: 1;}#sk-d343afe3-dcf3-4514-ad71-2c2e1bcfcf50 div.sk-label:hover label.sk-toggleable__label {background-color: #d4ebff;}#sk-d343afe3-dcf3-4514-ad71-2c2e1bcfcf50 div.sk-serial::before {content: \"\";position: absolute;border-left: 1px solid gray;box-sizing: border-box;top: 2em;bottom: 0;left: 50%;}#sk-d343afe3-dcf3-4514-ad71-2c2e1bcfcf50 div.sk-serial {display: flex;flex-direction: column;align-items: center;background-color: white;padding-right: 0.2em;padding-left: 0.2em;}#sk-d343afe3-dcf3-4514-ad71-2c2e1bcfcf50 div.sk-item {z-index: 1;}#sk-d343afe3-dcf3-4514-ad71-2c2e1bcfcf50 div.sk-parallel {display: flex;align-items: stretch;justify-content: center;background-color: white;}#sk-d343afe3-dcf3-4514-ad71-2c2e1bcfcf50 div.sk-parallel::before {content: \"\";position: absolute;border-left: 1px solid gray;box-sizing: border-box;top: 2em;bottom: 0;left: 50%;}#sk-d343afe3-dcf3-4514-ad71-2c2e1bcfcf50 div.sk-parallel-item {display: flex;flex-direction: column;position: relative;background-color: white;}#sk-d343afe3-dcf3-4514-ad71-2c2e1bcfcf50 div.sk-parallel-item:first-child::after {align-self: flex-end;width: 50%;}#sk-d343afe3-dcf3-4514-ad71-2c2e1bcfcf50 div.sk-parallel-item:last-child::after {align-self: flex-start;width: 50%;}#sk-d343afe3-dcf3-4514-ad71-2c2e1bcfcf50 div.sk-parallel-item:only-child::after {width: 0;}#sk-d343afe3-dcf3-4514-ad71-2c2e1bcfcf50 div.sk-dashed-wrapped {border: 1px dashed gray;margin: 0 0.4em 0.5em 0.4em;box-sizing: border-box;padding-bottom: 0.4em;background-color: white;position: relative;}#sk-d343afe3-dcf3-4514-ad71-2c2e1bcfcf50 div.sk-label label {font-family: monospace;font-weight: bold;background-color: white;display: inline-block;line-height: 1.2em;}#sk-d343afe3-dcf3-4514-ad71-2c2e1bcfcf50 div.sk-label-container {position: relative;z-index: 2;text-align: center;}#sk-d343afe3-dcf3-4514-ad71-2c2e1bcfcf50 div.sk-container {/* jupyter's `normalize.less` sets `[hidden] { display: none; }` but bootstrap.min.css set `[hidden] { display: none !important; }` so we also need the `!important` here to be able to override the default hidden behavior on the sphinx rendered scikit-learn.org. See: https://github.com/scikit-learn/scikit-learn/issues/21755 */display: inline-block !important;position: relative;}#sk-d343afe3-dcf3-4514-ad71-2c2e1bcfcf50 div.sk-text-repr-fallback {display: none;}</style><div id=\"sk-d343afe3-dcf3-4514-ad71-2c2e1bcfcf50\" class=\"sk-top-container\"><div class=\"sk-text-repr-fallback\"><pre>ColumnTransformer(remainder=&#x27;passthrough&#x27;,\n",
       "                  transformers=[(&#x27;pipeline-1&#x27;,\n",
       "                                 Pipeline(steps=[(&#x27;simpleimputer&#x27;,\n",
       "                                                  SimpleImputer(strategy=&#x27;median&#x27;)),\n",
       "                                                 (&#x27;standardscaler&#x27;,\n",
       "                                                  StandardScaler())]),\n",
       "                                 &lt;sklearn.compose._column_transformer.make_column_selector object at 0x0000027097A16408&gt;),\n",
       "                                (&#x27;pipeline-2&#x27;,\n",
       "                                 Pipeline(steps=[(&#x27;simpleimputer&#x27;,\n",
       "                                                  SimpleImputer(strategy=&#x27;most_frequent&#x27;)),\n",
       "                                                 (&#x27;onehotencoder&#x27;,\n",
       "                                                  OneHotEncoder(handle_unknown=&#x27;ignore&#x27;,\n",
       "                                                                sparse=False))]),\n",
       "                                 &lt;sklearn.compose._column_transformer.make_column_selector object at 0x0000027097A16808&gt;)])</pre><b>Please rerun this cell to show the HTML repr or trust the notebook.</b></div><div class=\"sk-container\" hidden><div class=\"sk-item sk-dashed-wrapped\"><div class=\"sk-label-container\"><div class=\"sk-label sk-toggleable\"><input class=\"sk-toggleable__control sk-hidden--visually\" id=\"fadf5b20-d31f-41b9-a65b-0738f72c72a1\" type=\"checkbox\" ><label for=\"fadf5b20-d31f-41b9-a65b-0738f72c72a1\" class=\"sk-toggleable__label sk-toggleable__label-arrow\">ColumnTransformer</label><div class=\"sk-toggleable__content\"><pre>ColumnTransformer(remainder=&#x27;passthrough&#x27;,\n",
       "                  transformers=[(&#x27;pipeline-1&#x27;,\n",
       "                                 Pipeline(steps=[(&#x27;simpleimputer&#x27;,\n",
       "                                                  SimpleImputer(strategy=&#x27;median&#x27;)),\n",
       "                                                 (&#x27;standardscaler&#x27;,\n",
       "                                                  StandardScaler())]),\n",
       "                                 &lt;sklearn.compose._column_transformer.make_column_selector object at 0x0000027097A16408&gt;),\n",
       "                                (&#x27;pipeline-2&#x27;,\n",
       "                                 Pipeline(steps=[(&#x27;simpleimputer&#x27;,\n",
       "                                                  SimpleImputer(strategy=&#x27;most_frequent&#x27;)),\n",
       "                                                 (&#x27;onehotencoder&#x27;,\n",
       "                                                  OneHotEncoder(handle_unknown=&#x27;ignore&#x27;,\n",
       "                                                                sparse=False))]),\n",
       "                                 &lt;sklearn.compose._column_transformer.make_column_selector object at 0x0000027097A16808&gt;)])</pre></div></div></div><div class=\"sk-parallel\"><div class=\"sk-parallel-item\"><div class=\"sk-item\"><div class=\"sk-label-container\"><div class=\"sk-label sk-toggleable\"><input class=\"sk-toggleable__control sk-hidden--visually\" id=\"afaec2e3-6374-4651-9a64-4f0d4f8973c1\" type=\"checkbox\" ><label for=\"afaec2e3-6374-4651-9a64-4f0d4f8973c1\" class=\"sk-toggleable__label sk-toggleable__label-arrow\">pipeline-1</label><div class=\"sk-toggleable__content\"><pre>&lt;sklearn.compose._column_transformer.make_column_selector object at 0x0000027097A16408&gt;</pre></div></div></div><div class=\"sk-serial\"><div class=\"sk-item\"><div class=\"sk-serial\"><div class=\"sk-item\"><div class=\"sk-estimator sk-toggleable\"><input class=\"sk-toggleable__control sk-hidden--visually\" id=\"619bd3b0-6e0c-499e-ae3b-70c8f38a1f0a\" type=\"checkbox\" ><label for=\"619bd3b0-6e0c-499e-ae3b-70c8f38a1f0a\" class=\"sk-toggleable__label sk-toggleable__label-arrow\">SimpleImputer</label><div class=\"sk-toggleable__content\"><pre>SimpleImputer(strategy=&#x27;median&#x27;)</pre></div></div></div><div class=\"sk-item\"><div class=\"sk-estimator sk-toggleable\"><input class=\"sk-toggleable__control sk-hidden--visually\" id=\"b95f1819-a837-41b0-9bca-d08ed9ca6f09\" type=\"checkbox\" ><label for=\"b95f1819-a837-41b0-9bca-d08ed9ca6f09\" class=\"sk-toggleable__label sk-toggleable__label-arrow\">StandardScaler</label><div class=\"sk-toggleable__content\"><pre>StandardScaler()</pre></div></div></div></div></div></div></div></div><div class=\"sk-parallel-item\"><div class=\"sk-item\"><div class=\"sk-label-container\"><div class=\"sk-label sk-toggleable\"><input class=\"sk-toggleable__control sk-hidden--visually\" id=\"6c8da11d-099e-4108-9b31-22a9f6ab7e51\" type=\"checkbox\" ><label for=\"6c8da11d-099e-4108-9b31-22a9f6ab7e51\" class=\"sk-toggleable__label sk-toggleable__label-arrow\">pipeline-2</label><div class=\"sk-toggleable__content\"><pre>&lt;sklearn.compose._column_transformer.make_column_selector object at 0x0000027097A16808&gt;</pre></div></div></div><div class=\"sk-serial\"><div class=\"sk-item\"><div class=\"sk-serial\"><div class=\"sk-item\"><div class=\"sk-estimator sk-toggleable\"><input class=\"sk-toggleable__control sk-hidden--visually\" id=\"2ed598c6-69c4-4f3a-86e5-ce18bfa701ff\" type=\"checkbox\" ><label for=\"2ed598c6-69c4-4f3a-86e5-ce18bfa701ff\" class=\"sk-toggleable__label sk-toggleable__label-arrow\">SimpleImputer</label><div class=\"sk-toggleable__content\"><pre>SimpleImputer(strategy=&#x27;most_frequent&#x27;)</pre></div></div></div><div class=\"sk-item\"><div class=\"sk-estimator sk-toggleable\"><input class=\"sk-toggleable__control sk-hidden--visually\" id=\"b4e6b1fe-eda8-44dc-93f4-4af972416b29\" type=\"checkbox\" ><label for=\"b4e6b1fe-eda8-44dc-93f4-4af972416b29\" class=\"sk-toggleable__label sk-toggleable__label-arrow\">OneHotEncoder</label><div class=\"sk-toggleable__content\"><pre>OneHotEncoder(handle_unknown=&#x27;ignore&#x27;, sparse=False)</pre></div></div></div></div></div></div></div></div><div class=\"sk-parallel-item\"><div class=\"sk-item\"><div class=\"sk-label-container\"><div class=\"sk-label sk-toggleable\"><input class=\"sk-toggleable__control sk-hidden--visually\" id=\"539a2edc-7a5f-4496-a194-8a0f164c7e2e\" type=\"checkbox\" ><label for=\"539a2edc-7a5f-4496-a194-8a0f164c7e2e\" class=\"sk-toggleable__label sk-toggleable__label-arrow\">remainder</label><div class=\"sk-toggleable__content\"><pre></pre></div></div></div><div class=\"sk-serial\"><div class=\"sk-item\"><div class=\"sk-estimator sk-toggleable\"><input class=\"sk-toggleable__control sk-hidden--visually\" id=\"586b480a-6e51-42ad-a03a-8052b1e721cd\" type=\"checkbox\" ><label for=\"586b480a-6e51-42ad-a03a-8052b1e721cd\" class=\"sk-toggleable__label sk-toggleable__label-arrow\">passthrough</label><div class=\"sk-toggleable__content\"><pre>passthrough</pre></div></div></div></div></div></div></div></div></div></div>"
      ],
      "text/plain": [
       "ColumnTransformer(remainder='passthrough',\n",
       "                  transformers=[('pipeline-1',\n",
       "                                 Pipeline(steps=[('simpleimputer',\n",
       "                                                  SimpleImputer(strategy='median')),\n",
       "                                                 ('standardscaler',\n",
       "                                                  StandardScaler())]),\n",
       "                                 <sklearn.compose._column_transformer.make_column_selector object at 0x0000027097A16408>),\n",
       "                                ('pipeline-2',\n",
       "                                 Pipeline(steps=[('simpleimputer',\n",
       "                                                  SimpleImputer(strategy='most_frequent')),\n",
       "                                                 ('onehotencoder',\n",
       "                                                  OneHotEncoder(handle_unknown='ignore',\n",
       "                                                                sparse=False))]),\n",
       "                                 <sklearn.compose._column_transformer.make_column_selector object at 0x0000027097A16808>)])"
      ]
     },
     "execution_count": 69,
     "metadata": {},
     "output_type": "execute_result"
    }
   ],
   "source": [
    "# Create tuples for the Column Transformers\n",
    "number_tuple = (numeric_pipe, num_selector)\n",
    "category_tuple = (categorical_pipe, cat_selector)\n",
    "# Create the ColumnTransformer\n",
    "preprocessor = make_column_transformer(number_tuple, \n",
    "                                       category_tuple, \n",
    "                                       remainder='passthrough')\n",
    "# Display the ColumnTransformer\n",
    "preprocessor"
   ]
  },
  {
   "cell_type": "markdown",
   "metadata": {
    "id": "UWx7IUbSBqCG"
   },
   "source": [
    "### **Fit and Transform Data**"
   ]
  },
  {
   "cell_type": "code",
   "execution_count": 70,
   "metadata": {
    "colab": {
     "base_uri": "https://localhost:8080/",
     "height": 153
    },
    "id": "o6M3u2CRCfIS",
    "outputId": "23feb0fa-0957-42dd-8ae4-76038ccacec0"
   },
   "outputs": [
    {
     "data": {
      "text/html": [
       "<style>#sk-eee440b1-c4ad-4024-ac94-fd3bd2871f83 {color: black;background-color: white;}#sk-eee440b1-c4ad-4024-ac94-fd3bd2871f83 pre{padding: 0;}#sk-eee440b1-c4ad-4024-ac94-fd3bd2871f83 div.sk-toggleable {background-color: white;}#sk-eee440b1-c4ad-4024-ac94-fd3bd2871f83 label.sk-toggleable__label {cursor: pointer;display: block;width: 100%;margin-bottom: 0;padding: 0.3em;box-sizing: border-box;text-align: center;}#sk-eee440b1-c4ad-4024-ac94-fd3bd2871f83 label.sk-toggleable__label-arrow:before {content: \"▸\";float: left;margin-right: 0.25em;color: #696969;}#sk-eee440b1-c4ad-4024-ac94-fd3bd2871f83 label.sk-toggleable__label-arrow:hover:before {color: black;}#sk-eee440b1-c4ad-4024-ac94-fd3bd2871f83 div.sk-estimator:hover label.sk-toggleable__label-arrow:before {color: black;}#sk-eee440b1-c4ad-4024-ac94-fd3bd2871f83 div.sk-toggleable__content {max-height: 0;max-width: 0;overflow: hidden;text-align: left;background-color: #f0f8ff;}#sk-eee440b1-c4ad-4024-ac94-fd3bd2871f83 div.sk-toggleable__content pre {margin: 0.2em;color: black;border-radius: 0.25em;background-color: #f0f8ff;}#sk-eee440b1-c4ad-4024-ac94-fd3bd2871f83 input.sk-toggleable__control:checked~div.sk-toggleable__content {max-height: 200px;max-width: 100%;overflow: auto;}#sk-eee440b1-c4ad-4024-ac94-fd3bd2871f83 input.sk-toggleable__control:checked~label.sk-toggleable__label-arrow:before {content: \"▾\";}#sk-eee440b1-c4ad-4024-ac94-fd3bd2871f83 div.sk-estimator input.sk-toggleable__control:checked~label.sk-toggleable__label {background-color: #d4ebff;}#sk-eee440b1-c4ad-4024-ac94-fd3bd2871f83 div.sk-label input.sk-toggleable__control:checked~label.sk-toggleable__label {background-color: #d4ebff;}#sk-eee440b1-c4ad-4024-ac94-fd3bd2871f83 input.sk-hidden--visually {border: 0;clip: rect(1px 1px 1px 1px);clip: rect(1px, 1px, 1px, 1px);height: 1px;margin: -1px;overflow: hidden;padding: 0;position: absolute;width: 1px;}#sk-eee440b1-c4ad-4024-ac94-fd3bd2871f83 div.sk-estimator {font-family: monospace;background-color: #f0f8ff;border: 1px dotted black;border-radius: 0.25em;box-sizing: border-box;margin-bottom: 0.5em;}#sk-eee440b1-c4ad-4024-ac94-fd3bd2871f83 div.sk-estimator:hover {background-color: #d4ebff;}#sk-eee440b1-c4ad-4024-ac94-fd3bd2871f83 div.sk-parallel-item::after {content: \"\";width: 100%;border-bottom: 1px solid gray;flex-grow: 1;}#sk-eee440b1-c4ad-4024-ac94-fd3bd2871f83 div.sk-label:hover label.sk-toggleable__label {background-color: #d4ebff;}#sk-eee440b1-c4ad-4024-ac94-fd3bd2871f83 div.sk-serial::before {content: \"\";position: absolute;border-left: 1px solid gray;box-sizing: border-box;top: 2em;bottom: 0;left: 50%;}#sk-eee440b1-c4ad-4024-ac94-fd3bd2871f83 div.sk-serial {display: flex;flex-direction: column;align-items: center;background-color: white;padding-right: 0.2em;padding-left: 0.2em;}#sk-eee440b1-c4ad-4024-ac94-fd3bd2871f83 div.sk-item {z-index: 1;}#sk-eee440b1-c4ad-4024-ac94-fd3bd2871f83 div.sk-parallel {display: flex;align-items: stretch;justify-content: center;background-color: white;}#sk-eee440b1-c4ad-4024-ac94-fd3bd2871f83 div.sk-parallel::before {content: \"\";position: absolute;border-left: 1px solid gray;box-sizing: border-box;top: 2em;bottom: 0;left: 50%;}#sk-eee440b1-c4ad-4024-ac94-fd3bd2871f83 div.sk-parallel-item {display: flex;flex-direction: column;position: relative;background-color: white;}#sk-eee440b1-c4ad-4024-ac94-fd3bd2871f83 div.sk-parallel-item:first-child::after {align-self: flex-end;width: 50%;}#sk-eee440b1-c4ad-4024-ac94-fd3bd2871f83 div.sk-parallel-item:last-child::after {align-self: flex-start;width: 50%;}#sk-eee440b1-c4ad-4024-ac94-fd3bd2871f83 div.sk-parallel-item:only-child::after {width: 0;}#sk-eee440b1-c4ad-4024-ac94-fd3bd2871f83 div.sk-dashed-wrapped {border: 1px dashed gray;margin: 0 0.4em 0.5em 0.4em;box-sizing: border-box;padding-bottom: 0.4em;background-color: white;position: relative;}#sk-eee440b1-c4ad-4024-ac94-fd3bd2871f83 div.sk-label label {font-family: monospace;font-weight: bold;background-color: white;display: inline-block;line-height: 1.2em;}#sk-eee440b1-c4ad-4024-ac94-fd3bd2871f83 div.sk-label-container {position: relative;z-index: 2;text-align: center;}#sk-eee440b1-c4ad-4024-ac94-fd3bd2871f83 div.sk-container {/* jupyter's `normalize.less` sets `[hidden] { display: none; }` but bootstrap.min.css set `[hidden] { display: none !important; }` so we also need the `!important` here to be able to override the default hidden behavior on the sphinx rendered scikit-learn.org. See: https://github.com/scikit-learn/scikit-learn/issues/21755 */display: inline-block !important;position: relative;}#sk-eee440b1-c4ad-4024-ac94-fd3bd2871f83 div.sk-text-repr-fallback {display: none;}</style><div id=\"sk-eee440b1-c4ad-4024-ac94-fd3bd2871f83\" class=\"sk-top-container\"><div class=\"sk-text-repr-fallback\"><pre>ColumnTransformer(remainder=&#x27;passthrough&#x27;,\n",
       "                  transformers=[(&#x27;pipeline-1&#x27;,\n",
       "                                 Pipeline(steps=[(&#x27;simpleimputer&#x27;,\n",
       "                                                  SimpleImputer(strategy=&#x27;median&#x27;)),\n",
       "                                                 (&#x27;standardscaler&#x27;,\n",
       "                                                  StandardScaler())]),\n",
       "                                 &lt;sklearn.compose._column_transformer.make_column_selector object at 0x0000027097A16408&gt;),\n",
       "                                (&#x27;pipeline-2&#x27;,\n",
       "                                 Pipeline(steps=[(&#x27;simpleimputer&#x27;,\n",
       "                                                  SimpleImputer(strategy=&#x27;most_frequent&#x27;)),\n",
       "                                                 (&#x27;onehotencoder&#x27;,\n",
       "                                                  OneHotEncoder(handle_unknown=&#x27;ignore&#x27;,\n",
       "                                                                sparse=False))]),\n",
       "                                 &lt;sklearn.compose._column_transformer.make_column_selector object at 0x0000027097A16808&gt;)])</pre><b>Please rerun this cell to show the HTML repr or trust the notebook.</b></div><div class=\"sk-container\" hidden><div class=\"sk-item sk-dashed-wrapped\"><div class=\"sk-label-container\"><div class=\"sk-label sk-toggleable\"><input class=\"sk-toggleable__control sk-hidden--visually\" id=\"4a44d834-d93d-4ff2-9dba-c6ee747623bf\" type=\"checkbox\" ><label for=\"4a44d834-d93d-4ff2-9dba-c6ee747623bf\" class=\"sk-toggleable__label sk-toggleable__label-arrow\">ColumnTransformer</label><div class=\"sk-toggleable__content\"><pre>ColumnTransformer(remainder=&#x27;passthrough&#x27;,\n",
       "                  transformers=[(&#x27;pipeline-1&#x27;,\n",
       "                                 Pipeline(steps=[(&#x27;simpleimputer&#x27;,\n",
       "                                                  SimpleImputer(strategy=&#x27;median&#x27;)),\n",
       "                                                 (&#x27;standardscaler&#x27;,\n",
       "                                                  StandardScaler())]),\n",
       "                                 &lt;sklearn.compose._column_transformer.make_column_selector object at 0x0000027097A16408&gt;),\n",
       "                                (&#x27;pipeline-2&#x27;,\n",
       "                                 Pipeline(steps=[(&#x27;simpleimputer&#x27;,\n",
       "                                                  SimpleImputer(strategy=&#x27;most_frequent&#x27;)),\n",
       "                                                 (&#x27;onehotencoder&#x27;,\n",
       "                                                  OneHotEncoder(handle_unknown=&#x27;ignore&#x27;,\n",
       "                                                                sparse=False))]),\n",
       "                                 &lt;sklearn.compose._column_transformer.make_column_selector object at 0x0000027097A16808&gt;)])</pre></div></div></div><div class=\"sk-parallel\"><div class=\"sk-parallel-item\"><div class=\"sk-item\"><div class=\"sk-label-container\"><div class=\"sk-label sk-toggleable\"><input class=\"sk-toggleable__control sk-hidden--visually\" id=\"76b20078-9d64-4869-aa6e-2d569d11d61d\" type=\"checkbox\" ><label for=\"76b20078-9d64-4869-aa6e-2d569d11d61d\" class=\"sk-toggleable__label sk-toggleable__label-arrow\">pipeline-1</label><div class=\"sk-toggleable__content\"><pre>&lt;sklearn.compose._column_transformer.make_column_selector object at 0x0000027097A16408&gt;</pre></div></div></div><div class=\"sk-serial\"><div class=\"sk-item\"><div class=\"sk-serial\"><div class=\"sk-item\"><div class=\"sk-estimator sk-toggleable\"><input class=\"sk-toggleable__control sk-hidden--visually\" id=\"b1471f04-b5f4-4d33-aac5-93d253f9ffd0\" type=\"checkbox\" ><label for=\"b1471f04-b5f4-4d33-aac5-93d253f9ffd0\" class=\"sk-toggleable__label sk-toggleable__label-arrow\">SimpleImputer</label><div class=\"sk-toggleable__content\"><pre>SimpleImputer(strategy=&#x27;median&#x27;)</pre></div></div></div><div class=\"sk-item\"><div class=\"sk-estimator sk-toggleable\"><input class=\"sk-toggleable__control sk-hidden--visually\" id=\"1a04ff98-424a-48b2-8ee5-ab06ac33e001\" type=\"checkbox\" ><label for=\"1a04ff98-424a-48b2-8ee5-ab06ac33e001\" class=\"sk-toggleable__label sk-toggleable__label-arrow\">StandardScaler</label><div class=\"sk-toggleable__content\"><pre>StandardScaler()</pre></div></div></div></div></div></div></div></div><div class=\"sk-parallel-item\"><div class=\"sk-item\"><div class=\"sk-label-container\"><div class=\"sk-label sk-toggleable\"><input class=\"sk-toggleable__control sk-hidden--visually\" id=\"0e6f3c3a-ba69-4170-b78f-eeb64806bfb8\" type=\"checkbox\" ><label for=\"0e6f3c3a-ba69-4170-b78f-eeb64806bfb8\" class=\"sk-toggleable__label sk-toggleable__label-arrow\">pipeline-2</label><div class=\"sk-toggleable__content\"><pre>&lt;sklearn.compose._column_transformer.make_column_selector object at 0x0000027097A16808&gt;</pre></div></div></div><div class=\"sk-serial\"><div class=\"sk-item\"><div class=\"sk-serial\"><div class=\"sk-item\"><div class=\"sk-estimator sk-toggleable\"><input class=\"sk-toggleable__control sk-hidden--visually\" id=\"c81961e2-52b4-46c1-aa7e-65a359132275\" type=\"checkbox\" ><label for=\"c81961e2-52b4-46c1-aa7e-65a359132275\" class=\"sk-toggleable__label sk-toggleable__label-arrow\">SimpleImputer</label><div class=\"sk-toggleable__content\"><pre>SimpleImputer(strategy=&#x27;most_frequent&#x27;)</pre></div></div></div><div class=\"sk-item\"><div class=\"sk-estimator sk-toggleable\"><input class=\"sk-toggleable__control sk-hidden--visually\" id=\"0b2a9824-0d91-44b3-bf65-967f145d790f\" type=\"checkbox\" ><label for=\"0b2a9824-0d91-44b3-bf65-967f145d790f\" class=\"sk-toggleable__label sk-toggleable__label-arrow\">OneHotEncoder</label><div class=\"sk-toggleable__content\"><pre>OneHotEncoder(handle_unknown=&#x27;ignore&#x27;, sparse=False)</pre></div></div></div></div></div></div></div></div><div class=\"sk-parallel-item\"><div class=\"sk-item\"><div class=\"sk-label-container\"><div class=\"sk-label sk-toggleable\"><input class=\"sk-toggleable__control sk-hidden--visually\" id=\"acaa4a19-83b7-4d0b-b37d-daa026a3b15f\" type=\"checkbox\" ><label for=\"acaa4a19-83b7-4d0b-b37d-daa026a3b15f\" class=\"sk-toggleable__label sk-toggleable__label-arrow\">remainder</label><div class=\"sk-toggleable__content\"><pre>[]</pre></div></div></div><div class=\"sk-serial\"><div class=\"sk-item\"><div class=\"sk-estimator sk-toggleable\"><input class=\"sk-toggleable__control sk-hidden--visually\" id=\"80dc933d-dd98-4358-898e-8dad2ce22259\" type=\"checkbox\" ><label for=\"80dc933d-dd98-4358-898e-8dad2ce22259\" class=\"sk-toggleable__label sk-toggleable__label-arrow\">passthrough</label><div class=\"sk-toggleable__content\"><pre>passthrough</pre></div></div></div></div></div></div></div></div></div></div>"
      ],
      "text/plain": [
       "ColumnTransformer(remainder='passthrough',\n",
       "                  transformers=[('pipeline-1',\n",
       "                                 Pipeline(steps=[('simpleimputer',\n",
       "                                                  SimpleImputer(strategy='median')),\n",
       "                                                 ('standardscaler',\n",
       "                                                  StandardScaler())]),\n",
       "                                 <sklearn.compose._column_transformer.make_column_selector object at 0x0000027097A16408>),\n",
       "                                ('pipeline-2',\n",
       "                                 Pipeline(steps=[('simpleimputer',\n",
       "                                                  SimpleImputer(strategy='most_frequent')),\n",
       "                                                 ('onehotencoder',\n",
       "                                                  OneHotEncoder(handle_unknown='ignore',\n",
       "                                                                sparse=False))]),\n",
       "                                 <sklearn.compose._column_transformer.make_column_selector object at 0x0000027097A16808>)])"
      ]
     },
     "execution_count": 70,
     "metadata": {},
     "output_type": "execute_result"
    }
   ],
   "source": [
    "# Fit on df\n",
    "preprocessor.fit(df)"
   ]
  },
  {
   "cell_type": "code",
   "execution_count": 71,
   "metadata": {
    "id": "pOMUJoopCiIf"
   },
   "outputs": [],
   "source": [
    "# Transform the df\n",
    "df_processed_array = preprocessor.transform(df)"
   ]
  },
  {
   "cell_type": "markdown",
   "metadata": {
    "id": "zqsX0lJDBzyn"
   },
   "source": [
    "### **Inspect the Result**"
   ]
  },
  {
   "cell_type": "code",
   "execution_count": 72,
   "metadata": {
    "colab": {
     "base_uri": "https://localhost:8080/"
    },
    "id": "AWapESdSCmK8",
    "outputId": "63aab374-6b32-49c3-dbcb-08a9aacb45d4"
   },
   "outputs": [
    {
     "name": "stdout",
     "output_type": "stream",
     "text": [
      "0 missing values in the processed data array.\n",
      "All data in the array is float64\n",
      "The shape of the array is (850, 9)\n",
      "\n",
      "\n"
     ]
    },
    {
     "data": {
      "text/plain": [
       "array([[ 0.74291541,  0.31212243, -0.37878978, ...,  1.        ,\n",
       "         0.        ,  0.        ],\n",
       "       [ 1.48949049, -0.76634938,  2.5737211 , ...,  1.        ,\n",
       "         0.        ,  0.        ],\n",
       "       [-0.25251804,  0.31212243,  0.2117124 , ...,  0.        ,\n",
       "         1.        ,  0.        ],\n",
       "       ...,\n",
       "       [-1.24795149,  2.46906604, -1.26454304, ...,  0.        ,\n",
       "         1.        ,  0.        ],\n",
       "       [-0.37694723, -0.76634938,  0.50696349, ...,  1.        ,\n",
       "         0.        ,  0.        ],\n",
       "       [ 2.1116364 , -0.76634938,  1.09746566, ...,  1.        ,\n",
       "         0.        ,  0.        ]])"
      ]
     },
     "execution_count": 72,
     "metadata": {},
     "output_type": "execute_result"
    }
   ],
   "source": [
    "# Check for missing values and that data is scaled and one-hot encoded\n",
    "print(np.isnan(df_processed_array).sum().sum(), 'missing values in the processed data array.')\n",
    "print('All data in the array is', df_processed_array.dtype)\n",
    "\n",
    "print('The shape of the array is', df_processed_array.shape)\n",
    "print('\\n')\n",
    "df_processed_array"
   ]
  },
  {
   "cell_type": "code",
   "execution_count": 73,
   "metadata": {
    "id": "rDHkXIQr4f-x"
   },
   "outputs": [],
   "source": [
    "processed_df = pd.DataFrame(df_processed_array)"
   ]
  },
  {
   "cell_type": "code",
   "execution_count": 74,
   "metadata": {
    "colab": {
     "base_uri": "https://localhost:8080/",
     "height": 300
    },
    "id": "FoV0NDRv4lAT",
    "outputId": "b4d28b17-f674-49eb-c528-d0d5a40dc734"
   },
   "outputs": [
    {
     "data": {
      "text/html": [
       "<div>\n",
       "<style scoped>\n",
       "    .dataframe tbody tr th:only-of-type {\n",
       "        vertical-align: middle;\n",
       "    }\n",
       "\n",
       "    .dataframe tbody tr th {\n",
       "        vertical-align: top;\n",
       "    }\n",
       "\n",
       "    .dataframe thead th {\n",
       "        text-align: right;\n",
       "    }\n",
       "</style>\n",
       "<table border=\"1\" class=\"dataframe\">\n",
       "  <thead>\n",
       "    <tr style=\"text-align: right;\">\n",
       "      <th></th>\n",
       "      <th>0</th>\n",
       "      <th>1</th>\n",
       "      <th>2</th>\n",
       "      <th>3</th>\n",
       "      <th>4</th>\n",
       "      <th>5</th>\n",
       "      <th>6</th>\n",
       "      <th>7</th>\n",
       "      <th>8</th>\n",
       "    </tr>\n",
       "  </thead>\n",
       "  <tbody>\n",
       "    <tr>\n",
       "      <th>count</th>\n",
       "      <td>850.00</td>\n",
       "      <td>850.00</td>\n",
       "      <td>850.00</td>\n",
       "      <td>850.00</td>\n",
       "      <td>850.00</td>\n",
       "      <td>850.00</td>\n",
       "      <td>850.00</td>\n",
       "      <td>850.00</td>\n",
       "      <td>850.00</td>\n",
       "    </tr>\n",
       "    <tr>\n",
       "      <th>mean</th>\n",
       "      <td>-0.00</td>\n",
       "      <td>-0.00</td>\n",
       "      <td>-0.00</td>\n",
       "      <td>0.00</td>\n",
       "      <td>-0.00</td>\n",
       "      <td>0.00</td>\n",
       "      <td>0.61</td>\n",
       "      <td>0.22</td>\n",
       "      <td>0.18</td>\n",
       "    </tr>\n",
       "    <tr>\n",
       "      <th>std</th>\n",
       "      <td>1.00</td>\n",
       "      <td>1.00</td>\n",
       "      <td>1.00</td>\n",
       "      <td>1.00</td>\n",
       "      <td>1.00</td>\n",
       "      <td>1.00</td>\n",
       "      <td>0.49</td>\n",
       "      <td>0.41</td>\n",
       "      <td>0.38</td>\n",
       "    </tr>\n",
       "    <tr>\n",
       "      <th>min</th>\n",
       "      <td>-1.87</td>\n",
       "      <td>-0.77</td>\n",
       "      <td>-1.26</td>\n",
       "      <td>-0.87</td>\n",
       "      <td>-0.74</td>\n",
       "      <td>-1.50</td>\n",
       "      <td>0.00</td>\n",
       "      <td>0.00</td>\n",
       "      <td>0.00</td>\n",
       "    </tr>\n",
       "    <tr>\n",
       "      <th>25%</th>\n",
       "      <td>-0.75</td>\n",
       "      <td>-0.77</td>\n",
       "      <td>-0.82</td>\n",
       "      <td>-0.59</td>\n",
       "      <td>-0.56</td>\n",
       "      <td>-0.76</td>\n",
       "      <td>0.00</td>\n",
       "      <td>0.00</td>\n",
       "      <td>0.00</td>\n",
       "    </tr>\n",
       "    <tr>\n",
       "      <th>50%</th>\n",
       "      <td>-0.13</td>\n",
       "      <td>-0.77</td>\n",
       "      <td>-0.23</td>\n",
       "      <td>-0.30</td>\n",
       "      <td>-0.33</td>\n",
       "      <td>-0.22</td>\n",
       "      <td>1.00</td>\n",
       "      <td>0.00</td>\n",
       "      <td>0.00</td>\n",
       "    </tr>\n",
       "    <tr>\n",
       "      <th>75%</th>\n",
       "      <td>0.74</td>\n",
       "      <td>0.31</td>\n",
       "      <td>0.65</td>\n",
       "      <td>0.24</td>\n",
       "      <td>0.15</td>\n",
       "      <td>0.54</td>\n",
       "      <td>1.00</td>\n",
       "      <td>0.00</td>\n",
       "      <td>0.00</td>\n",
       "    </tr>\n",
       "    <tr>\n",
       "      <th>max</th>\n",
       "      <td>2.61</td>\n",
       "      <td>3.55</td>\n",
       "      <td>3.61</td>\n",
       "      <td>10.37</td>\n",
       "      <td>8.94</td>\n",
       "      <td>4.64</td>\n",
       "      <td>1.00</td>\n",
       "      <td>1.00</td>\n",
       "      <td>1.00</td>\n",
       "    </tr>\n",
       "  </tbody>\n",
       "</table>\n",
       "</div>"
      ],
      "text/plain": [
       "            0       1       2       3       4       5       6       7       8\n",
       "count  850.00  850.00  850.00  850.00  850.00  850.00  850.00  850.00  850.00\n",
       "mean    -0.00   -0.00   -0.00    0.00   -0.00    0.00    0.61    0.22    0.18\n",
       "std      1.00    1.00    1.00    1.00    1.00    1.00    0.49    0.41    0.38\n",
       "min     -1.87   -0.77   -1.26   -0.87   -0.74   -1.50    0.00    0.00    0.00\n",
       "25%     -0.75   -0.77   -0.82   -0.59   -0.56   -0.76    0.00    0.00    0.00\n",
       "50%     -0.13   -0.77   -0.23   -0.30   -0.33   -0.22    1.00    0.00    0.00\n",
       "75%      0.74    0.31    0.65    0.24    0.15    0.54    1.00    0.00    0.00\n",
       "max      2.61    3.55    3.61   10.37    8.94    4.64    1.00    1.00    1.00"
      ]
     },
     "execution_count": 74,
     "metadata": {},
     "output_type": "execute_result"
    }
   ],
   "source": [
    "processed_df.describe().round(2)"
   ]
  },
  {
   "cell_type": "code",
   "execution_count": 75,
   "metadata": {
    "colab": {
     "base_uri": "https://localhost:8080/",
     "height": 206
    },
    "id": "6EXh8p7NDgLd",
    "outputId": "5711ff4e-b238-4ceb-a9cc-7a69329f20ca"
   },
   "outputs": [
    {
     "data": {
      "text/html": [
       "<div>\n",
       "<style scoped>\n",
       "    .dataframe tbody tr th:only-of-type {\n",
       "        vertical-align: middle;\n",
       "    }\n",
       "\n",
       "    .dataframe tbody tr th {\n",
       "        vertical-align: top;\n",
       "    }\n",
       "\n",
       "    .dataframe thead th {\n",
       "        text-align: right;\n",
       "    }\n",
       "</style>\n",
       "<table border=\"1\" class=\"dataframe\">\n",
       "  <thead>\n",
       "    <tr style=\"text-align: right;\">\n",
       "      <th></th>\n",
       "      <th>0</th>\n",
       "      <th>1</th>\n",
       "      <th>2</th>\n",
       "      <th>3</th>\n",
       "      <th>4</th>\n",
       "      <th>5</th>\n",
       "      <th>6</th>\n",
       "      <th>7</th>\n",
       "      <th>8</th>\n",
       "    </tr>\n",
       "  </thead>\n",
       "  <tbody>\n",
       "    <tr>\n",
       "      <th>0</th>\n",
       "      <td>0.742915</td>\n",
       "      <td>0.312122</td>\n",
       "      <td>-0.378790</td>\n",
       "      <td>-0.718459</td>\n",
       "      <td>-0.683811</td>\n",
       "      <td>-0.576525</td>\n",
       "      <td>1.0</td>\n",
       "      <td>0.0</td>\n",
       "      <td>0.0</td>\n",
       "    </tr>\n",
       "    <tr>\n",
       "      <th>1</th>\n",
       "      <td>1.489490</td>\n",
       "      <td>-0.766349</td>\n",
       "      <td>2.573721</td>\n",
       "      <td>1.384325</td>\n",
       "      <td>1.414474</td>\n",
       "      <td>0.391387</td>\n",
       "      <td>1.0</td>\n",
       "      <td>0.0</td>\n",
       "      <td>0.0</td>\n",
       "    </tr>\n",
       "    <tr>\n",
       "      <th>2</th>\n",
       "      <td>-0.252518</td>\n",
       "      <td>0.312122</td>\n",
       "      <td>0.211712</td>\n",
       "      <td>0.268032</td>\n",
       "      <td>2.134141</td>\n",
       "      <td>1.597554</td>\n",
       "      <td>0.0</td>\n",
       "      <td>1.0</td>\n",
       "      <td>0.0</td>\n",
       "    </tr>\n",
       "    <tr>\n",
       "      <th>3</th>\n",
       "      <td>-0.750235</td>\n",
       "      <td>0.312122</td>\n",
       "      <td>-0.674041</td>\n",
       "      <td>-0.718459</td>\n",
       "      <td>-0.421643</td>\n",
       "      <td>-0.576525</td>\n",
       "      <td>1.0</td>\n",
       "      <td>0.0</td>\n",
       "      <td>0.0</td>\n",
       "    </tr>\n",
       "    <tr>\n",
       "      <th>4</th>\n",
       "      <td>1.489490</td>\n",
       "      <td>-0.766349</td>\n",
       "      <td>3.311849</td>\n",
       "      <td>5.356249</td>\n",
       "      <td>3.638900</td>\n",
       "      <td>-0.442507</td>\n",
       "      <td>1.0</td>\n",
       "      <td>0.0</td>\n",
       "      <td>0.0</td>\n",
       "    </tr>\n",
       "  </tbody>\n",
       "</table>\n",
       "</div>"
      ],
      "text/plain": [
       "          0         1         2         3         4         5    6    7    8\n",
       "0  0.742915  0.312122 -0.378790 -0.718459 -0.683811 -0.576525  1.0  0.0  0.0\n",
       "1  1.489490 -0.766349  2.573721  1.384325  1.414474  0.391387  1.0  0.0  0.0\n",
       "2 -0.252518  0.312122  0.211712  0.268032  2.134141  1.597554  0.0  1.0  0.0\n",
       "3 -0.750235  0.312122 -0.674041 -0.718459 -0.421643 -0.576525  1.0  0.0  0.0\n",
       "4  1.489490 -0.766349  3.311849  5.356249  3.638900 -0.442507  1.0  0.0  0.0"
      ]
     },
     "execution_count": 75,
     "metadata": {},
     "output_type": "execute_result"
    }
   ],
   "source": [
    "processed_df.head()"
   ]
  },
  {
   "cell_type": "markdown",
   "metadata": {
    "id": "9OgyqZyeBwvi"
   },
   "source": [
    "## **Processing**"
   ]
  },
  {
   "cell_type": "markdown",
   "metadata": {},
   "source": [
    "### **KMeans Clustering**"
   ]
  },
  {
   "cell_type": "markdown",
   "metadata": {
    "id": "kEwX8SWHEMVp"
   },
   "source": [
    "#### **Inertia Elbow Plot**"
   ]
  },
  {
   "cell_type": "code",
   "execution_count": 76,
   "metadata": {
    "colab": {
     "base_uri": "https://localhost:8080/",
     "height": 297
    },
    "id": "olv87lzuEPV5",
    "outputId": "bff1bcf7-919a-48c3-a8b6-39036b8249ea"
   },
   "outputs": [
    {
     "data": {
      "text/plain": [
       "Text(0, 0.5, 'inertia')"
      ]
     },
     "execution_count": 76,
     "metadata": {},
     "output_type": "execute_result"
    },
    {
     "data": {
      "image/png": "[encoded data removed]",
      "text/plain": [
       "<Figure size 432x288 with 1 Axes>"
      ]
     },
     "metadata": {
      "needs_background": "light"
     },
     "output_type": "display_data"
    }
   ],
   "source": [
    "#Create an empty list of inertias\n",
    "inertias = []\n",
    "#Loop through k values between 2 and 20 and store the inertias in the list\n",
    "for k in range(2,30):  \n",
    "    kmeans = KMeans(n_clusters=k)  \n",
    "    kmeans.fit(processed_df)  \n",
    "    inertias.append(kmeans.inertia_)\n",
    "#Visualize scores\n",
    "plt.plot(range(2,30), inertias, marker = '.')\n",
    "plt.xlabel('clusters')\n",
    "plt.ylabel('inertia')"
   ]
  },
  {
   "cell_type": "markdown",
   "metadata": {
    "id": "71rledRTMmz6"
   },
   "source": [
    "#### **Silhouette Score Plot**"
   ]
  },
  {
   "cell_type": "code",
   "execution_count": 77,
   "metadata": {
    "colab": {
     "base_uri": "https://localhost:8080/",
     "height": 279
    },
    "id": "RP2byvQAMps5",
    "outputId": "ea1a1578-9d27-45dc-87f2-74421056def0"
   },
   "outputs": [
    {
     "data": {
      "image/png": "[encoded data removed]",
      "text/plain": [
       "<Figure size 432x288 with 1 Axes>"
      ]
     },
     "metadata": {
      "needs_background": "light"
     },
     "output_type": "display_data"
    }
   ],
   "source": [
    "# Visualize different silhouette scores\n",
    "# Save silhouette scores for various cluster numbers in list\n",
    "silhouette_scores = []\n",
    "for i in range(2, 30):\n",
    "  kmeans = KMeans(n_clusters = i)\n",
    "  kmeans.fit(processed_df)\n",
    "  silhouette_scores.append(silhouette_score(processed_df, kmeans.labels_))\n",
    "# Visualize scores\n",
    "plt.plot(range(2, 30), silhouette_scores, marker = '.', color ='r')\n",
    "plt.xlabel('Number of Clusters')\n",
    "plt.ylabel('Silhouette Score');"
   ]
  },
  {
   "cell_type": "markdown",
   "metadata": {
    "id": "m63p85F-mC_f"
   },
   "source": [
    "#### **Inertia Elbow and Silhouette Score Plots Combined**"
   ]
  },
  {
   "cell_type": "code",
   "execution_count": 78,
   "metadata": {
    "colab": {
     "base_uri": "https://localhost:8080/",
     "height": 297
    },
    "id": "5FpDkDymmCW_",
    "outputId": "480e9b88-efc5-41ed-ebba-2821d55b13d4"
   },
   "outputs": [
    {
     "data": {
      "image/png": "[encoded data removed]",
      "text/plain": [
       "<Figure size 432x288 with 2 Axes>"
      ]
     },
     "metadata": {
      "needs_background": "light"
     },
     "output_type": "display_data"
    }
   ],
   "source": [
    "# Create empty lists\n",
    "inertias = []\n",
    "silhouette_scores = []\n",
    "#Loop through k values between 2 and 20 and store the inertias in the list.\n",
    "for k in range(2,20):  \n",
    "    kmeans = KMeans(n_clusters=k)  \n",
    "    kmeans.fit(processed_df)  \n",
    "    inertias.append(kmeans.inertia_)\n",
    "    silhouette_scores.append(silhouette_score(processed_df, kmeans.labels_)) \n",
    "# Visualize scores\n",
    "fig, ax1 = plt.subplots(figsize=(6,4))\n",
    "plt.title('K Means Clustering', fontsize = 16, weight='bold')\n",
    "\n",
    "ax1.plot(range(2, 20), inertias, marker = '.')\n",
    "ax1.set_ylabel('Inertia Elbow Score', color='b', fontsize = 12, weight='bold');\n",
    "plt.xlabel('Number of Clusters', fontsize = 12, weight='bold')\n",
    "plt.xticks(fontsize = 10, weight='bold')\n",
    "plt.yticks(fontsize = 10, weight='bold');\n",
    "ax1.tick_params(axis='y', labelcolor='b')\n",
    "ax1.xaxis.set_ticks(np.arange(0, 22, 2))\n",
    "plt.xlim([0, 22])\n",
    "\n",
    "ax2 = ax1.twinx()\n",
    "ax2.plot(range(2, 20), silhouette_scores, color='r', marker = '.');\n",
    "ax2.set_ylabel('Silhouette Score', color='r', fontsize = 12, weight='bold', );\n",
    "plt.yticks(fontsize = 10, weight='bold');\n",
    "ax2.tick_params(axis='y', labelcolor='r')\n",
    "ax2.spines['left'].set_color('b');\n",
    "ax2.spines['right'].set_color('r');\n",
    "\n",
    "for axis in ['top','bottom','left','right']:\n",
    "    ax2.spines[axis].set_linewidth(2)\n",
    "\n",
    "plt.tight_layout()\n",
    "plt.show;"
   ]
  },
  {
   "cell_type": "markdown",
   "metadata": {
    "id": "PSRheD8q4jt-"
   },
   "source": [
    "**K = 5** is chosen to optimize both the Inertia and the Silhouette scores.\n",
    "- **Inertia Score** - The best clustering is a balance between the lowest number of clusters and the lowest inertia. \n",
    "- **Silhouette Score** -  The best score is 1 (signaling well-defined & well-separated clusters) and the worst is -1. \n",
    "\n"
   ]
  },
  {
   "cell_type": "markdown",
   "metadata": {
    "id": "_cy9qDk2sh_E"
   },
   "source": [
    "#### **Instantiate and Fit the Model** "
   ]
  },
  {
   "cell_type": "code",
   "execution_count": 79,
   "metadata": {
    "colab": {
     "base_uri": "https://localhost:8080/",
     "height": 363
    },
    "id": "J9vxbzjbp8NS",
    "outputId": "2525c917-07ba-4081-c6bb-8a5b02173b20"
   },
   "outputs": [
    {
     "data": {
      "text/html": [
       "<style>#sk-f384a3ab-3e12-4322-ba35-68b6a603b1d5 {color: black;background-color: white;}#sk-f384a3ab-3e12-4322-ba35-68b6a603b1d5 pre{padding: 0;}#sk-f384a3ab-3e12-4322-ba35-68b6a603b1d5 div.sk-toggleable {background-color: white;}#sk-f384a3ab-3e12-4322-ba35-68b6a603b1d5 label.sk-toggleable__label {cursor: pointer;display: block;width: 100%;margin-bottom: 0;padding: 0.3em;box-sizing: border-box;text-align: center;}#sk-f384a3ab-3e12-4322-ba35-68b6a603b1d5 label.sk-toggleable__label-arrow:before {content: \"▸\";float: left;margin-right: 0.25em;color: #696969;}#sk-f384a3ab-3e12-4322-ba35-68b6a603b1d5 label.sk-toggleable__label-arrow:hover:before {color: black;}#sk-f384a3ab-3e12-4322-ba35-68b6a603b1d5 div.sk-estimator:hover label.sk-toggleable__label-arrow:before {color: black;}#sk-f384a3ab-3e12-4322-ba35-68b6a603b1d5 div.sk-toggleable__content {max-height: 0;max-width: 0;overflow: hidden;text-align: left;background-color: #f0f8ff;}#sk-f384a3ab-3e12-4322-ba35-68b6a603b1d5 div.sk-toggleable__content pre {margin: 0.2em;color: black;border-radius: 0.25em;background-color: #f0f8ff;}#sk-f384a3ab-3e12-4322-ba35-68b6a603b1d5 input.sk-toggleable__control:checked~div.sk-toggleable__content {max-height: 200px;max-width: 100%;overflow: auto;}#sk-f384a3ab-3e12-4322-ba35-68b6a603b1d5 input.sk-toggleable__control:checked~label.sk-toggleable__label-arrow:before {content: \"▾\";}#sk-f384a3ab-3e12-4322-ba35-68b6a603b1d5 div.sk-estimator input.sk-toggleable__control:checked~label.sk-toggleable__label {background-color: #d4ebff;}#sk-f384a3ab-3e12-4322-ba35-68b6a603b1d5 div.sk-label input.sk-toggleable__control:checked~label.sk-toggleable__label {background-color: #d4ebff;}#sk-f384a3ab-3e12-4322-ba35-68b6a603b1d5 input.sk-hidden--visually {border: 0;clip: rect(1px 1px 1px 1px);clip: rect(1px, 1px, 1px, 1px);height: 1px;margin: -1px;overflow: hidden;padding: 0;position: absolute;width: 1px;}#sk-f384a3ab-3e12-4322-ba35-68b6a603b1d5 div.sk-estimator {font-family: monospace;background-color: #f0f8ff;border: 1px dotted black;border-radius: 0.25em;box-sizing: border-box;margin-bottom: 0.5em;}#sk-f384a3ab-3e12-4322-ba35-68b6a603b1d5 div.sk-estimator:hover {background-color: #d4ebff;}#sk-f384a3ab-3e12-4322-ba35-68b6a603b1d5 div.sk-parallel-item::after {content: \"\";width: 100%;border-bottom: 1px solid gray;flex-grow: 1;}#sk-f384a3ab-3e12-4322-ba35-68b6a603b1d5 div.sk-label:hover label.sk-toggleable__label {background-color: #d4ebff;}#sk-f384a3ab-3e12-4322-ba35-68b6a603b1d5 div.sk-serial::before {content: \"\";position: absolute;border-left: 1px solid gray;box-sizing: border-box;top: 2em;bottom: 0;left: 50%;}#sk-f384a3ab-3e12-4322-ba35-68b6a603b1d5 div.sk-serial {display: flex;flex-direction: column;align-items: center;background-color: white;padding-right: 0.2em;padding-left: 0.2em;}#sk-f384a3ab-3e12-4322-ba35-68b6a603b1d5 div.sk-item {z-index: 1;}#sk-f384a3ab-3e12-4322-ba35-68b6a603b1d5 div.sk-parallel {display: flex;align-items: stretch;justify-content: center;background-color: white;}#sk-f384a3ab-3e12-4322-ba35-68b6a603b1d5 div.sk-parallel::before {content: \"\";position: absolute;border-left: 1px solid gray;box-sizing: border-box;top: 2em;bottom: 0;left: 50%;}#sk-f384a3ab-3e12-4322-ba35-68b6a603b1d5 div.sk-parallel-item {display: flex;flex-direction: column;position: relative;background-color: white;}#sk-f384a3ab-3e12-4322-ba35-68b6a603b1d5 div.sk-parallel-item:first-child::after {align-self: flex-end;width: 50%;}#sk-f384a3ab-3e12-4322-ba35-68b6a603b1d5 div.sk-parallel-item:last-child::after {align-self: flex-start;width: 50%;}#sk-f384a3ab-3e12-4322-ba35-68b6a603b1d5 div.sk-parallel-item:only-child::after {width: 0;}#sk-f384a3ab-3e12-4322-ba35-68b6a603b1d5 div.sk-dashed-wrapped {border: 1px dashed gray;margin: 0 0.4em 0.5em 0.4em;box-sizing: border-box;padding-bottom: 0.4em;background-color: white;position: relative;}#sk-f384a3ab-3e12-4322-ba35-68b6a603b1d5 div.sk-label label {font-family: monospace;font-weight: bold;background-color: white;display: inline-block;line-height: 1.2em;}#sk-f384a3ab-3e12-4322-ba35-68b6a603b1d5 div.sk-label-container {position: relative;z-index: 2;text-align: center;}#sk-f384a3ab-3e12-4322-ba35-68b6a603b1d5 div.sk-container {/* jupyter's `normalize.less` sets `[hidden] { display: none; }` but bootstrap.min.css set `[hidden] { display: none !important; }` so we also need the `!important` here to be able to override the default hidden behavior on the sphinx rendered scikit-learn.org. See: https://github.com/scikit-learn/scikit-learn/issues/21755 */display: inline-block !important;position: relative;}#sk-f384a3ab-3e12-4322-ba35-68b6a603b1d5 div.sk-text-repr-fallback {display: none;}</style><div id=\"sk-f384a3ab-3e12-4322-ba35-68b6a603b1d5\" class=\"sk-top-container\"><div class=\"sk-text-repr-fallback\"><pre>KMeans(n_clusters=5, random_state=42)</pre><b>Please rerun this cell to show the HTML repr or trust the notebook.</b></div><div class=\"sk-container\" hidden><div class=\"sk-item\"><div class=\"sk-estimator sk-toggleable\"><input class=\"sk-toggleable__control sk-hidden--visually\" id=\"0afb5307-60b4-45aa-8292-0de3fbd679f4\" type=\"checkbox\" checked><label for=\"0afb5307-60b4-45aa-8292-0de3fbd679f4\" class=\"sk-toggleable__label sk-toggleable__label-arrow\">KMeans</label><div class=\"sk-toggleable__content\"><pre>KMeans(n_clusters=5, random_state=42)</pre></div></div></div></div></div>"
      ],
      "text/plain": [
       "KMeans(n_clusters=5, random_state=42)"
      ]
     },
     "execution_count": 79,
     "metadata": {},
     "output_type": "execute_result"
    }
   ],
   "source": [
    "# Refit KMeans with 5 clusters\n",
    "kmeans = KMeans(n_clusters=5, random_state=42)\n",
    "kmeans.fit(processed_df)"
   ]
  },
  {
   "cell_type": "code",
   "execution_count": 80,
   "metadata": {},
   "outputs": [
    {
     "data": {
      "text/html": [
       "<div>\n",
       "<style scoped>\n",
       "    .dataframe tbody tr th:only-of-type {\n",
       "        vertical-align: middle;\n",
       "    }\n",
       "\n",
       "    .dataframe tbody tr th {\n",
       "        vertical-align: top;\n",
       "    }\n",
       "\n",
       "    .dataframe thead th {\n",
       "        text-align: right;\n",
       "    }\n",
       "</style>\n",
       "<table border=\"1\" class=\"dataframe\">\n",
       "  <thead>\n",
       "    <tr style=\"text-align: right;\">\n",
       "      <th></th>\n",
       "      <th>Age</th>\n",
       "      <th>Edu</th>\n",
       "      <th>Years Employed</th>\n",
       "      <th>Income</th>\n",
       "      <th>Card Debt</th>\n",
       "      <th>Defaulted</th>\n",
       "      <th>DebtIncomeRatio</th>\n",
       "      <th>cluster</th>\n",
       "    </tr>\n",
       "  </thead>\n",
       "  <tbody>\n",
       "    <tr>\n",
       "      <th>0</th>\n",
       "      <td>41</td>\n",
       "      <td>2</td>\n",
       "      <td>6</td>\n",
       "      <td>19</td>\n",
       "      <td>0.124</td>\n",
       "      <td>Negative</td>\n",
       "      <td>6.3</td>\n",
       "      <td>3</td>\n",
       "    </tr>\n",
       "    <tr>\n",
       "      <th>1</th>\n",
       "      <td>47</td>\n",
       "      <td>1</td>\n",
       "      <td>26</td>\n",
       "      <td>100</td>\n",
       "      <td>4.582</td>\n",
       "      <td>Negative</td>\n",
       "      <td>12.8</td>\n",
       "      <td>1</td>\n",
       "    </tr>\n",
       "    <tr>\n",
       "      <th>2</th>\n",
       "      <td>33</td>\n",
       "      <td>2</td>\n",
       "      <td>10</td>\n",
       "      <td>57</td>\n",
       "      <td>6.111</td>\n",
       "      <td>Positive</td>\n",
       "      <td>20.9</td>\n",
       "      <td>0</td>\n",
       "    </tr>\n",
       "    <tr>\n",
       "      <th>3</th>\n",
       "      <td>29</td>\n",
       "      <td>2</td>\n",
       "      <td>4</td>\n",
       "      <td>19</td>\n",
       "      <td>0.681</td>\n",
       "      <td>Negative</td>\n",
       "      <td>6.3</td>\n",
       "      <td>3</td>\n",
       "    </tr>\n",
       "    <tr>\n",
       "      <th>4</th>\n",
       "      <td>47</td>\n",
       "      <td>1</td>\n",
       "      <td>31</td>\n",
       "      <td>253</td>\n",
       "      <td>9.308</td>\n",
       "      <td>Negative</td>\n",
       "      <td>7.2</td>\n",
       "      <td>4</td>\n",
       "    </tr>\n",
       "    <tr>\n",
       "      <th>5</th>\n",
       "      <td>40</td>\n",
       "      <td>1</td>\n",
       "      <td>23</td>\n",
       "      <td>81</td>\n",
       "      <td>0.998</td>\n",
       "      <td>Unknown</td>\n",
       "      <td>10.9</td>\n",
       "      <td>1</td>\n",
       "    </tr>\n",
       "    <tr>\n",
       "      <th>6</th>\n",
       "      <td>38</td>\n",
       "      <td>2</td>\n",
       "      <td>4</td>\n",
       "      <td>56</td>\n",
       "      <td>0.442</td>\n",
       "      <td>Negative</td>\n",
       "      <td>1.6</td>\n",
       "      <td>3</td>\n",
       "    </tr>\n",
       "    <tr>\n",
       "      <th>7</th>\n",
       "      <td>42</td>\n",
       "      <td>3</td>\n",
       "      <td>0</td>\n",
       "      <td>64</td>\n",
       "      <td>0.279</td>\n",
       "      <td>Negative</td>\n",
       "      <td>6.6</td>\n",
       "      <td>2</td>\n",
       "    </tr>\n",
       "    <tr>\n",
       "      <th>8</th>\n",
       "      <td>26</td>\n",
       "      <td>1</td>\n",
       "      <td>5</td>\n",
       "      <td>18</td>\n",
       "      <td>0.575</td>\n",
       "      <td>Unknown</td>\n",
       "      <td>15.5</td>\n",
       "      <td>3</td>\n",
       "    </tr>\n",
       "    <tr>\n",
       "      <th>9</th>\n",
       "      <td>47</td>\n",
       "      <td>3</td>\n",
       "      <td>23</td>\n",
       "      <td>115</td>\n",
       "      <td>0.653</td>\n",
       "      <td>Negative</td>\n",
       "      <td>4.0</td>\n",
       "      <td>1</td>\n",
       "    </tr>\n",
       "  </tbody>\n",
       "</table>\n",
       "</div>"
      ],
      "text/plain": [
       "   Age  Edu  Years Employed  Income  Card Debt Defaulted  DebtIncomeRatio  \\\n",
       "0   41    2               6      19      0.124  Negative              6.3   \n",
       "1   47    1              26     100      4.582  Negative             12.8   \n",
       "2   33    2              10      57      6.111  Positive             20.9   \n",
       "3   29    2               4      19      0.681  Negative              6.3   \n",
       "4   47    1              31     253      9.308  Negative              7.2   \n",
       "5   40    1              23      81      0.998   Unknown             10.9   \n",
       "6   38    2               4      56      0.442  Negative              1.6   \n",
       "7   42    3               0      64      0.279  Negative              6.6   \n",
       "8   26    1               5      18      0.575   Unknown             15.5   \n",
       "9   47    3              23     115      0.653  Negative              4.0   \n",
       "\n",
       "   cluster  \n",
       "0        3  \n",
       "1        1  \n",
       "2        0  \n",
       "3        3  \n",
       "4        4  \n",
       "5        1  \n",
       "6        3  \n",
       "7        2  \n",
       "8        3  \n",
       "9        1  "
      ]
     },
     "execution_count": 80,
     "metadata": {},
     "output_type": "execute_result"
    }
   ],
   "source": [
    "# Create a new dataframe to add the kmeans clusters to\n",
    "kmeans_df = df.copy()\n",
    "# Add the clusters as a column in the dataframe\n",
    "kmeans_df['cluster'] = kmeans.labels_\n",
    "kmeans_df.head(10)"
   ]
  },
  {
   "cell_type": "markdown",
   "metadata": {
    "id": "7Viw6UrgsUmV"
   },
   "source": [
    "#### **Explanatory Analysis of KMeans Clusters**"
   ]
  },
  {
   "cell_type": "markdown",
   "metadata": {
    "id": "lPz3H2WQssNj"
   },
   "source": [
    "##### **Analyze the Clusters**"
   ]
  },
  {
   "cell_type": "code",
   "execution_count": 81,
   "metadata": {
    "colab": {
     "base_uri": "https://localhost:8080/",
     "height": 206
    },
    "id": "uZjrf531q8vm",
    "outputId": "ed88f2de-1b75-4181-f37e-0e2eb98fb914"
   },
   "outputs": [
    {
     "data": {
      "text/html": [
       "<div>\n",
       "<style scoped>\n",
       "    .dataframe tbody tr th:only-of-type {\n",
       "        vertical-align: middle;\n",
       "    }\n",
       "\n",
       "    .dataframe tbody tr th {\n",
       "        vertical-align: top;\n",
       "    }\n",
       "\n",
       "    .dataframe thead th {\n",
       "        text-align: right;\n",
       "    }\n",
       "</style>\n",
       "<table border=\"1\" class=\"dataframe\">\n",
       "  <thead>\n",
       "    <tr style=\"text-align: right;\">\n",
       "      <th></th>\n",
       "      <th>cluster</th>\n",
       "      <th>Age</th>\n",
       "      <th>Edu</th>\n",
       "      <th>Years Employed</th>\n",
       "      <th>Income</th>\n",
       "      <th>Card Debt</th>\n",
       "      <th>DebtIncomeRatio</th>\n",
       "    </tr>\n",
       "  </thead>\n",
       "  <tbody>\n",
       "    <tr>\n",
       "      <th>0</th>\n",
       "      <td>0</td>\n",
       "      <td>33.412903</td>\n",
       "      <td>1.612903</td>\n",
       "      <td>6.367742</td>\n",
       "      <td>36.141935</td>\n",
       "      <td>2.499206</td>\n",
       "      <td>19.927097</td>\n",
       "    </tr>\n",
       "    <tr>\n",
       "      <th>1</th>\n",
       "      <td>1</td>\n",
       "      <td>42.456731</td>\n",
       "      <td>1.490385</td>\n",
       "      <td>16.456731</td>\n",
       "      <td>73.471154</td>\n",
       "      <td>1.834654</td>\n",
       "      <td>8.113942</td>\n",
       "    </tr>\n",
       "    <tr>\n",
       "      <th>2</th>\n",
       "      <td>2</td>\n",
       "      <td>34.018349</td>\n",
       "      <td>3.477064</td>\n",
       "      <td>4.853211</td>\n",
       "      <td>45.706422</td>\n",
       "      <td>1.184119</td>\n",
       "      <td>8.935780</td>\n",
       "    </tr>\n",
       "    <tr>\n",
       "      <th>3</th>\n",
       "      <td>3</td>\n",
       "      <td>31.128852</td>\n",
       "      <td>1.324930</td>\n",
       "      <td>5.366947</td>\n",
       "      <td>28.627451</td>\n",
       "      <td>0.591896</td>\n",
       "      <td>7.019328</td>\n",
       "    </tr>\n",
       "    <tr>\n",
       "      <th>4</th>\n",
       "      <td>4</td>\n",
       "      <td>44.952381</td>\n",
       "      <td>2.000000</td>\n",
       "      <td>20.285714</td>\n",
       "      <td>170.857143</td>\n",
       "      <td>10.996952</td>\n",
       "      <td>18.552381</td>\n",
       "    </tr>\n",
       "  </tbody>\n",
       "</table>\n",
       "</div>"
      ],
      "text/plain": [
       "   cluster        Age       Edu  Years Employed      Income  Card Debt  \\\n",
       "0        0  33.412903  1.612903        6.367742   36.141935   2.499206   \n",
       "1        1  42.456731  1.490385       16.456731   73.471154   1.834654   \n",
       "2        2  34.018349  3.477064        4.853211   45.706422   1.184119   \n",
       "3        3  31.128852  1.324930        5.366947   28.627451   0.591896   \n",
       "4        4  44.952381  2.000000       20.285714  170.857143  10.996952   \n",
       "\n",
       "   DebtIncomeRatio  \n",
       "0        19.927097  \n",
       "1         8.113942  \n",
       "2         8.935780  \n",
       "3         7.019328  \n",
       "4        18.552381  "
      ]
     },
     "execution_count": 81,
     "metadata": {},
     "output_type": "execute_result"
    }
   ],
   "source": [
    "# Group the dataframe by cluster and aggregate by mean values\n",
    "# Add as_index=False so that the clusters are a column, not the index\n",
    "cluster_groups = kmeans_df.groupby('cluster', as_index=False).mean()\n",
    "cluster_groups"
   ]
  },
  {
   "cell_type": "markdown",
   "metadata": {
    "id": "8P7RwOgBs9Wr"
   },
   "source": [
    "##### **For Each Feature Visualize the Mean Values For Each Cluster**"
   ]
  },
  {
   "cell_type": "code",
   "execution_count": 82,
   "metadata": {
    "colab": {
     "base_uri": "https://localhost:8080/",
     "height": 499
    },
    "id": "0i_mLD5Gqzc3",
    "outputId": "b60b7ce6-a6b1-41bb-84fe-589c00b56e0c"
   },
   "outputs": [
    {
     "data": {
      "image/png": "[encoded data removed]",
      "text/plain": [
       "<Figure size 1152x576 with 6 Axes>"
      ]
     },
     "metadata": {
      "needs_background": "light"
     },
     "output_type": "display_data"
    }
   ],
   "source": [
    "# Visualize means \n",
    "fig, axes = plt.subplots(2,3, figsize = (16, 8))\n",
    "# fig is an array of dimensions 3,4.  axes.ravel() will flatten it to 12,1\n",
    "axes = axes.ravel()\n",
    "# Loop over columns and plot each in a separate figure, skip 'cluster' column\n",
    "for i, col in enumerate(cluster_groups.columns[1:]):\n",
    "  axes[i].bar(cluster_groups['cluster'], cluster_groups[col])\n",
    "  axes[i].set_title(f'Mean {col}')"
   ]
  },
  {
   "cell_type": "code",
   "execution_count": 83,
   "metadata": {
    "id": "d5iRqzIQGmm-"
   },
   "outputs": [],
   "source": [
    "def cluster_means_report(cluster):\n",
    "    print(f'Cluster: {cluster} Mean Comparison Report')\n",
    "    cluster_mean_Age = round(cluster_groups.loc[cluster]['Age'],2)\n",
    "    col_mean_Age = round(df['Age'].mean(),2)\n",
    "    print(f'Age: cluster mean: {cluster_mean_Age}, column mean: {col_mean_Age}')\n",
    "    print(f'     The cluster mean is {round(cluster_mean_Age/col_mean_Age,4)*100}% of the column mean.')\n",
    "\n",
    "    cluster_mean_Edu = round(cluster_groups.loc[cluster]['Edu'],2)\n",
    "    col_mean_Edu = round(df['Edu'].mean(),2)\n",
    "    print(f'Edu: cluster mean: {cluster_mean_Edu}, column mean:  {col_mean_Edu}')\n",
    "    print(f'     The cluster mean is {round(cluster_mean_Edu/col_mean_Edu,4)*100}% of the column mean.')\n",
    "\n",
    "    cluster_mean_YrsEmp= round(cluster_groups.loc[cluster]['Years Employed'],2)\n",
    "    col_mean_YrsEmp = round(df['Years Employed'].mean(),2)\n",
    "    print(f'Years Employed: cluster mean: {cluster_mean_YrsEmp}, column mean: {col_mean_YrsEmp}')\n",
    "    print(f'     The cluster mean is {round(cluster_mean_YrsEmp/col_mean_YrsEmp,4)*100}% of the column mean.')\n",
    "\n",
    "    cluster_mean_Income= round(cluster_groups.loc[cluster]['Income'],2)\n",
    "    col_mean_Income = round(df['Income'].mean(),2)\n",
    "    print(f'Income: cluster mean: {cluster_mean_Income}, column mean: {col_mean_Income}')\n",
    "    print(f'     The cluster mean is {round(cluster_mean_Income/col_mean_Income,4)*100}% of the column mean.')\n",
    "\n",
    "    cluster_mean_CrdDbt= round(cluster_groups.loc[cluster]['Card Debt'],2)\n",
    "    col_mean_CrdDbt = round(df['Card Debt'].mean(),2)\n",
    "    print(f'Card Debt: cluster mean: {cluster_mean_CrdDbt}, column mean: {col_mean_CrdDbt}')\n",
    "    print(f'     The cluster mean is {round(cluster_mean_CrdDbt/col_mean_CrdDbt,4)*100}% of the column mean.')\n",
    "\n",
    "    cluster_mean_DbtIncmRto= round(cluster_groups.loc[cluster]['DebtIncomeRatio'],2)\n",
    "    col_mean_DbtIncmRto = round(df['DebtIncomeRatio'].mean(),2)\n",
    "    print(f'DebtIncomeRatio: cluster mean: {cluster_mean_DbtIncmRto}, column mean: {col_mean_DbtIncmRto}')\n",
    "    print(f'     The cluster mean is {round(cluster_mean_DbtIncmRto/col_mean_DbtIncmRto,4)*100}% of the column mean.')"
   ]
  },
  {
   "cell_type": "code",
   "execution_count": 84,
   "metadata": {
    "colab": {
     "base_uri": "https://localhost:8080/"
    },
    "id": "3X-wB-SlaiyV",
    "outputId": "a7453b41-8ed5-4709-88e1-863c58960cad"
   },
   "outputs": [
    {
     "data": {
      "text/plain": [
       "Negative    0.608235\n",
       "Positive    0.215294\n",
       "Unknown     0.176471\n",
       "Name: Defaulted, dtype: float64"
      ]
     },
     "execution_count": 84,
     "metadata": {},
     "output_type": "execute_result"
    }
   ],
   "source": [
    "kmeans_df['Defaulted'].value_counts(normalize=True)"
   ]
  },
  {
   "cell_type": "markdown",
   "metadata": {
    "id": "5Q-bwZh0s7wH"
   },
   "source": [
    "##### **Cluster 0:**"
   ]
  },
  {
   "cell_type": "code",
   "execution_count": 85,
   "metadata": {
    "colab": {
     "base_uri": "https://localhost:8080/"
    },
    "id": "kL8Ytnhs_At7",
    "outputId": "6b3c4d19-90ab-45fe-9976-5c8c81a0be2a"
   },
   "outputs": [
    {
     "name": "stdout",
     "output_type": "stream",
     "text": [
      "Cluster: 0 Mean Comparison Report\n",
      "Age: cluster mean: 33.41, column mean: 35.03\n",
      "     The cluster mean is 95.38% of the column mean.\n",
      "Edu: cluster mean: 1.61, column mean:  1.71\n",
      "     The cluster mean is 94.15% of the column mean.\n",
      "Years Employed: cluster mean: 6.37, column mean: 8.57\n",
      "     The cluster mean is 74.33% of the column mean.\n",
      "Income: cluster mean: 36.14, column mean: 46.68\n",
      "     The cluster mean is 77.42% of the column mean.\n",
      "Card Debt: cluster mean: 2.5, column mean: 1.58\n",
      "     The cluster mean is 158.23000000000002% of the column mean.\n",
      "DebtIncomeRatio: cluster mean: 19.93, column mean: 10.17\n",
      "     The cluster mean is 195.97% of the column mean.\n"
     ]
    }
   ],
   "source": [
    "# Cluster Mean Comparison Report\n",
    "cluster_means_report(0)"
   ]
  },
  {
   "cell_type": "code",
   "execution_count": 86,
   "metadata": {
    "colab": {
     "base_uri": "https://localhost:8080/"
    },
    "id": "AH8YofTbccaW",
    "outputId": "2f419c65-24b0-446e-967c-814d157e7c96"
   },
   "outputs": [
    {
     "data": {
      "text/plain": [
       "Positive    0.541935\n",
       "Negative    0.316129\n",
       "Unknown     0.141935\n",
       "Name: Defaulted, dtype: float64"
      ]
     },
     "execution_count": 86,
     "metadata": {},
     "output_type": "execute_result"
    }
   ],
   "source": [
    "# Dataset statistics:\n",
    "# Negative    0.608235\n",
    "# Positive    0.215294\n",
    "# Unknown     0.176471\n",
    "\n",
    "# Display column statistics.\n",
    "c0_filter = kmeans_df['cluster'] == 0\n",
    "kmeans_df[c0_filter]['Defaulted'].value_counts(normalize=True)"
   ]
  },
  {
   "cell_type": "markdown",
   "metadata": {
    "id": "nQwjnAu0j0Wx"
   },
   "source": [
    "**Cluster 0: High in Debt and High Default Risk Group**\n",
    "\n",
    "- Years Employed and Income are below average.\n",
    "- Age and Education only very slightly below average.\n",
    "- Card Debt is 158.2% of the average, which is highly significant.\n",
    "- DebtIncomeRatio is 196.0% of the average, which is highly significant.\n",
    "- **Default Rate is 54.2%, 251.6% of the average, which is extremely highly significant.**\n",
    "\n",
    "Reccomend all accounts be closed, and no additional offers of credit be made."
   ]
  },
  {
   "cell_type": "markdown",
   "metadata": {
    "id": "EF1s8ifKueQi"
   },
   "source": [
    "##### **Cluster 1:**"
   ]
  },
  {
   "cell_type": "code",
   "execution_count": 87,
   "metadata": {
    "colab": {
     "base_uri": "https://localhost:8080/"
    },
    "id": "sO00xh8rHCxS",
    "outputId": "ff411796-faff-48d0-84b9-de450b8d7bc3",
    "scrolled": true
   },
   "outputs": [
    {
     "name": "stdout",
     "output_type": "stream",
     "text": [
      "Cluster: 1 Mean Comparison Report\n",
      "Age: cluster mean: 42.46, column mean: 35.03\n",
      "     The cluster mean is 121.21% of the column mean.\n",
      "Edu: cluster mean: 1.49, column mean:  1.71\n",
      "     The cluster mean is 87.13% of the column mean.\n",
      "Years Employed: cluster mean: 16.46, column mean: 8.57\n",
      "     The cluster mean is 192.07% of the column mean.\n",
      "Income: cluster mean: 73.47, column mean: 46.68\n",
      "     The cluster mean is 157.39000000000001% of the column mean.\n",
      "Card Debt: cluster mean: 1.83, column mean: 1.58\n",
      "     The cluster mean is 115.82% of the column mean.\n",
      "DebtIncomeRatio: cluster mean: 8.11, column mean: 10.17\n",
      "     The cluster mean is 79.74% of the column mean.\n"
     ]
    }
   ],
   "source": [
    "# Cluster Mean Comparison Report\n",
    "cluster_means_report(1)"
   ]
  },
  {
   "cell_type": "code",
   "execution_count": 88,
   "metadata": {
    "colab": {
     "base_uri": "https://localhost:8080/"
    },
    "id": "KCuCPVH2ayhm",
    "outputId": "388854bc-a7f7-411d-cf41-dbe3bc291767"
   },
   "outputs": [
    {
     "data": {
      "text/plain": [
       "Negative    0.745192\n",
       "Unknown     0.211538\n",
       "Positive    0.043269\n",
       "Name: Defaulted, dtype: float64"
      ]
     },
     "execution_count": 88,
     "metadata": {},
     "output_type": "execute_result"
    }
   ],
   "source": [
    "# Dataset statistics:\n",
    "# Negative    0.608235\n",
    "# Positive    0.215294\n",
    "# Unknown     0.176471\n",
    "\n",
    "# Display column statistics.\n",
    "c1_filter = kmeans_df['cluster'] == 1\n",
    "kmeans_df[c1_filter]['Defaulted'].value_counts(normalize=True)"
   ]
  },
  {
   "cell_type": "markdown",
   "metadata": {
    "id": "DbAPzkVkmEV0"
   },
   "source": [
    "**Cluster1: High Income and Highly Experienced Group with Low Risk Default Group**\n",
    "- **Default Rate is 4.32%, 20.1% of the average, which is extremely highly significant.**\n",
    "- DbtIncomeRatio and Edu are below the average.\n",
    "- Age and Card Debt are slightly above the average.\n",
    "- Income is 157.3% of the average, which is significant.\n",
    "- **Years employed is 192.1% of the average, which is highly significant.**\n",
    "\n",
    "Reccomend credit line increases, and additional credit offers."
   ]
  },
  {
   "cell_type": "markdown",
   "metadata": {
    "id": "-DgNCF2HuiO5"
   },
   "source": [
    "##### **Cluster 2:**"
   ]
  },
  {
   "cell_type": "code",
   "execution_count": 89,
   "metadata": {
    "colab": {
     "base_uri": "https://localhost:8080/"
    },
    "id": "56sz-nPaHGQx",
    "outputId": "f59004fc-95a3-4714-b913-cc6d20468db3"
   },
   "outputs": [
    {
     "name": "stdout",
     "output_type": "stream",
     "text": [
      "Cluster: 2 Mean Comparison Report\n",
      "Age: cluster mean: 34.02, column mean: 35.03\n",
      "     The cluster mean is 97.11999999999999% of the column mean.\n",
      "Edu: cluster mean: 3.48, column mean:  1.71\n",
      "     The cluster mean is 203.51% of the column mean.\n",
      "Years Employed: cluster mean: 4.85, column mean: 8.57\n",
      "     The cluster mean is 56.589999999999996% of the column mean.\n",
      "Income: cluster mean: 45.71, column mean: 46.68\n",
      "     The cluster mean is 97.92% of the column mean.\n",
      "Card Debt: cluster mean: 1.18, column mean: 1.58\n",
      "     The cluster mean is 74.68% of the column mean.\n",
      "DebtIncomeRatio: cluster mean: 8.94, column mean: 10.17\n",
      "     The cluster mean is 87.91% of the column mean.\n"
     ]
    }
   ],
   "source": [
    "# Cluster Mean Comparison Report\n",
    "cluster_means_report(2)"
   ]
  },
  {
   "cell_type": "code",
   "execution_count": 90,
   "metadata": {
    "colab": {
     "base_uri": "https://localhost:8080/"
    },
    "id": "5JCozp8xayt_",
    "outputId": "ceacda0f-158a-476c-8154-04870a07ab8b"
   },
   "outputs": [
    {
     "data": {
      "text/plain": [
       "Negative    0.596330\n",
       "Positive    0.247706\n",
       "Unknown     0.155963\n",
       "Name: Defaulted, dtype: float64"
      ]
     },
     "execution_count": 90,
     "metadata": {},
     "output_type": "execute_result"
    }
   ],
   "source": [
    "# Dataset statistics:\n",
    "# Negative    0.608235\n",
    "# Positive    0.215294\n",
    "# Unknown     0.176471\n",
    "\n",
    "# Display column statistics.\n",
    "c2_filter = kmeans_df['cluster'] == 2\n",
    "kmeans_df[c2_filter]['Defaulted'].value_counts(normalize=True)"
   ]
  },
  {
   "cell_type": "markdown",
   "metadata": {
    "id": "c3T5SFbRoH6E"
   },
   "source": [
    "**The Highly Educated but Inexperienced Group**\n",
    "- **Years Employed is 56.6% of the average, which is highly significant.**\n",
    "- Card Debt and DebtIncomeRatio are both lower than average.\n",
    "- Age and Income are only slightly below average.\n",
    "- Default rate is only slightly above average.\n",
    "- **Edu is 203.5% of the average, which is highly significant.**\n",
    "\n",
    "Reccomend credit line increases, and additional credit offers."
   ]
  },
  {
   "cell_type": "markdown",
   "metadata": {
    "id": "JbE-5lBAuf0s"
   },
   "source": [
    "##### **Cluster 3:**"
   ]
  },
  {
   "cell_type": "code",
   "execution_count": 91,
   "metadata": {
    "colab": {
     "base_uri": "https://localhost:8080/"
    },
    "id": "SoZKi853HI5f",
    "outputId": "e54a7fc8-af37-4306-882c-737ef294f390"
   },
   "outputs": [
    {
     "name": "stdout",
     "output_type": "stream",
     "text": [
      "Cluster: 3 Mean Comparison Report\n",
      "Age: cluster mean: 31.13, column mean: 35.03\n",
      "     The cluster mean is 88.87% of the column mean.\n",
      "Edu: cluster mean: 1.32, column mean:  1.71\n",
      "     The cluster mean is 77.19% of the column mean.\n",
      "Years Employed: cluster mean: 5.37, column mean: 8.57\n",
      "     The cluster mean is 62.660000000000004% of the column mean.\n",
      "Income: cluster mean: 28.63, column mean: 46.68\n",
      "     The cluster mean is 61.33% of the column mean.\n",
      "Card Debt: cluster mean: 0.59, column mean: 1.58\n",
      "     The cluster mean is 37.34% of the column mean.\n",
      "DebtIncomeRatio: cluster mean: 7.02, column mean: 10.17\n",
      "     The cluster mean is 69.03% of the column mean.\n"
     ]
    }
   ],
   "source": [
    "# Cluster Mean Comparison Report\n",
    "cluster_means_report(3)"
   ]
  },
  {
   "cell_type": "code",
   "execution_count": 92,
   "metadata": {
    "colab": {
     "base_uri": "https://localhost:8080/"
    },
    "id": "jyiP5P3Oay27",
    "outputId": "32129b8f-9a5a-4059-9e16-499bda0778a0"
   },
   "outputs": [
    {
     "data": {
      "text/plain": [
       "Negative    0.680672\n",
       "Unknown     0.168067\n",
       "Positive    0.151261\n",
       "Name: Defaulted, dtype: float64"
      ]
     },
     "execution_count": 92,
     "metadata": {},
     "output_type": "execute_result"
    }
   ],
   "source": [
    "# Dataset statistics:\n",
    "# Negative    0.608235\n",
    "# Positive    0.215294\n",
    "# Unknown     0.176471\n",
    "\n",
    "# Display column statistics.\n",
    "c3_filter = kmeans_df['cluster'] == 3\n",
    "kmeans_df[c3_filter]['Defaulted'].value_counts(normalize=True)"
   ]
  },
  {
   "cell_type": "markdown",
   "metadata": {
    "id": "-CAXCkZEoXtt"
   },
   "source": [
    "**Young, Less Educated, Less Experienced, and Less in Debt Group**\n",
    "- **Card Debt is 37.3% of the average which is extremely highly significant.**\n",
    "- Age, Edu, Years Employed, Income, DebtIncomeRatio, and Positive Defaults are also significantly lower than average.\n",
    "\n",
    "Reccomend credit line increases, and additional credit offers."
   ]
  },
  {
   "cell_type": "markdown",
   "metadata": {
    "id": "y1jHbR0auhBk"
   },
   "source": [
    "##### **Cluster 4:**"
   ]
  },
  {
   "cell_type": "code",
   "execution_count": 93,
   "metadata": {
    "colab": {
     "base_uri": "https://localhost:8080/"
    },
    "id": "OabiLI4qHLXi",
    "outputId": "b9454423-ac4d-44fd-bd78-953c70e08be8",
    "scrolled": true
   },
   "outputs": [
    {
     "name": "stdout",
     "output_type": "stream",
     "text": [
      "Cluster: 4 Mean Comparison Report\n",
      "Age: cluster mean: 44.95, column mean: 35.03\n",
      "     The cluster mean is 128.32% of the column mean.\n",
      "Edu: cluster mean: 2.0, column mean:  1.71\n",
      "     The cluster mean is 116.96% of the column mean.\n",
      "Years Employed: cluster mean: 20.29, column mean: 8.57\n",
      "     The cluster mean is 236.76% of the column mean.\n",
      "Income: cluster mean: 170.86, column mean: 46.68\n",
      "     The cluster mean is 366.02000000000004% of the column mean.\n",
      "Card Debt: cluster mean: 11.0, column mean: 1.58\n",
      "     The cluster mean is 696.1999999999999% of the column mean.\n",
      "DebtIncomeRatio: cluster mean: 18.55, column mean: 10.17\n",
      "     The cluster mean is 182.4% of the column mean.\n"
     ]
    }
   ],
   "source": [
    "# Cluster Mean Comparison Report\n",
    "cluster_means_report(4)"
   ]
  },
  {
   "cell_type": "code",
   "execution_count": 94,
   "metadata": {
    "colab": {
     "base_uri": "https://localhost:8080/"
    },
    "id": "c5K_0PiXcC4R",
    "outputId": "62bde544-7f0e-44e4-b23a-fb18773179ca"
   },
   "outputs": [
    {
     "data": {
      "text/plain": [
       "Positive    0.428571\n",
       "Unknown     0.333333\n",
       "Negative    0.238095\n",
       "Name: Defaulted, dtype: float64"
      ]
     },
     "execution_count": 94,
     "metadata": {},
     "output_type": "execute_result"
    }
   ],
   "source": [
    "# Dataset statistics:\n",
    "# Negative    0.608235\n",
    "# Positive    0.215294\n",
    "# Unknown     0.176471\n",
    "\n",
    "# Display column statistics.\n",
    "c4_filter = kmeans_df['cluster'] == 4\n",
    "kmeans_df[c4_filter]['Defaulted'].value_counts(normalize=True)"
   ]
  },
  {
   "cell_type": "markdown",
   "metadata": {
    "id": "6si8pL5qfuyO"
   },
   "source": [
    "**Cluster 4**\n",
    "**Highly Experienced, High Income, Highly in Debt, with High Default Risk Group**\n",
    "- Age and Edu are above average.\n",
    "- DebtIncomeRatio is 182.4% of the average, which is significant.\n",
    "- Positive Default rate is 199.0% of the average, which is highly significant.\n",
    "- Years Employed is 236.8% of the average, which is highly significant.\n",
    "- Income is 366.0% of the average, which is highly significant.\n",
    "- Credit Card Debt is 696.2% of the average, which is extremely highly significant. \n",
    "\n",
    "Reccomend all accounts be closed, and no additional offers of credit be made."
   ]
  }
 ],
 "metadata": {
  "colab": {
   "collapsed_sections": [],
   "name": "KMeans Clustering - Customer Debt Profiles.ipynb",
   "provenance": [],
   "toc_visible": true
  },
  "kernelspec": {
   "display_name": "Python 3 (ipykernel)",
   "language": "python",
   "name": "python3"
  },
  "language_info": {
   "codemirror_mode": {
    "name": "ipython",
    "version": 3
   },
   "file_extension": ".py",
   "mimetype": "text/x-python",
   "name": "python",
   "nbconvert_exporter": "python",
   "pygments_lexer": "ipython3",
   "version": "3.7.12"
  },
  "toc": {
   "base_numbering": 1,
   "nav_menu": {},
   "number_sections": true,
   "sideBar": true,
   "skip_h1_title": true,
   "title_cell": "Table of Contents",
   "title_sidebar": "Contents",
   "toc_cell": false,
   "toc_position": {
    "height": "calc(100% - 180px)",
    "left": "10px",
    "top": "150px",
    "width": "319.188px"
   },
   "toc_section_display": true,
   "toc_window_display": true
  }
 },
 "nbformat": 4,
 "nbformat_minor": 1
}
